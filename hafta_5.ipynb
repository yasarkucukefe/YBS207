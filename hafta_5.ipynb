{
 "cells": [
  {
   "attachments": {
    "image.png": {
     "image/png": "[encoded data removed]"
    }
   },
   "cell_type": "markdown",
   "id": "b46d44e7",
   "metadata": {},
   "source": [
    "![image.png](attachment:image.png)"
   ]
  },
  {
   "cell_type": "code",
   "execution_count": 1,
   "id": "1d559f9f",
   "metadata": {},
   "outputs": [],
   "source": [
    "import random"
   ]
  },
  {
   "cell_type": "code",
   "execution_count": 70,
   "id": "a145f129",
   "metadata": {},
   "outputs": [
    {
     "name": "stdout",
     "output_type": "stream",
     "text": [
      "0.741731629184943 0.5275781005356479\n"
     ]
    }
   ],
   "source": [
    "x = random.uniform(0,1.000000001)\n",
    "y = random.uniform(0,1.000000001)\n",
    "print(x,y)"
   ]
  },
  {
   "cell_type": "code",
   "execution_count": 75,
   "id": "bbb4a3ca",
   "metadata": {},
   "outputs": [],
   "source": [
    "def daireninIcindeMi(x,y):\n",
    "    r2 = x**2 + y**2\n",
    "    if r2 <= 1:\n",
    "        return True\n",
    "    else:\n",
    "        return False"
   ]
  },
  {
   "cell_type": "code",
   "execution_count": 204,
   "id": "937935ba",
   "metadata": {},
   "outputs": [
    {
     "name": "stdout",
     "output_type": "stream",
     "text": [
      "3.1418436\n"
     ]
    }
   ],
   "source": [
    "sum = 0\n",
    "dene = 10000000\n",
    "for i in range(dene):\n",
    "    x = random.uniform(0,1.000000001)\n",
    "    y = random.uniform(0,1.000000001)\n",
    "    if (daireninIcindeMi(x,y)):\n",
    "        sum += 1 # sum = sum +  1\n",
    "\n",
    "pi = 4 * sum / dene\n",
    "print(pi)"
   ]
  },
  {
   "cell_type": "markdown",
   "id": "6ba768b7",
   "metadata": {},
   "source": [
    "# Tamsayının ters çevrilmesi (Integer reverse)"
   ]
  },
  {
   "cell_type": "code",
   "execution_count": 218,
   "id": "76e29acf",
   "metadata": {},
   "outputs": [],
   "source": [
    "# 92838747 => 74783829\n",
    "# 492 => 294\n",
    "def reverseInt(sayi):\n",
    "    string = str(sayi)\n",
    "    return string[::-1]"
   ]
  },
  {
   "cell_type": "code",
   "execution_count": 219,
   "id": "0d522dcd",
   "metadata": {},
   "outputs": [
    {
     "data": {
      "text/plain": [
       "'294'"
      ]
     },
     "execution_count": 219,
     "metadata": {},
     "output_type": "execute_result"
    }
   ],
   "source": [
    "reverseInt(492)"
   ]
  },
  {
   "cell_type": "code",
   "execution_count": 205,
   "id": "1b04afeb",
   "metadata": {},
   "outputs": [
    {
     "data": {
      "text/plain": [
       "1"
      ]
     },
     "execution_count": 205,
     "metadata": {},
     "output_type": "execute_result"
    }
   ],
   "source": [
    "4 % 3"
   ]
  },
  {
   "cell_type": "code",
   "execution_count": 206,
   "id": "38c84cba",
   "metadata": {},
   "outputs": [],
   "source": [
    "import math"
   ]
  },
  {
   "cell_type": "code",
   "execution_count": 217,
   "id": "43bcab91",
   "metadata": {},
   "outputs": [
    {
     "name": "stdout",
     "output_type": "stream",
     "text": [
      "498\n",
      "894\n"
     ]
    }
   ],
   "source": [
    "sayi = 498\n",
    "print(sayi)\n",
    "ters = 0\n",
    "while sayi > 0:\n",
    "    gecici = sayi % 10\n",
    "    ters = (ters * 10) + gecici\n",
    "    sayi = sayi // 10\n",
    "print(ters)     "
   ]
  },
  {
   "cell_type": "code",
   "execution_count": 211,
   "id": "35167a7a",
   "metadata": {},
   "outputs": [
    {
     "data": {
      "text/plain": [
       "11"
      ]
     },
     "execution_count": 211,
     "metadata": {},
     "output_type": "execute_result"
    }
   ],
   "source": [
    "116 // 10"
   ]
  },
  {
   "cell_type": "code",
   "execution_count": 225,
   "id": "ad094efa",
   "metadata": {},
   "outputs": [
    {
     "name": "stdout",
     "output_type": "stream",
     "text": [
      "inedam samlE\n",
      "inedam saml\n"
     ]
    }
   ],
   "source": [
    "# Sınavda çıkabilecek tipte bir soru:\n",
    "kelime = \"Elmas madeni\"\n",
    "print(kelime[::-1]) # inedam samlE\n",
    "print(kelime[:0:-1]) # inedam saml"
   ]
  },
  {
   "cell_type": "code",
   "execution_count": 226,
   "id": "5bb62e3c",
   "metadata": {},
   "outputs": [],
   "source": [
    "liste = 1,2,3,4"
   ]
  },
  {
   "cell_type": "code",
   "execution_count": 227,
   "id": "fd36aaa9",
   "metadata": {},
   "outputs": [
    {
     "data": {
      "text/plain": [
       "3"
      ]
     },
     "execution_count": 227,
     "metadata": {},
     "output_type": "execute_result"
    }
   ],
   "source": [
    "liste[2]"
   ]
  },
  {
   "cell_type": "code",
   "execution_count": 228,
   "id": "f2ced9d1",
   "metadata": {},
   "outputs": [
    {
     "data": {
      "text/plain": [
       "tuple"
      ]
     },
     "execution_count": 228,
     "metadata": {},
     "output_type": "execute_result"
    }
   ],
   "source": [
    "type(liste) # tuple  (sınavda benzer soru çıkabilir)"
   ]
  },
  {
   "cell_type": "markdown",
   "id": "8689a4cb",
   "metadata": {},
   "source": [
    "## Monotonic array\n",
    "Sürekli artan veya azalan elemanları olan listeler (aynı da kalabilirler)\n",
    "[1,4,6] => monotonic\n",
    "[8,6,1] => monotonic\n",
    "[2,6,3] => değil"
   ]
  },
  {
   "cell_type": "code",
   "execution_count": 230,
   "id": "a302f289",
   "metadata": {},
   "outputs": [
    {
     "data": {
      "text/plain": [
       "True"
      ]
     },
     "execution_count": 230,
     "metadata": {},
     "output_type": "execute_result"
    }
   ],
   "source": [
    "all([1>0,3>2,1<3]) # true\n",
    "# https://www.w3schools.com/python/ref_func_all.asp"
   ]
  },
  {
   "cell_type": "code",
   "execution_count": 231,
   "id": "fea5f11e",
   "metadata": {},
   "outputs": [
    {
     "data": {
      "text/plain": [
       "False"
      ]
     },
     "execution_count": 231,
     "metadata": {},
     "output_type": "execute_result"
    }
   ],
   "source": [
    "all([1>0,3>2,1>3]) # false"
   ]
  },
  {
   "cell_type": "code",
   "execution_count": 232,
   "id": "3766fdbb",
   "metadata": {},
   "outputs": [
    {
     "data": {
      "text/plain": [
       "[4, 25, 49, 81]"
      ]
     },
     "execution_count": 232,
     "metadata": {},
     "output_type": "execute_result"
    }
   ],
   "source": [
    "liste = [2,5,7,9]\n",
    "\n",
    "[i**2 for i in liste] # List comprehension"
   ]
  },
  {
   "cell_type": "code",
   "execution_count": 233,
   "id": "d80d001a",
   "metadata": {},
   "outputs": [
    {
     "data": {
      "text/plain": [
       "[True, False, False, False]"
      ]
     },
     "execution_count": 233,
     "metadata": {},
     "output_type": "execute_result"
    }
   ],
   "source": [
    "[i**2==i*2 for i in liste] # List comprehension"
   ]
  },
  {
   "cell_type": "code",
   "execution_count": 234,
   "id": "d51d8af7",
   "metadata": {},
   "outputs": [
    {
     "data": {
      "text/plain": [
       "[0, 1, 2]"
      ]
     },
     "execution_count": 234,
     "metadata": {},
     "output_type": "execute_result"
    }
   ],
   "source": [
    "[i for i in range(len(liste)-1)]"
   ]
  },
  {
   "cell_type": "code",
   "execution_count": 235,
   "id": "ef91f5c1",
   "metadata": {},
   "outputs": [
    {
     "data": {
      "text/plain": [
       "[2, 5, 7]"
      ]
     },
     "execution_count": 235,
     "metadata": {},
     "output_type": "execute_result"
    }
   ],
   "source": [
    "[liste[i] for i in range(len(liste)-1)]"
   ]
  },
  {
   "cell_type": "code",
   "execution_count": 236,
   "id": "72683401",
   "metadata": {},
   "outputs": [
    {
     "data": {
      "text/plain": [
       "[(2, 5), (5, 7), (7, 9)]"
      ]
     },
     "execution_count": 236,
     "metadata": {},
     "output_type": "execute_result"
    }
   ],
   "source": [
    "[(liste[i],liste[i+1]) for i in range(len(liste)-1)]"
   ]
  },
  {
   "cell_type": "code",
   "execution_count": 237,
   "id": "c0a60544",
   "metadata": {},
   "outputs": [
    {
     "data": {
      "text/plain": [
       "[True, True, True]"
      ]
     },
     "execution_count": 237,
     "metadata": {},
     "output_type": "execute_result"
    }
   ],
   "source": [
    "[liste[i+1]>=liste[i] for i in range(len(liste)-1)]"
   ]
  },
  {
   "cell_type": "code",
   "execution_count": 242,
   "id": "b7214bca",
   "metadata": {},
   "outputs": [
    {
     "data": {
      "text/plain": [
       "[True, True, True, False]"
      ]
     },
     "execution_count": 242,
     "metadata": {},
     "output_type": "execute_result"
    }
   ],
   "source": [
    "liste = [2,5,7,9,5]\n",
    "[liste[i]<=liste[i+1] for i in range(len(liste)-1)]"
   ]
  },
  {
   "cell_type": "code",
   "execution_count": 243,
   "id": "9e416795",
   "metadata": {},
   "outputs": [
    {
     "data": {
      "text/plain": [
       "[False, False, False, True]"
      ]
     },
     "execution_count": 243,
     "metadata": {},
     "output_type": "execute_result"
    }
   ],
   "source": [
    "[liste[i]>=liste[i+1] for i in range(len(liste)-1)]"
   ]
  },
  {
   "cell_type": "code",
   "execution_count": 244,
   "id": "04f78fa0",
   "metadata": {},
   "outputs": [
    {
     "data": {
      "text/plain": [
       "False"
      ]
     },
     "execution_count": 244,
     "metadata": {},
     "output_type": "execute_result"
    }
   ],
   "source": [
    "all([liste[i]<=liste[i+1] for i in range(len(liste)-1)]) # sürekli artan"
   ]
  },
  {
   "cell_type": "code",
   "execution_count": 245,
   "id": "c0c4fb4a",
   "metadata": {},
   "outputs": [
    {
     "data": {
      "text/plain": [
       "False"
      ]
     },
     "execution_count": 245,
     "metadata": {},
     "output_type": "execute_result"
    }
   ],
   "source": [
    "all([liste[i]>=liste[i+1] for i in range(len(liste)-1)]) # sürekli azalan"
   ]
  },
  {
   "cell_type": "code",
   "execution_count": 246,
   "id": "624156b3",
   "metadata": {},
   "outputs": [
    {
     "data": {
      "text/plain": [
       "True"
      ]
     },
     "execution_count": 246,
     "metadata": {},
     "output_type": "execute_result"
    }
   ],
   "source": [
    "liste = [2,5,7,9,12]\n",
    "\n",
    "any([all([liste[i]<=liste[i+1] for i in range(len(liste)-1)]),all([liste[i]>=liste[i+1] for i in range(len(liste)-1)])])"
   ]
  },
  {
   "cell_type": "code",
   "execution_count": 254,
   "id": "8ca6ef28",
   "metadata": {},
   "outputs": [],
   "source": [
    "def artanCheck(liste):\n",
    "    return all([liste[i]<=liste[i+1] for i in range(len(liste)-1)])\n",
    "\n",
    "def azalanCheck(liste):\n",
    "    return all([liste[i]>=liste[i+1] for i in range(len(liste)-1)])\n",
    "\n",
    "def monotonicCheck(liste):\n",
    "    return any([artanCheck(liste),azalanCheck(liste)])"
   ]
  },
  {
   "cell_type": "code",
   "execution_count": 255,
   "id": "a5e8a1bd",
   "metadata": {},
   "outputs": [
    {
     "data": {
      "text/plain": [
       "True"
      ]
     },
     "execution_count": 255,
     "metadata": {},
     "output_type": "execute_result"
    }
   ],
   "source": [
    "monotonicCheck(liste = [2,5,7,9,12])"
   ]
  },
  {
   "cell_type": "code",
   "execution_count": 256,
   "id": "e5919622",
   "metadata": {},
   "outputs": [
    {
     "data": {
      "text/plain": [
       "True"
      ]
     },
     "execution_count": 256,
     "metadata": {},
     "output_type": "execute_result"
    }
   ],
   "source": [
    "monotonicCheck(liste = [12,8,3,1])"
   ]
  },
  {
   "cell_type": "code",
   "execution_count": 257,
   "id": "9608a633",
   "metadata": {},
   "outputs": [
    {
     "data": {
      "text/plain": [
       "False"
      ]
     },
     "execution_count": 257,
     "metadata": {},
     "output_type": "execute_result"
    }
   ],
   "source": [
    "monotonicCheck(liste = [12,8,3,1,4])"
   ]
  },
  {
   "cell_type": "markdown",
   "id": "8d8cd7e8",
   "metadata": {},
   "source": [
    "# Liste"
   ]
  },
  {
   "cell_type": "code",
   "execution_count": 259,
   "id": "71796fe0",
   "metadata": {},
   "outputs": [],
   "source": [
    "class Kisi:\n",
    "    def __init__(self,isim,id_no):\n",
    "        self.isim = isim \n",
    "        self.id_no = id_no\n",
    "        self.sonraki = None"
   ]
  },
  {
   "cell_type": "code",
   "execution_count": 321,
   "id": "e233388f",
   "metadata": {},
   "outputs": [],
   "source": [
    "class Liste(Kisi):\n",
    "    def __init__(self):\n",
    "        self.liste = []\n",
    "    \n",
    "    def len(self):\n",
    "        return len(self.liste)\n",
    "    \n",
    "    def ekle(self,isim,id_no):\n",
    "        # mevcut liste \"sonraki\" alanı None olan kişi => id_no olmalı\n",
    "        yeni_isim = Kisi(isim,id_no)\n",
    "        for mevcut in self.liste:\n",
    "            if mevcut.sonraki is None:\n",
    "                mevcut.sonraki = id_no\n",
    "                break\n",
    "        self.liste.append(yeni_isim)\n",
    "        \n",
    "    def tum_sonraki_ids(self):\n",
    "        id_list = []\n",
    "        for item in self.liste:\n",
    "            id_list.append(item.sonraki)\n",
    "        return id_list\n",
    "    \n",
    "    def get_kisi_by_sonraki(self,sonraki):\n",
    "        for kisi in self.liste:\n",
    "            if kisi.sonraki == sonraki:\n",
    "                return kisi\n",
    "        return None\n",
    "        \n",
    "    def ilk_eleman_olarak_ekle(self,isim,id_no):\n",
    "        yeni_isim = Kisi(isim,id_no)\n",
    "        #ilk eleman\n",
    "        ilk_kisi_id = None\n",
    "        tum_son_ids = self.tum_sonraki_ids()\n",
    "        for mevcut in self.liste:\n",
    "            if mevcut.id_no not in tum_son_ids:\n",
    "                ilk_kisi_id = mevcut.id_no\n",
    "                break\n",
    "        if ilk_kisi_id is not None:\n",
    "            yeni_isim.sonraki = ilk_kisi_id\n",
    "            self.liste.append(yeni_isim)\n",
    "    \n",
    "    def setOncekiAsSon(self,sonraki_id):\n",
    "        for kisi in self.liste:\n",
    "            if kisi.sonraki == sonraki_id:\n",
    "                kisi.sonraki = None\n",
    "    \n",
    "    \n",
    "    def son_eleman_pop(self):\n",
    "        if(len(self.liste)==0):\n",
    "            return\n",
    "        son_kisi = None\n",
    "        for kisi in self.liste:\n",
    "            if kisi.sonraki is None:\n",
    "                son_kisi = kisi\n",
    "                break\n",
    "        if(len(self.liste)>1):\n",
    "            self.setOncekiAsSon(son_kisi.id_no)\n",
    "        self.liste.pop()\n",
    "            \n",
    "    \n",
    "    def ilk_eleman_drop(self):\n",
    "        pass\n",
    "    \n",
    "    def ortaya_ekle(self,isim,id_no,index):\n",
    "        pass\n",
    "    \n",
    "    def ortadan_drop(self,index):\n",
    "        pass\n",
    "    \n",
    "    def ordered_list(self):\n",
    "        order_list = []\n",
    "        if len(self.liste)==0:\n",
    "            return None\n",
    "        \n",
    "        son_kisi = None\n",
    "        for kisi in self.liste:\n",
    "            if kisi.sonraki is None:\n",
    "                son_kisi = kisi\n",
    "                order_list.append(kisi)\n",
    "                break\n",
    "        #sondan bir önceki?\n",
    "        while True:\n",
    "            bir_onceki = self.get_kisi_by_sonraki(son_kisi.id_no)\n",
    "            if bir_onceki is None:\n",
    "                break\n",
    "            order_list.append(bir_onceki)\n",
    "            son_kisi = bir_onceki\n",
    "        \n",
    "        for isim in reversed(order_list):\n",
    "            print(isim.isim,isim.id_no,isim.sonraki)\n",
    "    \n",
    "    def listele(self):\n",
    "        for isim in self.liste:\n",
    "            print(isim.isim,isim.id_no,isim.sonraki)"
   ]
  },
  {
   "cell_type": "code",
   "execution_count": 320,
   "id": "14222df9",
   "metadata": {},
   "outputs": [
    {
     "name": "stdout",
     "output_type": "stream",
     "text": [
      "Çelebi 1 2\n",
      "Kaan 2 3\n",
      "Nilda 3 4\n",
      "Zeynep 4 5\n",
      "Yağmur 5 None\n",
      "----- Yeni Liste ----\n",
      "Çelebi 1 2\n",
      "Kaan 2 3\n",
      "Nilda 3 4\n",
      "Zeynep 4 None\n",
      "----- Yeni Liste ----\n",
      "Çelebi 1 2\n",
      "Kaan 2 3\n",
      "Nilda 3 None\n",
      "----- Yeni Liste ----\n",
      "Çelebi 1 2\n",
      "Kaan 2 None\n",
      "----- Yeni Liste ----\n",
      "Çelebi 1 None\n",
      "----- Yeni Liste ----\n"
     ]
    },
    {
     "ename": "IndexError",
     "evalue": "pop from empty list",
     "output_type": "error",
     "traceback": [
      "\u001b[1;31m---------------------------------------------------------------------------\u001b[0m",
      "\u001b[1;31mIndexError\u001b[0m                                Traceback (most recent call last)",
      "\u001b[1;32m~\\AppData\\Local\\Temp/ipykernel_21156/991421330.py\u001b[0m in \u001b[0;36m<module>\u001b[1;34m\u001b[0m\n\u001b[0;32m     22\u001b[0m \u001b[0mprint\u001b[0m\u001b[1;33m(\u001b[0m\u001b[1;34m\"----- Yeni Liste ----\"\u001b[0m\u001b[1;33m)\u001b[0m\u001b[1;33m\u001b[0m\u001b[1;33m\u001b[0m\u001b[0m\n\u001b[0;32m     23\u001b[0m \u001b[0mliste\u001b[0m\u001b[1;33m.\u001b[0m\u001b[0mordered_list\u001b[0m\u001b[1;33m(\u001b[0m\u001b[1;33m)\u001b[0m\u001b[1;33m\u001b[0m\u001b[1;33m\u001b[0m\u001b[0m\n\u001b[1;32m---> 24\u001b[1;33m \u001b[0mliste\u001b[0m\u001b[1;33m.\u001b[0m\u001b[0mson_eleman_pop\u001b[0m\u001b[1;33m(\u001b[0m\u001b[1;33m)\u001b[0m\u001b[1;33m\u001b[0m\u001b[1;33m\u001b[0m\u001b[0m\n\u001b[0m",
      "\u001b[1;32m~\\AppData\\Local\\Temp/ipykernel_21156/1346077076.py\u001b[0m in \u001b[0;36mson_eleman_pop\u001b[1;34m(self)\u001b[0m\n\u001b[0;32m     54\u001b[0m         \u001b[1;32mif\u001b[0m\u001b[1;33m(\u001b[0m\u001b[0mlen\u001b[0m\u001b[1;33m(\u001b[0m\u001b[0mself\u001b[0m\u001b[1;33m.\u001b[0m\u001b[0mliste\u001b[0m\u001b[1;33m)\u001b[0m\u001b[1;33m>\u001b[0m\u001b[1;36m1\u001b[0m\u001b[1;33m)\u001b[0m\u001b[1;33m:\u001b[0m\u001b[1;33m\u001b[0m\u001b[1;33m\u001b[0m\u001b[0m\n\u001b[0;32m     55\u001b[0m             \u001b[0mself\u001b[0m\u001b[1;33m.\u001b[0m\u001b[0msetOncekiAsSon\u001b[0m\u001b[1;33m(\u001b[0m\u001b[0mson_kisi\u001b[0m\u001b[1;33m.\u001b[0m\u001b[0mid_no\u001b[0m\u001b[1;33m)\u001b[0m\u001b[1;33m\u001b[0m\u001b[1;33m\u001b[0m\u001b[0m\n\u001b[1;32m---> 56\u001b[1;33m         \u001b[0mself\u001b[0m\u001b[1;33m.\u001b[0m\u001b[0mliste\u001b[0m\u001b[1;33m.\u001b[0m\u001b[0mpop\u001b[0m\u001b[1;33m(\u001b[0m\u001b[1;33m)\u001b[0m\u001b[1;33m\u001b[0m\u001b[1;33m\u001b[0m\u001b[0m\n\u001b[0m\u001b[0;32m     57\u001b[0m \u001b[1;33m\u001b[0m\u001b[0m\n\u001b[0;32m     58\u001b[0m \u001b[1;33m\u001b[0m\u001b[0m\n",
      "\u001b[1;31mIndexError\u001b[0m: pop from empty list"
     ]
    }
   ],
   "source": [
    "liste = Liste()\n",
    "liste.ekle(\"Çelebi\",1)\n",
    "liste.ekle(\"Kaan\",2)\n",
    "liste.ekle(\"Nilda\",3)\n",
    "liste.ekle(\"Zeynep\",4)\n",
    "liste.ekle(\"Yağmur\",5)\n",
    "liste.ordered_list()\n",
    "#\n",
    "liste.son_eleman_pop()\n",
    "print(\"----- Yeni Liste ----\")\n",
    "liste.ordered_list()\n",
    "liste.son_eleman_pop()\n",
    "print(\"----- Yeni Liste ----\")\n",
    "liste.ordered_list()\n",
    "liste.son_eleman_pop()\n",
    "print(\"----- Yeni Liste ----\")\n",
    "liste.ordered_list()\n",
    "liste.son_eleman_pop()\n",
    "print(\"----- Yeni Liste ----\")\n",
    "liste.ordered_list()\n",
    "liste.son_eleman_pop()\n",
    "print(\"----- Yeni Liste ----\")\n",
    "liste.ordered_list()\n",
    "liste.son_eleman_pop()"
   ]
  }
 ],
 "metadata": {
  "kernelspec": {
   "display_name": "Python 3 (ipykernel)",
   "language": "python",
   "name": "python3"
  },
  "language_info": {
   "codemirror_mode": {
    "name": "ipython",
    "version": 3
   },
   "file_extension": ".py",
   "mimetype": "text/x-python",
   "name": "python",
   "nbconvert_exporter": "python",
   "pygments_lexer": "ipython3",
   "version": "3.9.5"
  }
 },
 "nbformat": 4,
 "nbformat_minor": 5
}
