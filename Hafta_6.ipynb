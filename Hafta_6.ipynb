{
 "cells": [
  {
   "cell_type": "code",
   "execution_count": 28,
   "id": "01d9fdfa",
   "metadata": {},
   "outputs": [],
   "source": [
    "# EBOB hesaplama => En Büyük Ortak Bölen\n",
    "# https://www.derspresso.com.tr/matematik/bolen-kat/ebob\n",
    "\n"
   ]
  },
  {
   "cell_type": "code",
   "execution_count": 13,
   "id": "e75026ba",
   "metadata": {},
   "outputs": [],
   "source": [
    "\n",
    "from math import sqrt\n",
    "\n",
    "\n",
    "def is_prime_number(n):\n",
    "    # this flag maintains status whether the n is prime or not\n",
    "    prime_flag = 0\n",
    "    if(n > 1):\n",
    "        for i in range(2, int(sqrt(n)) + 1):\n",
    "            if (n % i == 0):\n",
    "                prime_flag = 1\n",
    "                break\n",
    "        if (prime_flag == 0):\n",
    "            return True\n",
    "        else:\n",
    "            return False\n",
    "    else:\n",
    "        return False"
   ]
  },
  {
   "cell_type": "code",
   "execution_count": 19,
   "id": "a32032f9",
   "metadata": {},
   "outputs": [],
   "source": [
    "def sonraki_asal_sayi(n):\n",
    "    while True:\n",
    "        if is_prime_number(n + 1):\n",
    "            return n + 1\n",
    "        n = n + 1"
   ]
  },
  {
   "cell_type": "code",
   "execution_count": 27,
   "id": "fcc48140",
   "metadata": {},
   "outputs": [
    {
     "name": "stdout",
     "output_type": "stream",
     "text": [
      "2\n",
      "3\n",
      "5\n",
      "7\n",
      "11\n",
      "13\n",
      "17\n",
      "19\n",
      "23\n",
      "29\n",
      "31\n",
      "37\n",
      "41\n",
      "43\n",
      "47\n",
      "53\n",
      "59\n",
      "61\n",
      "67\n",
      "71\n",
      "73\n",
      "79\n",
      "83\n",
      "89\n",
      "97\n"
     ]
    }
   ],
   "source": [
    "sayi = 2\n",
    "while sayi < 100:\n",
    "    print(sayi)\n",
    "    sayi = sonraki_asal_sayi(sayi)"
   ]
  },
  {
   "cell_type": "code",
   "execution_count": 36,
   "id": "61735bed",
   "metadata": {},
   "outputs": [
    {
     "name": "stdout",
     "output_type": "stream",
     "text": [
      "465 255\n",
      "465 255 3\n",
      "155.0 85.0 3\n",
      "155.0 85.0 5\n",
      "31.0 17.0 5\n",
      "31.0 17.0 7\n",
      "31.0 17.0 11\n",
      "31.0 17.0 13\n",
      "31.0 17.0 17\n",
      "31.0 1.0 17\n",
      "31.0 1.0 19\n",
      "31.0 1.0 23\n",
      "31.0 1.0 29\n",
      "31.0 1.0 31\n",
      "1.0 1.0 31\n",
      "1.0 1.0\n",
      "[3, 5]\n",
      "EBOB = 15\n"
     ]
    }
   ],
   "source": [
    "say1 = 465\n",
    "say2 = 255\n",
    "bolen = 2\n",
    "liste = []\n",
    "\n",
    "print(say1, say2)\n",
    "\n",
    "while (say1 > 1 or say2 > 1):  \n",
    "    if(say1 % bolen == 0 and say2 % bolen == 0):\n",
    "        liste.append(bolen)\n",
    "        say1 = say1 / bolen\n",
    "        say2 = say2 / bolen\n",
    "    elif say1 % bolen == 0:\n",
    "        say1 = say1 / bolen\n",
    "    elif say2 % bolen == 0:\n",
    "        say2 = say2 / bolen\n",
    "    else:\n",
    "        bolen = sonraki_asal_sayi(bolen)\n",
    "    print(say1, say2, bolen)\n",
    "    \n",
    "print(say1,say2)\n",
    "print(liste)\n",
    "\n",
    "ebob = 1\n",
    "for i in liste:\n",
    "    ebob *= i\n",
    "print(f\"EBOB = {ebob}\")"
   ]
  },
  {
   "cell_type": "markdown",
   "id": "bbb98698",
   "metadata": {},
   "source": [
    "## Alternatif Yöntem"
   ]
  },
  {
   "cell_type": "code",
   "execution_count": 41,
   "id": "6a5ab7d0",
   "metadata": {},
   "outputs": [],
   "source": [
    "def hesapla_mod_ve_yer_degistir(a, b):\n",
    "    yeni = a % b\n",
    "    return b, yeni"
   ]
  },
  {
   "cell_type": "code",
   "execution_count": 53,
   "id": "3e206f45",
   "metadata": {},
   "outputs": [],
   "source": [
    "say1 = 465\n",
    "say2 = 255"
   ]
  },
  {
   "cell_type": "code",
   "execution_count": 54,
   "id": "9543e01d",
   "metadata": {},
   "outputs": [
    {
     "name": "stdout",
     "output_type": "stream",
     "text": [
      "465 255\n",
      "EBOB = 15\n"
     ]
    }
   ],
   "source": [
    "print(say1,say2)\n",
    "\n",
    "while say2 > 0:\n",
    "    say1, say2 = hesapla_mod_ve_yer_degistir(say1, say2)\n",
    "\n",
    "ebob = say1\n",
    "print(f\"EBOB = {ebob}\")"
   ]
  },
  {
   "cell_type": "markdown",
   "id": "40062b07",
   "metadata": {},
   "source": [
    "## Pascal Üçgeni"
   ]
  },
  {
   "cell_type": "code",
   "execution_count": 73,
   "id": "3c9f066f",
   "metadata": {},
   "outputs": [],
   "source": [
    "def pascal_ucgeni(n):\n",
    "    if n == 1:\n",
    "        return [1]\n",
    "    if n == 2:\n",
    "        return [1, 1]\n",
    "    return \"?\""
   ]
  },
  {
   "cell_type": "code",
   "execution_count": 56,
   "id": "14c8c927",
   "metadata": {},
   "outputs": [
    {
     "data": {
      "text/plain": [
       "[1]"
      ]
     },
     "execution_count": 56,
     "metadata": {},
     "output_type": "execute_result"
    }
   ],
   "source": [
    "[1]"
   ]
  },
  {
   "cell_type": "code",
   "execution_count": 57,
   "id": "712614dd",
   "metadata": {},
   "outputs": [
    {
     "data": {
      "text/plain": [
       "[1, 1]"
      ]
     },
     "execution_count": 57,
     "metadata": {},
     "output_type": "execute_result"
    }
   ],
   "source": [
    "[1,1]"
   ]
  },
  {
   "cell_type": "code",
   "execution_count": 58,
   "id": "bf7ec520",
   "metadata": {},
   "outputs": [
    {
     "data": {
      "text/plain": [
       "[1, 2, 1]"
      ]
     },
     "execution_count": 58,
     "metadata": {},
     "output_type": "execute_result"
    }
   ],
   "source": [
    "[1, 2, 1]"
   ]
  },
  {
   "cell_type": "code",
   "execution_count": 59,
   "id": "1168ceb4",
   "metadata": {},
   "outputs": [],
   "source": [
    "liste = [1]"
   ]
  },
  {
   "cell_type": "code",
   "execution_count": 68,
   "id": "6a29dbc3",
   "metadata": {},
   "outputs": [],
   "source": [
    "liste = [1, 2, 1]"
   ]
  },
  {
   "cell_type": "code",
   "execution_count": 69,
   "id": "bbc2fa2a",
   "metadata": {},
   "outputs": [
    {
     "name": "stdout",
     "output_type": "stream",
     "text": [
      "[1, 3, 3, 1]\n"
     ]
    }
   ],
   "source": [
    "pascal = [1]\n",
    "for i in range(len(liste)-1):\n",
    "    pascal.append(liste[i]+liste[i+1])\n",
    "pascal.append(1)\n",
    "print(pascal)"
   ]
  },
  {
   "cell_type": "code",
   "execution_count": 70,
   "id": "dc4fdff2",
   "metadata": {},
   "outputs": [],
   "source": [
    "# Recursive fonksiyonlar\n",
    "def faktoriyel(n):\n",
    "    if n == 1:\n",
    "        return 1\n",
    "    return n * faktoriyel(n-1)"
   ]
  },
  {
   "cell_type": "code",
   "execution_count": 71,
   "id": "dd1f21c1",
   "metadata": {},
   "outputs": [],
   "source": [
    "# 6! = 6 * 5 * 4 * 3 * 2 * 1"
   ]
  },
  {
   "cell_type": "code",
   "execution_count": 72,
   "id": "186db7ad",
   "metadata": {},
   "outputs": [
    {
     "data": {
      "text/plain": [
       "720"
      ]
     },
     "execution_count": 72,
     "metadata": {},
     "output_type": "execute_result"
    }
   ],
   "source": [
    "faktoriyel(6)"
   ]
  },
  {
   "cell_type": "code",
   "execution_count": 75,
   "id": "f1b4057b",
   "metadata": {},
   "outputs": [
    {
     "data": {
      "text/plain": [
       "[1, 1]"
      ]
     },
     "execution_count": 75,
     "metadata": {},
     "output_type": "execute_result"
    }
   ],
   "source": [
    "# Pascal ücgeni devam\n",
    "pascal_ucgeni(2)\n"
   ]
  },
  {
   "cell_type": "code",
   "execution_count": 76,
   "id": "8b9b0e3e",
   "metadata": {},
   "outputs": [],
   "source": [
    "def pascal_ucgen_list(liste):\n",
    "    pascal = [1]\n",
    "    for i in range(len(liste)-1):\n",
    "        pascal.append(liste[i]+liste[i+1])\n",
    "    pascal.append(1)\n",
    "    return pascal"
   ]
  },
  {
   "cell_type": "code",
   "execution_count": 79,
   "id": "071e06be",
   "metadata": {},
   "outputs": [
    {
     "data": {
      "text/plain": [
       "[1, 3, 3, 1]"
      ]
     },
     "execution_count": 79,
     "metadata": {},
     "output_type": "execute_result"
    }
   ],
   "source": [
    "pascal_ucgen_list([1,2,1])"
   ]
  },
  {
   "cell_type": "code",
   "execution_count": 83,
   "id": "165fc29b",
   "metadata": {},
   "outputs": [
    {
     "name": "stdout",
     "output_type": "stream",
     "text": [
      "[1]\n",
      "[1, 1]\n",
      "[1, 2, 1]\n",
      "[1, 3, 3, 1]\n",
      "[1, 4, 6, 4, 1]\n",
      "[1, 5, 10, 10, 5, 1]\n",
      "[1, 6, 15, 20, 15, 6, 1]\n",
      "[1, 7, 21, 35, 35, 21, 7, 1]\n",
      "[1, 8, 28, 56, 70, 56, 28, 8, 1]\n",
      "[1, 9, 36, 84, 126, 126, 84, 36, 9, 1]\n",
      "[1, 10, 45, 120, 210, 252, 210, 120, 45, 10, 1]\n",
      "[1, 11, 55, 165, 330, 462, 462, 330, 165, 55, 11, 1]\n",
      "[1, 12, 66, 220, 495, 792, 924, 792, 495, 220, 66, 12, 1]\n",
      "[1, 13, 78, 286, 715, 1287, 1716, 1716, 1287, 715, 286, 78, 13, 1]\n",
      "[1, 14, 91, 364, 1001, 2002, 3003, 3432, 3003, 2002, 1001, 364, 91, 14, 1]\n",
      "[1, 15, 105, 455, 1365, 3003, 5005, 6435, 6435, 5005, 3003, 1365, 455, 105, 15, 1]\n",
      "[1, 16, 120, 560, 1820, 4368, 8008, 11440, 12870, 11440, 8008, 4368, 1820, 560, 120, 16, 1]\n",
      "[1, 17, 136, 680, 2380, 6188, 12376, 19448, 24310, 24310, 19448, 12376, 6188, 2380, 680, 136, 17, 1]\n",
      "[1, 18, 153, 816, 3060, 8568, 18564, 31824, 43758, 48620, 43758, 31824, 18564, 8568, 3060, 816, 153, 18, 1]\n",
      "[1, 19, 171, 969, 3876, 11628, 27132, 50388, 75582, 92378, 92378, 75582, 50388, 27132, 11628, 3876, 969, 171, 19, 1]\n",
      "[1, 20, 190, 1140, 4845, 15504, 38760, 77520, 125970, 167960, 184756, 167960, 125970, 77520, 38760, 15504, 4845, 1140, 190, 20, 1]\n"
     ]
    }
   ],
   "source": [
    "liste = [1]\n",
    "print(liste)\n",
    "for i in range(20):\n",
    "    liste = pascal_ucgen_list(liste)\n",
    "    print(liste)"
   ]
  },
  {
   "cell_type": "code",
   "execution_count": 84,
   "id": "f6cc733b",
   "metadata": {},
   "outputs": [],
   "source": [
    "#https://algorithm-visualizer.org/dynamic-programming/pascals-triangle"
   ]
  },
  {
   "attachments": {
    "image.png": {
     "image/png": "[encoded data removed]"
    }
   },
   "cell_type": "markdown",
   "id": "2148e3e5",
   "metadata": {},
   "source": [
    "![image.png](attachment:image.png)"
   ]
  },
  {
   "cell_type": "markdown",
   "id": "de72f04f",
   "metadata": {},
   "source": [
    "## Catalan sayısı hesaplama"
   ]
  },
  {
   "cell_type": "code",
   "execution_count": 104,
   "id": "c00a8979",
   "metadata": {},
   "outputs": [],
   "source": [
    "# 2. Ödev olarak verildi"
   ]
  }
 ],
 "metadata": {
  "kernelspec": {
   "display_name": "Python 3 (ipykernel)",
   "language": "python",
   "name": "python3"
  },
  "language_info": {
   "codemirror_mode": {
    "name": "ipython",
    "version": 3
   },
   "file_extension": ".py",
   "mimetype": "text/x-python",
   "name": "python",
   "nbconvert_exporter": "python",
   "pygments_lexer": "ipython3",
   "version": "3.10.8"
  }
 },
 "nbformat": 4,
 "nbformat_minor": 5
}
