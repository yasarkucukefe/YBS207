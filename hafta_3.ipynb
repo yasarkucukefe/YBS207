{
 "cells": [
  {
   "cell_type": "code",
   "execution_count": 1,
   "id": "699c049f",
   "metadata": {},
   "outputs": [],
   "source": [
    "# Sayısal Loto\n",
    "# 1'den 49'a kadar toplam 8 sayı seçilecek\n",
    "# aynı rakamlar olmamalı."
   ]
  },
  {
   "cell_type": "code",
   "execution_count": 2,
   "id": "839d614a",
   "metadata": {},
   "outputs": [],
   "source": [
    "import numpy as np"
   ]
  },
  {
   "cell_type": "code",
   "execution_count": 79,
   "id": "1c581e0f",
   "metadata": {},
   "outputs": [
    {
     "data": {
      "text/plain": [
       "22"
      ]
     },
     "execution_count": 79,
     "metadata": {},
     "output_type": "execute_result"
    }
   ],
   "source": [
    "np.random.randint(1,50) # 1 ile 50 arasında (50 hariç) uniform dağılım"
   ]
  },
  {
   "cell_type": "code",
   "execution_count": 71,
   "id": "2f53eb44",
   "metadata": {},
   "outputs": [
    {
     "name": "stdout",
     "output_type": "stream",
     "text": [
      "1\n"
     ]
    }
   ],
   "source": [
    "i = 1\n",
    "while True:\n",
    "    rakam = np.random.randint(1,50)\n",
    "    if rakam == 1:\n",
    "        print(rakam)\n",
    "        break\n",
    "    i = i + 1\n",
    "    if i > 100000:\n",
    "        print(\"deneme > 100000\")\n",
    "        break"
   ]
  },
  {
   "cell_type": "code",
   "execution_count": 83,
   "id": "4c571cef",
   "metadata": {},
   "outputs": [
    {
     "name": "stdout",
     "output_type": "stream",
     "text": [
      "[20, 42, 20, 13, 10, 31, 43, 5]\n"
     ]
    }
   ],
   "source": [
    "# Sayısal sonuçları\n",
    "liste = []\n",
    "for i in range(1,9):\n",
    "    rakam = np.random.randint(1,50)\n",
    "    liste.append(rakam)\n",
    "\n",
    "print(liste)"
   ]
  },
  {
   "cell_type": "code",
   "execution_count": 88,
   "id": "ae18185f",
   "metadata": {},
   "outputs": [
    {
     "name": "stdout",
     "output_type": "stream",
     "text": [
      "{2, 38, 8, 47, 20, 22, 31}\n"
     ]
    }
   ],
   "source": [
    "# set (küme)\n",
    "liste = set() # boş küme ! Sınav sorusu\n",
    "for i in range(1,9):\n",
    "    rakam = np.random.randint(1,50)\n",
    "    liste.add(rakam)\n",
    "    \n",
    "print(liste) # bazı durumlarda 8'den daha az eleman içeren sonuçlar olabilir!"
   ]
  },
  {
   "cell_type": "code",
   "execution_count": 133,
   "id": "c1542487",
   "metadata": {},
   "outputs": [
    {
     "name": "stdout",
     "output_type": "stream",
     "text": [
      "{3, 36, 37, 6, 43, 47, 49, 30}\n"
     ]
    }
   ],
   "source": [
    "liste = set() # boş küme ! Sınav sorusu\n",
    "while True:\n",
    "    rakam = np.random.randint(1,50)\n",
    "    liste.add(rakam)\n",
    "    if len(liste) == 8:\n",
    "        break\n",
    "        \n",
    "print(liste)"
   ]
  },
  {
   "cell_type": "code",
   "execution_count": 134,
   "id": "e9899be8",
   "metadata": {},
   "outputs": [],
   "source": [
    "def test_random_8():\n",
    "    liste = set() # boş küme ! Sınav sorusu\n",
    "    while True:\n",
    "        rakam = np.random.randint(1,50)\n",
    "        liste.add(rakam)\n",
    "        if len(liste) == 8:\n",
    "            break\n",
    "    return len(liste)"
   ]
  },
  {
   "cell_type": "code",
   "execution_count": 147,
   "id": "42b4ecf7",
   "metadata": {},
   "outputs": [],
   "source": [
    "for i in range(100000):\n",
    "    elm_say = test_random_8()\n",
    "    if elm_say != 8:\n",
    "        print(\"Eleman sayısı 8 değil\")"
   ]
  },
  {
   "cell_type": "code",
   "execution_count": 167,
   "id": "8f5c5a24",
   "metadata": {},
   "outputs": [],
   "source": [
    "def listede_mi(liste,rakam):\n",
    "    for mevcut in liste:\n",
    "        if mevcut == rakam:\n",
    "            return True\n",
    "    return False"
   ]
  },
  {
   "cell_type": "code",
   "execution_count": 169,
   "id": "ed05bce2",
   "metadata": {},
   "outputs": [
    {
     "data": {
      "text/plain": [
       "True"
      ]
     },
     "execution_count": 169,
     "metadata": {},
     "output_type": "execute_result"
    }
   ],
   "source": [
    "listede_mi([1,2,3,4],5) # False\n",
    "listede_mi([1,2,3,4],2) # True"
   ]
  },
  {
   "cell_type": "code",
   "execution_count": 186,
   "id": "dd88c9d2",
   "metadata": {},
   "outputs": [
    {
     "name": "stdout",
     "output_type": "stream",
     "text": [
      "[41, 2, 44, 48, 8, 37, 11, 16]\n"
     ]
    }
   ],
   "source": [
    "# liste ile alternatif algoritma\n",
    "liste = []\n",
    "while True:\n",
    "    rakam = np.random.randint(1,50)\n",
    "    # rakam listede mi?\n",
    "    if not listede_mi(liste,rakam):\n",
    "        liste.append(rakam)   \n",
    "    # listenin 8 elemanı tamamlandı mı?    \n",
    "    if len(liste) == 8:\n",
    "        break\n",
    "        \n",
    "print(liste)"
   ]
  },
  {
   "cell_type": "code",
   "execution_count": 187,
   "id": "4b9fe5c2",
   "metadata": {},
   "outputs": [],
   "source": [
    "# Performans testi (hız)\n",
    "import timeit # ! sinavda sorulabilir"
   ]
  },
  {
   "cell_type": "code",
   "execution_count": 213,
   "id": "81aa622d",
   "metadata": {},
   "outputs": [],
   "source": [
    "basla_zaman = timeit.default_timer()"
   ]
  },
  {
   "cell_type": "code",
   "execution_count": 214,
   "id": "8bf683b1",
   "metadata": {},
   "outputs": [],
   "source": [
    "bitis_zaman = timeit.default_timer()"
   ]
  },
  {
   "cell_type": "code",
   "execution_count": 215,
   "id": "98907a97",
   "metadata": {},
   "outputs": [
    {
     "data": {
      "text/plain": [
       "1.6018948000000819"
      ]
     },
     "execution_count": 215,
     "metadata": {},
     "output_type": "execute_result"
    }
   ],
   "source": [
    "bitis_zaman - basla_zaman"
   ]
  },
  {
   "cell_type": "code",
   "execution_count": 216,
   "id": "f81f91cd",
   "metadata": {},
   "outputs": [],
   "source": [
    "# Algoritma-1: Set\n",
    "def liste_with_set():\n",
    "    liste = set() # boş küme ! Sınav sorusu\n",
    "    while True:\n",
    "        rakam = np.random.randint(1,50)\n",
    "        liste.add(rakam)\n",
    "        if len(liste) == 8:\n",
    "            break\n",
    "    return \"ok\"\n",
    "\n",
    "\n",
    "# Algoritma-2: list\n",
    "def liste_with_list():\n",
    "    liste = []\n",
    "    while True:\n",
    "        rakam = np.random.randint(1,50)\n",
    "        # rakam listede mi?\n",
    "        if not listede_mi(liste,rakam):\n",
    "            liste.append(rakam)   \n",
    "        # listenin 8 elemanı tamamlandı mı?    \n",
    "        if len(liste) == 8:\n",
    "            break\n",
    "    return \"ok\""
   ]
  },
  {
   "cell_type": "code",
   "execution_count": 254,
   "id": "f0e7bb29",
   "metadata": {},
   "outputs": [
    {
     "name": "stdout",
     "output_type": "stream",
     "text": [
      "set ile toplam süre:3.191729199999827\n"
     ]
    }
   ],
   "source": [
    "basla = timeit.default_timer()\n",
    "for i in range(100000):\n",
    "    liste_with_set()\n",
    "    \n",
    "bitis = timeit.default_timer()\n",
    "sure_set = bitis - basla\n",
    "\n",
    "print(f\"set ile toplam süre:{sure_set}\")"
   ]
  },
  {
   "cell_type": "code",
   "execution_count": 255,
   "id": "eec2fa47",
   "metadata": {},
   "outputs": [
    {
     "name": "stdout",
     "output_type": "stream",
     "text": [
      "list ile toplam süre:2.781510799999978\n"
     ]
    }
   ],
   "source": [
    "basla = timeit.default_timer()\n",
    "for i in range(100000):\n",
    "    liste_with_list()\n",
    "    \n",
    "bitis = timeit.default_timer()\n",
    "sure_set = bitis - basla\n",
    "\n",
    "print(f\"list ile toplam süre:{sure_set}\")"
   ]
  },
  {
   "cell_type": "code",
   "execution_count": 256,
   "id": "919a5b94",
   "metadata": {},
   "outputs": [],
   "source": [
    "# Bilgi paylaşımı liste\n",
    "\n",
    "liste = {\"kaan\":\"Nilda\",\"Nilda\":\"Emre\",\"Emre\":\"Fatih\",\"Fatih\":\"Çelebi\",\"Çelebi\":\"Can\"}"
   ]
  },
  {
   "cell_type": "code",
   "execution_count": 257,
   "id": "c71b0c44",
   "metadata": {},
   "outputs": [
    {
     "data": {
      "text/plain": [
       "'Fatih'"
      ]
     },
     "execution_count": 257,
     "metadata": {},
     "output_type": "execute_result"
    }
   ],
   "source": [
    "liste[\"Emre\"]"
   ]
  },
  {
   "cell_type": "code",
   "execution_count": 258,
   "id": "2178e364",
   "metadata": {},
   "outputs": [
    {
     "data": {
      "text/plain": [
       "'Çelebi'"
      ]
     },
     "execution_count": 258,
     "metadata": {},
     "output_type": "execute_result"
    }
   ],
   "source": [
    "liste[\"Fatih\"]"
   ]
  },
  {
   "cell_type": "code",
   "execution_count": 259,
   "id": "be88e759",
   "metadata": {},
   "outputs": [],
   "source": [
    "# Yeni kişiler nasıl eklenebilir?\n",
    "liste[\"Can\"]=\"İnanç\""
   ]
  },
  {
   "cell_type": "code",
   "execution_count": 260,
   "id": "6fb9ebda",
   "metadata": {},
   "outputs": [
    {
     "data": {
      "text/plain": [
       "{'kaan': 'Nilda',\n",
       " 'Nilda': 'Emre',\n",
       " 'Emre': 'Fatih',\n",
       " 'Fatih': 'Çelebi',\n",
       " 'Çelebi': 'Can',\n",
       " 'Can': 'İnanç'}"
      ]
     },
     "execution_count": 260,
     "metadata": {},
     "output_type": "execute_result"
    }
   ],
   "source": [
    "liste"
   ]
  },
  {
   "cell_type": "code",
   "execution_count": null,
   "id": "651d3d4e",
   "metadata": {},
   "outputs": [],
   "source": [
    "# liste'nin sonuna bir eleman eklemenin bigO => O(1)"
   ]
  },
  {
   "cell_type": "code",
   "execution_count": 261,
   "id": "e4c6bb7e",
   "metadata": {},
   "outputs": [],
   "source": [
    "liste['Funda']=\"kaan\""
   ]
  },
  {
   "cell_type": "code",
   "execution_count": 262,
   "id": "c5076d1a",
   "metadata": {},
   "outputs": [
    {
     "data": {
      "text/plain": [
       "{'kaan': 'Nilda',\n",
       " 'Nilda': 'Emre',\n",
       " 'Emre': 'Fatih',\n",
       " 'Fatih': 'Çelebi',\n",
       " 'Çelebi': 'Can',\n",
       " 'Can': 'İnanç',\n",
       " 'Funda': 'kaan'}"
      ]
     },
     "execution_count": 262,
     "metadata": {},
     "output_type": "execute_result"
    }
   ],
   "source": [
    "liste"
   ]
  },
  {
   "cell_type": "code",
   "execution_count": 296,
   "id": "3a277c8a",
   "metadata": {},
   "outputs": [],
   "source": [
    "# Listenin sonuna yeni isim eklemek\n",
    "# ? neyi bilmeliyiz\n",
    "liste = {}"
   ]
  },
  {
   "cell_type": "code",
   "execution_count": 300,
   "id": "31192844",
   "metadata": {},
   "outputs": [],
   "source": [
    "# listeye yeni bir kişi eklemek\n",
    "def liste_append(liste,isim):\n",
    "    if len(liste) == 0:\n",
    "        liste[isim] = None\n",
    "        return\n",
    "    for mevcut in liste:\n",
    "        #print(mevcut,isim)\n",
    "        if liste[mevcut] == None:\n",
    "            #print(f\"{mevcut}=>{isim}\")\n",
    "            liste[mevcut] = isim    \n",
    "    liste[isim] = None\n",
    "    "
   ]
  },
  {
   "cell_type": "code",
   "execution_count": 297,
   "id": "c1a908c9",
   "metadata": {},
   "outputs": [],
   "source": [
    "liste_append(liste,'Kaan')"
   ]
  },
  {
   "cell_type": "code",
   "execution_count": 301,
   "id": "cf3c91a4",
   "metadata": {},
   "outputs": [
    {
     "name": "stdout",
     "output_type": "stream",
     "text": [
      "{'Kaan': 'Öykü', 'Öykü': None}\n"
     ]
    }
   ],
   "source": [
    "print(liste)"
   ]
  },
  {
   "cell_type": "code",
   "execution_count": 299,
   "id": "57cddc20",
   "metadata": {},
   "outputs": [
    {
     "name": "stdout",
     "output_type": "stream",
     "text": [
      "Kaan Öykü\n",
      "Kaan=>Öykü\n"
     ]
    }
   ],
   "source": [
    "liste_append(liste,'Öykü')"
   ]
  },
  {
   "cell_type": "code",
   "execution_count": 369,
   "id": "3163d15f",
   "metadata": {},
   "outputs": [
    {
     "name": "stdout",
     "output_type": "stream",
     "text": [
      "{'Nilda': 'Fatih', 'Fatih': 'Zeynep', 'Zeynep': 'İnanç', 'İnanç': None}\n"
     ]
    }
   ],
   "source": [
    "liste_append(liste,'İnanç')\n",
    "print(liste)"
   ]
  },
  {
   "cell_type": "code",
   "execution_count": 370,
   "id": "4f980a74",
   "metadata": {},
   "outputs": [
    {
     "name": "stdout",
     "output_type": "stream",
     "text": [
      "{'Nilda': 'Fatih', 'Fatih': 'Zeynep', 'Zeynep': 'İnanç', 'İnanç': 'Funda', 'Funda': None}\n"
     ]
    }
   ],
   "source": [
    "liste_append(liste,'Funda')\n",
    "print(liste)"
   ]
  },
  {
   "cell_type": "code",
   "execution_count": 364,
   "id": "71315ca7",
   "metadata": {},
   "outputs": [],
   "source": [
    "def bul_from_isim(liste,isim):\n",
    "    key_isim = None\n",
    "    for mevcut in liste:\n",
    "        if liste[mevcut] == isim:\n",
    "            key_isim = mevcut\n",
    "    return key_isim\n",
    "\n",
    "def bul_son_kisi(liste):\n",
    "    son_kisi = None\n",
    "    for mevcut in liste:\n",
    "        if liste[mevcut] == None:\n",
    "            son_kisi = mevcut\n",
    "\n",
    "def kim_kime_bilgi_verecek(liste):\n",
    "    kim_kime = []\n",
    "    son_kisi = None\n",
    "    for mevcut in liste:\n",
    "        if liste[mevcut] == None:\n",
    "            son_kisi = mevcut\n",
    "            kim_kime.append(son_kisi)\n",
    "    # son kisi biliniyor\n",
    "    while True:\n",
    "        if son_kisi == None:\n",
    "            break\n",
    "        onceki = bul_from_isim(liste,son_kisi)\n",
    "        # faklı if bloğu\n",
    "        if onceki == None:\n",
    "            break\n",
    "        kim_kime.append(onceki)\n",
    "        son_kisi = onceki\n",
    "    return kim_kime\n",
    "        \n",
    "# Kaan, Öykü, İnanç, Funda"
   ]
  },
  {
   "cell_type": "code",
   "execution_count": 350,
   "id": "1984c01f",
   "metadata": {},
   "outputs": [
    {
     "name": "stdout",
     "output_type": "stream",
     "text": [
      "['Funda', 'İnanç', 'Öykü', 'Kaan']\n"
     ]
    }
   ],
   "source": [
    "kim_kime = kim_kime_bilgi_verecek(liste)\n",
    "print(kim_kime)"
   ]
  },
  {
   "cell_type": "code",
   "execution_count": 351,
   "id": "7176cb34",
   "metadata": {},
   "outputs": [],
   "source": [
    "def list_from_first(liste):\n",
    "    for isim in reversed(liste):\n",
    "        print(isim)"
   ]
  },
  {
   "cell_type": "code",
   "execution_count": 352,
   "id": "a1a03fa6",
   "metadata": {},
   "outputs": [
    {
     "name": "stdout",
     "output_type": "stream",
     "text": [
      "Kaan\n",
      "Öykü\n",
      "İnanç\n",
      "Funda\n"
     ]
    }
   ],
   "source": [
    "list_from_first(kim_kime)"
   ]
  },
  {
   "cell_type": "code",
   "execution_count": 368,
   "id": "d44e64cb",
   "metadata": {},
   "outputs": [
    {
     "name": "stdout",
     "output_type": "stream",
     "text": [
      "{'Nilda': 'Fatih', 'Fatih': 'Zeynep', 'Zeynep': None}\n"
     ]
    }
   ],
   "source": [
    "liste_append(liste,'Zeynep')\n",
    "print(liste)"
   ]
  },
  {
   "cell_type": "code",
   "execution_count": 371,
   "id": "60d951e8",
   "metadata": {},
   "outputs": [
    {
     "name": "stdout",
     "output_type": "stream",
     "text": [
      "Nilda\n",
      "Fatih\n",
      "Zeynep\n",
      "İnanç\n",
      "Funda\n"
     ]
    }
   ],
   "source": [
    "kim_kime = kim_kime_bilgi_verecek(liste)\n",
    "list_from_first(kim_kime)"
   ]
  },
  {
   "cell_type": "code",
   "execution_count": 367,
   "id": "41049fac",
   "metadata": {},
   "outputs": [
    {
     "name": "stdout",
     "output_type": "stream",
     "text": [
      "Nilda\n",
      "Fatih\n"
     ]
    }
   ],
   "source": [
    "liste_append(liste,'Fatih')\n",
    "kim_kime = kim_kime_bilgi_verecek(liste)\n",
    "list_from_first(kim_kime)"
   ]
  },
  {
   "cell_type": "code",
   "execution_count": 366,
   "id": "29d51d5e",
   "metadata": {},
   "outputs": [
    {
     "name": "stdout",
     "output_type": "stream",
     "text": [
      "Nilda\n"
     ]
    }
   ],
   "source": [
    "liste_append(liste,'Nilda')\n",
    "kim_kime = kim_kime_bilgi_verecek(liste)\n",
    "list_from_first(kim_kime)"
   ]
  },
  {
   "cell_type": "code",
   "execution_count": 365,
   "id": "07fa7f8a",
   "metadata": {},
   "outputs": [],
   "source": [
    "# bos liste\n",
    "liste = {}\n",
    "kim_kime = kim_kime_bilgi_verecek(liste)\n",
    "list_from_first(kim_kime)"
   ]
  }
 ],
 "metadata": {
  "kernelspec": {
   "display_name": "Python 3 (ipykernel)",
   "language": "python",
   "name": "python3"
  },
  "language_info": {
   "codemirror_mode": {
    "name": "ipython",
    "version": 3
   },
   "file_extension": ".py",
   "mimetype": "text/x-python",
   "name": "python",
   "nbconvert_exporter": "python",
   "pygments_lexer": "ipython3",
   "version": "3.9.5"
  }
 },
 "nbformat": 4,
 "nbformat_minor": 5
}
