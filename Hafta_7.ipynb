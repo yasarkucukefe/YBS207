{
 "cells": [
  {
   "cell_type": "code",
   "execution_count": 1,
   "id": "ecc55324",
   "metadata": {},
   "outputs": [],
   "source": [
    "a = 1"
   ]
  },
  {
   "cell_type": "code",
   "execution_count": 2,
   "id": "c6451a0f",
   "metadata": {},
   "outputs": [],
   "source": [
    "b = 2"
   ]
  },
  {
   "cell_type": "code",
   "execution_count": 3,
   "id": "b01a975d",
   "metadata": {},
   "outputs": [],
   "source": [
    "a:int = 2 # Python Type Hinting. Bir değişkenin veri türü belirtilebilir."
   ]
  },
  {
   "cell_type": "code",
   "execution_count": 4,
   "id": "34de2a30",
   "metadata": {},
   "outputs": [],
   "source": [
    "def topla(a:int, b:int):\n",
    "    return a + b"
   ]
  },
  {
   "cell_type": "code",
   "execution_count": 5,
   "id": "a9b35f5c",
   "metadata": {},
   "outputs": [
    {
     "data": {
      "text/plain": [
       "7"
      ]
     },
     "execution_count": 5,
     "metadata": {},
     "output_type": "execute_result"
    }
   ],
   "source": [
    "topla(3, 4)"
   ]
  },
  {
   "cell_type": "code",
   "execution_count": 6,
   "id": "8f105f58",
   "metadata": {},
   "outputs": [],
   "source": [
    "def esit_mi(a:int, b:int)->bool:\n",
    "    return a == b"
   ]
  },
  {
   "cell_type": "code",
   "execution_count": 7,
   "id": "a4944488",
   "metadata": {},
   "outputs": [
    {
     "data": {
      "text/plain": [
       "True"
      ]
     },
     "execution_count": 7,
     "metadata": {},
     "output_type": "execute_result"
    }
   ],
   "source": [
    "a:int = 2\n",
    "b:int = 2\n",
    "esit_mi(a, b)"
   ]
  },
  {
   "cell_type": "code",
   "execution_count": 8,
   "id": "70c0225c",
   "metadata": {},
   "outputs": [],
   "source": [
    "def hepsi_buyuk_harf(kelime:str)->bool:\n",
    "    return kelime.isupper()"
   ]
  },
  {
   "cell_type": "code",
   "execution_count": 9,
   "id": "81eb547f",
   "metadata": {},
   "outputs": [
    {
     "data": {
      "text/plain": [
       "True"
      ]
     },
     "execution_count": 9,
     "metadata": {},
     "output_type": "execute_result"
    }
   ],
   "source": [
    "hepsi_buyuk_harf(\"ELMA\")"
   ]
  },
  {
   "cell_type": "code",
   "execution_count": 10,
   "id": "008d637b",
   "metadata": {},
   "outputs": [],
   "source": [
    "liste:list[str] = [] # Listeler de veri türü belirtilerek oluşturulabilir."
   ]
  },
  {
   "cell_type": "code",
   "execution_count": 13,
   "id": "3119713e",
   "metadata": {},
   "outputs": [],
   "source": [
    "liste.append('Erik')\n",
    "liste.append('Üzüm')"
   ]
  },
  {
   "cell_type": "markdown",
   "id": "aa9d90ba",
   "metadata": {},
   "source": [
    "## Hash Table"
   ]
  },
  {
   "cell_type": "code",
   "execution_count": 14,
   "id": "83ef2f6f",
   "metadata": {},
   "outputs": [],
   "source": [
    "# Hash table algoritması Python'da \"dictionary\" veri türü ile kullanılır.\n",
    "fiyatlar = {'latte':33, 'filtre kahve':26, 'türk kahvesi':25}"
   ]
  },
  {
   "cell_type": "code",
   "execution_count": 15,
   "id": "08d17023",
   "metadata": {},
   "outputs": [
    {
     "data": {
      "text/plain": [
       "33"
      ]
     },
     "execution_count": 15,
     "metadata": {},
     "output_type": "execute_result"
    }
   ],
   "source": [
    "fiyatlar['latte']"
   ]
  },
  {
   "cell_type": "code",
   "execution_count": 16,
   "id": "2955152c",
   "metadata": {},
   "outputs": [],
   "source": [
    "fiyatlar['americano']=28"
   ]
  },
  {
   "cell_type": "code",
   "execution_count": 17,
   "id": "0cb44bf9",
   "metadata": {},
   "outputs": [
    {
     "data": {
      "text/plain": [
       "{'latte': 33, 'filtre kahve': 26, 'türk kahvesi': 25, 'americano': 28}"
      ]
     },
     "execution_count": 17,
     "metadata": {},
     "output_type": "execute_result"
    }
   ],
   "source": [
    "fiyatlar"
   ]
  },
  {
   "cell_type": "code",
   "execution_count": 18,
   "id": "4f900b33",
   "metadata": {},
   "outputs": [],
   "source": [
    "# Python'da dictionary datatype olmasa => anahtar:deger?"
   ]
  },
  {
   "cell_type": "code",
   "execution_count": 19,
   "id": "df78085c",
   "metadata": {},
   "outputs": [],
   "source": [
    "liste_fiyatlar = []\n",
    "liste_fiyatlar.append(['latte', 33])\n",
    "liste_fiyatlar.append(['filtre kahve', 26])\n",
    "liste_fiyatlar.append(['türk kahvesi', 25])\n",
    "liste_fiyatlar.append(['americano', 28])"
   ]
  },
  {
   "cell_type": "code",
   "execution_count": 20,
   "id": "5283403a",
   "metadata": {},
   "outputs": [
    {
     "data": {
      "text/plain": [
       "[['latte', 33], ['filtre kahve', 26], ['türk kahvesi', 25], ['americano', 28]]"
      ]
     },
     "execution_count": 20,
     "metadata": {},
     "output_type": "execute_result"
    }
   ],
   "source": [
    "liste_fiyatlar"
   ]
  },
  {
   "cell_type": "code",
   "execution_count": 21,
   "id": "5dde58a7",
   "metadata": {},
   "outputs": [],
   "source": [
    "def fiyat_gor(urun):\n",
    "    for urun_lst in liste_fiyatlar:\n",
    "        if urun == urun_lst[0]:\n",
    "            return urun_lst[1]\n",
    "    return None"
   ]
  },
  {
   "cell_type": "code",
   "execution_count": 22,
   "id": "4b3dfce6",
   "metadata": {},
   "outputs": [
    {
     "data": {
      "text/plain": [
       "28"
      ]
     },
     "execution_count": 22,
     "metadata": {},
     "output_type": "execute_result"
    }
   ],
   "source": [
    "fiyat_gor('americano')"
   ]
  },
  {
   "cell_type": "code",
   "execution_count": 26,
   "id": "c06ffccc",
   "metadata": {},
   "outputs": [
    {
     "data": {
      "text/plain": [
       "8556998778821654298"
      ]
     },
     "execution_count": 26,
     "metadata": {},
     "output_type": "execute_result"
    }
   ],
   "source": [
    "hash('americano')"
   ]
  },
  {
   "cell_type": "code",
   "execution_count": 27,
   "id": "2c73142b",
   "metadata": {},
   "outputs": [
    {
     "data": {
      "text/plain": [
       "8556998778821654298"
      ]
     },
     "execution_count": 27,
     "metadata": {},
     "output_type": "execute_result"
    }
   ],
   "source": [
    "hash('americano')"
   ]
  },
  {
   "cell_type": "code",
   "execution_count": 30,
   "id": "969b6345",
   "metadata": {},
   "outputs": [],
   "source": [
    "def fiyat_hash_uret(urun:str)->int:\n",
    "    sum = 0\n",
    "    for harf in urun:\n",
    "        sum += ord(harf)\n",
    "    return sum"
   ]
  },
  {
   "cell_type": "code",
   "execution_count": 29,
   "id": "7ac1714f",
   "metadata": {},
   "outputs": [
    {
     "data": {
      "text/plain": [
       "65"
      ]
     },
     "execution_count": 29,
     "metadata": {},
     "output_type": "execute_result"
    }
   ],
   "source": [
    "ord('A')"
   ]
  },
  {
   "cell_type": "code",
   "execution_count": 40,
   "id": "f70500bb",
   "metadata": {},
   "outputs": [
    {
     "data": {
      "text/plain": [
       "943"
      ]
     },
     "execution_count": 40,
     "metadata": {},
     "output_type": "execute_result"
    }
   ],
   "source": [
    "fiyat_hash_uret('americano')"
   ]
  },
  {
   "cell_type": "code",
   "execution_count": 41,
   "id": "271ce144",
   "metadata": {},
   "outputs": [
    {
     "data": {
      "text/plain": [
       "538"
      ]
     },
     "execution_count": 41,
     "metadata": {},
     "output_type": "execute_result"
    }
   ],
   "source": [
    "fiyat_hash_uret('latte')"
   ]
  },
  {
   "cell_type": "code",
   "execution_count": 42,
   "id": "adfdb4e8",
   "metadata": {},
   "outputs": [
    {
     "data": {
      "text/plain": [
       "1368"
      ]
     },
     "execution_count": 42,
     "metadata": {},
     "output_type": "execute_result"
    }
   ],
   "source": [
    "fiyat_hash_uret('türk kahvesi')"
   ]
  },
  {
   "cell_type": "code",
   "execution_count": 43,
   "id": "f618663c",
   "metadata": {},
   "outputs": [
    {
     "data": {
      "text/plain": [
       "1205"
      ]
     },
     "execution_count": 43,
     "metadata": {},
     "output_type": "execute_result"
    }
   ],
   "source": [
    "fiyat_hash_uret('filtre kahve')"
   ]
  },
  {
   "cell_type": "code",
   "execution_count": 44,
   "id": "34df8396",
   "metadata": {},
   "outputs": [],
   "source": [
    "yeni_liste = [None] * 2000"
   ]
  },
  {
   "cell_type": "code",
   "execution_count": 46,
   "id": "7729c3ba",
   "metadata": {},
   "outputs": [],
   "source": [
    "yeni_liste[fiyat_hash_uret('americano')] = ['americano',28]"
   ]
  },
  {
   "cell_type": "code",
   "execution_count": 47,
   "id": "3611ee27",
   "metadata": {},
   "outputs": [
    {
     "data": {
      "text/plain": [
       "['americano', 28]"
      ]
     },
     "execution_count": 47,
     "metadata": {},
     "output_type": "execute_result"
    }
   ],
   "source": [
    "yeni_liste[943]"
   ]
  },
  {
   "cell_type": "code",
   "execution_count": 48,
   "id": "8ebaef2a",
   "metadata": {},
   "outputs": [
    {
     "data": {
      "text/plain": [
       "['americano', 28]"
      ]
     },
     "execution_count": 48,
     "metadata": {},
     "output_type": "execute_result"
    }
   ],
   "source": [
    "#Americano fiyat?\n",
    "yeni_liste[fiyat_hash_uret('americano')]"
   ]
  },
  {
   "cell_type": "code",
   "execution_count": 49,
   "id": "8703218b",
   "metadata": {},
   "outputs": [],
   "source": [
    "yeni_liste[fiyat_hash_uret('filtre kahve')] = ['filtre kahve',26]"
   ]
  },
  {
   "cell_type": "code",
   "execution_count": 50,
   "id": "4ab0270a",
   "metadata": {},
   "outputs": [],
   "source": [
    "def fiyat_hash_uret_limitli(urun:str, limit:int = 10)->int:\n",
    "    sum = 0\n",
    "    for harf in urun:\n",
    "        sum += ord(harf)\n",
    "    return sum % limit"
   ]
  },
  {
   "cell_type": "code",
   "execution_count": 64,
   "id": "99e723b5",
   "metadata": {},
   "outputs": [
    {
     "data": {
      "text/plain": [
       "3"
      ]
     },
     "execution_count": 64,
     "metadata": {},
     "output_type": "execute_result"
    }
   ],
   "source": [
    "fiyat_hash_uret_limitli('americano')"
   ]
  },
  {
   "cell_type": "code",
   "execution_count": 66,
   "id": "bf058540",
   "metadata": {},
   "outputs": [
    {
     "data": {
      "text/plain": [
       "8"
      ]
     },
     "execution_count": 66,
     "metadata": {},
     "output_type": "execute_result"
    }
   ],
   "source": [
    "fiyat_hash_uret_limitli('türk kahvesi')"
   ]
  },
  {
   "cell_type": "code",
   "execution_count": 76,
   "id": "32f0ad83",
   "metadata": {},
   "outputs": [
    {
     "name": "stdout",
     "output_type": "stream",
     "text": [
      "[None, None, None, ['americano', 28], None, ['filtre kahve', 26], None, None, ['latte', 33], None]\n"
     ]
    }
   ],
   "source": [
    "yeni_liste = [None] * 10\n",
    "yeni_liste[fiyat_hash_uret_limitli('americano')] = ['americano',28]\n",
    "yeni_liste[fiyat_hash_uret_limitli('türk kahvesi')] = ['türk kahvesi',25]\n",
    "yeni_liste[fiyat_hash_uret_limitli('filtre kahve')] = ['filtre kahve',26]\n",
    "yeni_liste[fiyat_hash_uret_limitli('latte')] = ['latte',33]\n",
    "print(yeni_liste)"
   ]
  },
  {
   "cell_type": "code",
   "execution_count": 77,
   "id": "30842997",
   "metadata": {},
   "outputs": [
    {
     "data": {
      "text/plain": [
       "8"
      ]
     },
     "execution_count": 77,
     "metadata": {},
     "output_type": "execute_result"
    }
   ],
   "source": [
    "fiyat_hash_uret_limitli('türk kahvesi')"
   ]
  },
  {
   "cell_type": "code",
   "execution_count": 78,
   "id": "435c7656",
   "metadata": {},
   "outputs": [
    {
     "data": {
      "text/plain": [
       "5"
      ]
     },
     "execution_count": 78,
     "metadata": {},
     "output_type": "execute_result"
    }
   ],
   "source": [
    "fiyat_hash_uret_limitli('filtre kahve')"
   ]
  },
  {
   "cell_type": "code",
   "execution_count": 79,
   "id": "c4b341cf",
   "metadata": {},
   "outputs": [
    {
     "data": {
      "text/plain": [
       "8"
      ]
     },
     "execution_count": 79,
     "metadata": {},
     "output_type": "execute_result"
    }
   ],
   "source": [
    "fiyat_hash_uret_limitli('latte')"
   ]
  },
  {
   "cell_type": "code",
   "execution_count": 140,
   "id": "313870e2",
   "metadata": {},
   "outputs": [],
   "source": [
    "class HashList:\n",
    "    fiyat_listesi = []\n",
    "    \n",
    "    def __init__(self):\n",
    "        self.fiyat_listesi = [None] * 10\n",
    "        \n",
    "    def fiyat_ekle(self, urun, fiyat):\n",
    "        index = fiyat_hash_uret_limitli(urun)\n",
    "        if self.fiyat_listesi[index] == None:\n",
    "            self.fiyat_listesi[index] = []\n",
    "        self.fiyat_listesi[index].append([urun, fiyat])\n",
    "        \n",
    "    def tek_urun(self, urun_list, index)->int:\n",
    "        if len(urun_list) == 1:\n",
    "            return self.fiyat_listesi[index][0][1]\n",
    "        for urun_lst in urun_list:\n",
    "            if urun == urun_lst[0]:\n",
    "                return urun_lst[1]\n",
    "    \n",
    "    def fiyat_gor(self, urun:str)->int:\n",
    "        index = fiyat_hash_uret_limitli(urun)\n",
    "        if self.fiyat_listesi[index] == None:\n",
    "            return 'Ürün bulunamadı'      \n",
    "        urun_list = self.fiyat_listesi[index]\n",
    "        fiyat = self.tek_urun(urun_list, index)\n",
    "        return fiyat\n",
    "    \n",
    "    \n",
    "    "
   ]
  },
  {
   "cell_type": "code",
   "execution_count": null,
   "id": "23728e77",
   "metadata": {},
   "outputs": [],
   "source": []
  },
  {
   "cell_type": "code",
   "execution_count": 102,
   "id": "23aead48",
   "metadata": {},
   "outputs": [],
   "source": [
    "fiyat_liste = HashList()"
   ]
  },
  {
   "cell_type": "code",
   "execution_count": 92,
   "id": "8e2f9e7c",
   "metadata": {},
   "outputs": [
    {
     "data": {
      "text/plain": [
       "[None, None, None, None, None, None, None, None, None, None]"
      ]
     },
     "execution_count": 92,
     "metadata": {},
     "output_type": "execute_result"
    }
   ],
   "source": [
    "fiyat_liste.fiyat_listesi"
   ]
  },
  {
   "cell_type": "code",
   "execution_count": 93,
   "id": "62401c25",
   "metadata": {},
   "outputs": [],
   "source": [
    "fiyat_liste.fiyat_ekle('americano',28)"
   ]
  },
  {
   "cell_type": "code",
   "execution_count": 94,
   "id": "95b9c6d7",
   "metadata": {},
   "outputs": [
    {
     "data": {
      "text/plain": [
       "[None, None, None, [['americano', 28]], None, None, None, None, None, None]"
      ]
     },
     "execution_count": 94,
     "metadata": {},
     "output_type": "execute_result"
    }
   ],
   "source": [
    "fiyat_liste.fiyat_listesi"
   ]
  },
  {
   "cell_type": "code",
   "execution_count": 95,
   "id": "cf3e04f8",
   "metadata": {},
   "outputs": [],
   "source": [
    "fiyat_liste.fiyat_ekle('türk kahvesi',25)"
   ]
  },
  {
   "cell_type": "code",
   "execution_count": 96,
   "id": "c9988cad",
   "metadata": {},
   "outputs": [
    {
     "data": {
      "text/plain": [
       "[None,\n",
       " None,\n",
       " None,\n",
       " [['americano', 28]],\n",
       " None,\n",
       " None,\n",
       " None,\n",
       " None,\n",
       " [['türk kahvesi', 25]],\n",
       " None]"
      ]
     },
     "execution_count": 96,
     "metadata": {},
     "output_type": "execute_result"
    }
   ],
   "source": [
    "fiyat_liste.fiyat_listesi"
   ]
  },
  {
   "cell_type": "code",
   "execution_count": 97,
   "id": "bc57c966",
   "metadata": {},
   "outputs": [],
   "source": [
    "fiyat_liste.fiyat_ekle('latte',33)"
   ]
  },
  {
   "cell_type": "code",
   "execution_count": 98,
   "id": "ec111535",
   "metadata": {},
   "outputs": [
    {
     "data": {
      "text/plain": [
       "[None,\n",
       " None,\n",
       " None,\n",
       " [['americano', 28]],\n",
       " None,\n",
       " None,\n",
       " None,\n",
       " None,\n",
       " [['türk kahvesi', 25], ['latte', 33]],\n",
       " None]"
      ]
     },
     "execution_count": 98,
     "metadata": {},
     "output_type": "execute_result"
    }
   ],
   "source": [
    "fiyat_liste.fiyat_listesi"
   ]
  },
  {
   "cell_type": "code",
   "execution_count": 99,
   "id": "257fc413",
   "metadata": {},
   "outputs": [],
   "source": [
    "fiyat_liste.fiyat_ekle('filtre kahve',26)"
   ]
  },
  {
   "cell_type": "code",
   "execution_count": 100,
   "id": "93b7c88a",
   "metadata": {},
   "outputs": [
    {
     "data": {
      "text/plain": [
       "[None,\n",
       " None,\n",
       " None,\n",
       " [['americano', 28]],\n",
       " None,\n",
       " [['filtre kahve', 26]],\n",
       " None,\n",
       " None,\n",
       " [['türk kahvesi', 25], ['latte', 33]],\n",
       " None]"
      ]
     },
     "execution_count": 100,
     "metadata": {},
     "output_type": "execute_result"
    }
   ],
   "source": [
    "fiyat_liste.fiyat_listesi"
   ]
  },
  {
   "cell_type": "code",
   "execution_count": 141,
   "id": "531c3b1c",
   "metadata": {},
   "outputs": [],
   "source": [
    "# Ürün fiyat bilgisi?\n",
    "fiyat_liste = HashList()\n",
    "fiyat_liste.fiyat_ekle('americano',28)\n",
    "fiyat_liste.fiyat_ekle('filtre kahve',26)\n",
    "fiyat_liste.fiyat_ekle('latte',33)\n",
    "fiyat_liste.fiyat_ekle('türk kahvesi',25)"
   ]
  },
  {
   "cell_type": "code",
   "execution_count": 142,
   "id": "d50d6c15",
   "metadata": {},
   "outputs": [
    {
     "name": "stdout",
     "output_type": "stream",
     "text": [
      "28\n"
     ]
    }
   ],
   "source": [
    "fiyat = fiyat_liste.fiyat_gor('americano')\n",
    "print(fiyat)"
   ]
  },
  {
   "cell_type": "code",
   "execution_count": 124,
   "id": "7a0bfdeb",
   "metadata": {},
   "outputs": [
    {
     "data": {
      "text/plain": [
       "33"
      ]
     },
     "execution_count": 124,
     "metadata": {},
     "output_type": "execute_result"
    }
   ],
   "source": [
    "fiyat_liste.fiyat_gor('latte')"
   ]
  },
  {
   "cell_type": "code",
   "execution_count": 125,
   "id": "60a9750c",
   "metadata": {},
   "outputs": [],
   "source": [
    "# Dictionary\n",
    "urun_fiyatlari = {'americano':28, 'filtre kahve':26, 'latte':33, 'türk kahvesi':25}"
   ]
  },
  {
   "cell_type": "code",
   "execution_count": 126,
   "id": "231d2b29",
   "metadata": {},
   "outputs": [
    {
     "data": {
      "text/plain": [
       "33"
      ]
     },
     "execution_count": 126,
     "metadata": {},
     "output_type": "execute_result"
    }
   ],
   "source": [
    "urun_fiyatlari['latte']"
   ]
  }
 ],
 "metadata": {
  "kernelspec": {
   "display_name": "Python 3 (ipykernel)",
   "language": "python",
   "name": "python3"
  },
  "language_info": {
   "codemirror_mode": {
    "name": "ipython",
    "version": 3
   },
   "file_extension": ".py",
   "mimetype": "text/x-python",
   "name": "python",
   "nbconvert_exporter": "python",
   "pygments_lexer": "ipython3",
   "version": "3.10.8"
  }
 },
 "nbformat": 4,
 "nbformat_minor": 5
}
