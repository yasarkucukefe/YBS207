{
 "cells": [
  {
   "cell_type": "code",
   "execution_count": 23,
   "id": "2730b38c",
   "metadata": {},
   "outputs": [],
   "source": [
    "# Listeden rastgele secim\n",
    "liste = [\"Kaan\",\"Zeynep\",\"Fatih\",\"Can\",\"Kayra\",\"Nilda\"]"
   ]
  },
  {
   "cell_type": "code",
   "execution_count": 2,
   "id": "315dc686",
   "metadata": {},
   "outputs": [],
   "source": [
    "import numpy as np"
   ]
  },
  {
   "cell_type": "code",
   "execution_count": 9,
   "id": "4a69a4f2",
   "metadata": {},
   "outputs": [
    {
     "name": "stdout",
     "output_type": "stream",
     "text": [
      "Kayra\n"
     ]
    }
   ],
   "source": [
    "i = np.random.randint(0,len(liste))\n",
    "print(liste[i])"
   ]
  },
  {
   "cell_type": "code",
   "execution_count": 17,
   "id": "c5991b19",
   "metadata": {},
   "outputs": [
    {
     "data": {
      "text/plain": [
       "'Kayra'"
      ]
     },
     "execution_count": 17,
     "metadata": {},
     "output_type": "execute_result"
    }
   ],
   "source": [
    "# choice\n",
    "np.random.choice(liste)"
   ]
  },
  {
   "cell_type": "code",
   "execution_count": 38,
   "id": "f63b52c9",
   "metadata": {},
   "outputs": [
    {
     "name": "stdout",
     "output_type": "stream",
     "text": [
      "['Zeynep', 'Kaan', 'Can', 'Nilda', 'Fatih', 'Kayra']\n"
     ]
    }
   ],
   "source": [
    "# Listeyi karıştır?\n",
    "liste2 = liste.copy()\n",
    "liste_kr = []\n",
    "while len(liste2)>0:\n",
    "    i = np.random.randint(0,len(liste2))\n",
    "    liste_kr.append(liste2[i])\n",
    "    liste2.remove(liste2[i])\n",
    "print(liste_kr)"
   ]
  },
  {
   "cell_type": "code",
   "execution_count": 44,
   "id": "1499d519",
   "metadata": {},
   "outputs": [
    {
     "name": "stdout",
     "output_type": "stream",
     "text": [
      "['Zeynep', 'Kayra', 'Can', 'Nilda', 'Kaan', 'Fatih']\n"
     ]
    }
   ],
   "source": [
    "# shuffle ile bir liste rastgele karıştırılır. Orjinal liste değişir.\n",
    "np.random.shuffle(liste)\n",
    "print(liste)"
   ]
  },
  {
   "cell_type": "code",
   "execution_count": 42,
   "id": "60178742",
   "metadata": {},
   "outputs": [],
   "source": [
    "# np.random.shuffle bir return değer üretmez (None)\n",
    "b = np.random.shuffle(liste)"
   ]
  },
  {
   "cell_type": "code",
   "execution_count": 43,
   "id": "874bbf48",
   "metadata": {},
   "outputs": [
    {
     "name": "stdout",
     "output_type": "stream",
     "text": [
      "None\n"
     ]
    }
   ],
   "source": [
    "print(b)"
   ]
  },
  {
   "cell_type": "code",
   "execution_count": 3,
   "id": "18184a3a",
   "metadata": {},
   "outputs": [],
   "source": [
    "# # Organizasyon şeması\n",
    "from dataclasses import dataclass\n",
    "\n",
    "@dataclass\n",
    "class Personel:\n",
    "    emp_id: int\n",
    "    isim: str\n",
    "    gorev: str\n",
    "    yonetici: int"
   ]
  },
  {
   "cell_type": "code",
   "execution_count": 4,
   "id": "0e5e5350",
   "metadata": {},
   "outputs": [],
   "source": [
    "liste = []\n",
    "liste.append(Personel(1,'Can Gürler','Genel Müdür',None))\n",
    "liste.append(Personel(2,'Fatih Bayram','Inovasyon Müdürü',1))\n",
    "liste.append(Personel(3,'Zeynep Çakır','Yazılım Geliştirme Müdürü',1))\n",
    "liste.append(Personel(4,'Fatih Çelebi','Veritabanı Yöneticisi',3))\n",
    "liste.append(Personel(5,'Nilda Aydoğmuş','Siber Güvenlik Uzmanı',3))\n",
    "liste.append(Personel(6,'Kaan Çebi','Stajer',2))\n",
    "liste.append(Personel(7,'Kayra Ekinci','Siber Güvenlik Mühendisi',5))\n",
    "liste.append(Personel(8,'Görkem Duru','Sistem Destek Uzmanı',5))"
   ]
  },
  {
   "cell_type": "code",
   "execution_count": 55,
   "id": "0873ed31",
   "metadata": {},
   "outputs": [],
   "source": [
    "x = Personel(6,'Kaan Çebi','Stajer',2)\n",
    "# Kaan kime rapor vermektedir"
   ]
  },
  {
   "cell_type": "code",
   "execution_count": 56,
   "id": "23b4e7f8",
   "metadata": {},
   "outputs": [
    {
     "name": "stdout",
     "output_type": "stream",
     "text": [
      "Kaan'ın => Fatih Bayram\n"
     ]
    }
   ],
   "source": [
    "for per in liste:\n",
    "    if per.emp_id == x.yonetici:\n",
    "        print(f\"Kaan'ın => {per.isim}\")"
   ]
  },
  {
   "cell_type": "code",
   "execution_count": 58,
   "id": "cbe781cf",
   "metadata": {},
   "outputs": [
    {
     "data": {
      "text/plain": [
       "['Fatih Bayram']"
      ]
     },
     "execution_count": 58,
     "metadata": {},
     "output_type": "execute_result"
    }
   ],
   "source": [
    "# list comprehension kullanarak\n",
    "[per.isim for per in liste if per.emp_id == x.yonetici]"
   ]
  },
  {
   "cell_type": "code",
   "execution_count": 65,
   "id": "7aa9941d",
   "metadata": {},
   "outputs": [
    {
     "data": {
      "text/plain": [
       "'Fatih Bayram'"
      ]
     },
     "execution_count": 65,
     "metadata": {},
     "output_type": "execute_result"
    }
   ],
   "source": [
    "# filter\n",
    "list(filter(lambda per: per.emp_id==x.yonetici, liste))[0].isim"
   ]
  },
  {
   "cell_type": "code",
   "execution_count": 5,
   "id": "c7646af7",
   "metadata": {},
   "outputs": [],
   "source": [
    "x = Personel(3,'Zeynep Çakır','Yazılım Geliştirme Müdürü',1)\n",
    "# Zeynep Çakır kaç kişiden sorumlu"
   ]
  },
  {
   "cell_type": "code",
   "execution_count": 6,
   "id": "ff948945",
   "metadata": {},
   "outputs": [
    {
     "name": "stdout",
     "output_type": "stream",
     "text": [
      "Fatih Çelebi\n",
      "Nilda Aydoğmuş\n"
     ]
    }
   ],
   "source": [
    "for per in liste:\n",
    "    if per.yonetici == x.emp_id:\n",
    "        print(per.isim)"
   ]
  },
  {
   "cell_type": "code",
   "execution_count": 7,
   "id": "50a06048",
   "metadata": {},
   "outputs": [],
   "source": [
    "def kimler_rapor_ediyor(kisi: Personel):\n",
    "    for per in liste:\n",
    "        if per.yonetici == kisi.emp_id:\n",
    "            print(per.isim)\n",
    "            kimler_rapor_ediyor(per)"
   ]
  },
  {
   "cell_type": "code",
   "execution_count": 10,
   "id": "83868ab5",
   "metadata": {},
   "outputs": [
    {
     "name": "stdout",
     "output_type": "stream",
     "text": [
      "Zeynep Çakır =>\n",
      "Fatih Çelebi\n",
      "Nilda Aydoğmuş\n",
      "Kayra Ekinci\n",
      "Görkem Duru\n"
     ]
    }
   ],
   "source": [
    "print(f\"{x.isim} =>\")\n",
    "kimler_rapor_ediyor(x)"
   ]
  },
  {
   "cell_type": "code",
   "execution_count": 13,
   "id": "1e6e7594",
   "metadata": {},
   "outputs": [
    {
     "name": "stdout",
     "output_type": "stream",
     "text": [
      "Fatih Bayram\n",
      "Kaan Çebi\n",
      "Zeynep Çakır\n",
      "Fatih Çelebi\n",
      "Nilda Aydoğmuş\n",
      "Kayra Ekinci\n",
      "Görkem Duru\n",
      "Personel(emp_id=1, isim='Can Gürler', gorev='Genel Müdür', yonetici=None)\n"
     ]
    }
   ],
   "source": [
    "kimler_rapor_ediyor(liste[0])\n",
    "print(liste[0])"
   ]
  },
  {
   "cell_type": "markdown",
   "id": "32ffb179",
   "metadata": {},
   "source": [
    "## Insertion Sort"
   ]
  },
  {
   "cell_type": "code",
   "execution_count": 55,
   "id": "2adb9825",
   "metadata": {},
   "outputs": [
    {
     "name": "stdout",
     "output_type": "stream",
     "text": [
      "[1, 2, 3, 4, 5, 8, 9]\n"
     ]
    }
   ],
   "source": [
    "liste = [2, 8, 1, 5, 3, 9, 4]\n",
    "for i in range(len(liste)):\n",
    "    for j in range(i+1,len(liste)):\n",
    "        k = j \n",
    "        while k > 0:\n",
    "            if liste[k-1] > liste[k]:\n",
    "                liste[k-1],liste[k] = liste[k],liste[k-1]\n",
    "            k -= 1\n",
    "print(liste)            "
   ]
  },
  {
   "cell_type": "markdown",
   "id": "51336fd2",
   "metadata": {},
   "source": [
    "## Merge Sort"
   ]
  },
  {
   "cell_type": "code",
   "execution_count": 63,
   "id": "be3306e0",
   "metadata": {},
   "outputs": [],
   "source": [
    "def merge(array1, array2):\n",
    "    combined = []\n",
    "    i = 0\n",
    "    j = 0\n",
    "    while i < len(array1) and j < len(array2):\n",
    "        if array1[i] < array2[j]:\n",
    "            combined.append(array1[i])\n",
    "            i += 1\n",
    "        else:\n",
    "            combined.append(array2[j])\n",
    "            j += 1\n",
    "              \n",
    "    while i < len(array1):\n",
    "        combined.append(array1[i])\n",
    "        i += 1\n",
    "\n",
    "    while j < len(array2):\n",
    "        combined.append(array2[j])\n",
    "        j += 1\n",
    "\n",
    "    return combined\n",
    "\n",
    "def merge_sort(my_list):\n",
    "    if len(my_list) == 1:\n",
    "        return my_list\n",
    "    mid_index = int(len(my_list)/2)\n",
    "    left = merge_sort(my_list[:mid_index])\n",
    "    right = merge_sort(my_list[mid_index:])\n",
    "    print(left,right)\n",
    "    return merge(left, right)"
   ]
  },
  {
   "cell_type": "code",
   "execution_count": 64,
   "id": "4ed9cadc",
   "metadata": {},
   "outputs": [
    {
     "name": "stdout",
     "output_type": "stream",
     "text": [
      "[8] [1]\n",
      "[2] [1, 8]\n",
      "[5] [3]\n",
      "[9] [4]\n",
      "[3, 5] [4, 9]\n",
      "[1, 2, 8] [3, 4, 5, 9]\n"
     ]
    },
    {
     "data": {
      "text/plain": [
       "[1, 2, 3, 4, 5, 8, 9]"
      ]
     },
     "execution_count": 64,
     "metadata": {},
     "output_type": "execute_result"
    }
   ],
   "source": [
    "merge_sort([2, 8, 1, 5, 3, 9, 4])"
   ]
  }
 ],
 "metadata": {
  "kernelspec": {
   "display_name": "Python 3 (ipykernel)",
   "language": "python",
   "name": "python3"
  },
  "language_info": {
   "codemirror_mode": {
    "name": "ipython",
    "version": 3
   },
   "file_extension": ".py",
   "mimetype": "text/x-python",
   "name": "python",
   "nbconvert_exporter": "python",
   "pygments_lexer": "ipython3",
   "version": "3.10.8"
  }
 },
 "nbformat": 4,
 "nbformat_minor": 5
}
