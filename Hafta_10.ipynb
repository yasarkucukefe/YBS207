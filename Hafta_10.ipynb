{
 "cells": [
  {
   "cell_type": "code",
   "execution_count": 2,
   "id": "863155f8",
   "metadata": {},
   "outputs": [
    {
     "name": "stdout",
     "output_type": "stream",
     "text": [
      "1000000\n"
     ]
    }
   ],
   "source": [
    "print(1_000_000) # ? 1000000 ? 1_000_000"
   ]
  },
  {
   "cell_type": "code",
   "execution_count": 3,
   "id": "39f0d09b",
   "metadata": {},
   "outputs": [
    {
     "name": "stdout",
     "output_type": "stream",
     "text": [
      "[0, 1, 2, 3, 0, 1, 2, 3, 0, 1, 2, 3, 0, 1, 2, 3, 0, 1, 2, 3]\n"
     ]
    }
   ],
   "source": [
    "liste = [0,1,2,3]\n",
    "yeni = liste * 5 \n",
    "print(yeni) # ?"
   ]
  },
  {
   "cell_type": "code",
   "execution_count": 4,
   "id": "52f98849",
   "metadata": {},
   "outputs": [
    {
     "data": {
      "text/plain": [
       "[0, 5, 10, 15]"
      ]
     },
     "execution_count": 4,
     "metadata": {},
     "output_type": "execute_result"
    }
   ],
   "source": [
    "# list comprehension\n",
    "[sayi * 5 for sayi in liste]"
   ]
  },
  {
   "cell_type": "code",
   "execution_count": 5,
   "id": "6bc5720b",
   "metadata": {},
   "outputs": [],
   "source": [
    "# İŞLEM PERFORMANSLARI"
   ]
  },
  {
   "cell_type": "code",
   "execution_count": 9,
   "id": "df278c57",
   "metadata": {},
   "outputs": [],
   "source": [
    "liste = list(range(0,1_000_000)) # 0...1,000,000"
   ]
  },
  {
   "cell_type": "code",
   "execution_count": 7,
   "id": "08a4d190",
   "metadata": {},
   "outputs": [],
   "source": [
    "# islem: liste'nin her bir elemanı 5 ile çarpılacak"
   ]
  },
  {
   "cell_type": "code",
   "execution_count": 10,
   "id": "7df8113c",
   "metadata": {},
   "outputs": [],
   "source": [
    "# Seçenek-1 (list comprehension)\n",
    "sonuc_1 = [sayi * 5 for sayi in liste]"
   ]
  },
  {
   "cell_type": "code",
   "execution_count": 11,
   "id": "6970a394",
   "metadata": {},
   "outputs": [],
   "source": [
    "# Seçenek-2 (for loop)\n",
    "sonuc_2 = []\n",
    "for sayi in liste:\n",
    "    sonuc_2.append(5 * sayi)"
   ]
  },
  {
   "cell_type": "code",
   "execution_count": 12,
   "id": "cbed2f8d",
   "metadata": {},
   "outputs": [],
   "source": [
    "import time"
   ]
  },
  {
   "cell_type": "code",
   "execution_count": 59,
   "id": "069cf912",
   "metadata": {},
   "outputs": [
    {
     "name": "stdout",
     "output_type": "stream",
     "text": [
      "Seçenek-1: 0.1157832145690918 saniye\n"
     ]
    }
   ],
   "source": [
    "basla = time.time()\n",
    "sonuc_1 = [sayi * 5 for sayi in liste]\n",
    "bitir = time.time()\n",
    "print(f\"Seçenek-1: {bitir-basla} saniye\")"
   ]
  },
  {
   "cell_type": "code",
   "execution_count": 56,
   "id": "0bb019b8",
   "metadata": {},
   "outputs": [
    {
     "name": "stdout",
     "output_type": "stream",
     "text": [
      "Seçenek-2: 0.17282843589782715 saniye\n"
     ]
    }
   ],
   "source": [
    "basla = time.time()\n",
    "sonuc_2 = []\n",
    "for sayi in liste:\n",
    "    sonuc_2.append(5 * sayi)\n",
    "bitir = time.time()\n",
    "print(f\"Seçenek-2: {bitir-basla} saniye\")"
   ]
  },
  {
   "cell_type": "code",
   "execution_count": 32,
   "id": "e9e7be45",
   "metadata": {},
   "outputs": [],
   "source": [
    "# Seçenek-3: Numpy kütüphanesini kullanmak\n",
    "import numpy as np"
   ]
  },
  {
   "cell_type": "code",
   "execution_count": 54,
   "id": "e954af12",
   "metadata": {},
   "outputs": [
    {
     "name": "stdout",
     "output_type": "stream",
     "text": [
      "Seçenek-3: 0.004561901092529297 saniye\n"
     ]
    }
   ],
   "source": [
    "np_liste = np.array(liste)\n",
    "basla = time.time()\n",
    "sonuc_3 = np_liste * 5\n",
    "bitir = time.time()\n",
    "print(f\"Seçenek-3: {bitir-basla} saniye\")"
   ]
  },
  {
   "cell_type": "code",
   "execution_count": 60,
   "id": "7a2b39d0",
   "metadata": {},
   "outputs": [],
   "source": [
    "# Matris Çarpımı\n",
    "A = [[1,2],[2,0],[3,1]] # Liste şeklinde, nested listeler satır\n",
    "B = [[4,3],[1,2]]"
   ]
  },
  {
   "cell_type": "code",
   "execution_count": 62,
   "id": "60d7e0f1",
   "metadata": {},
   "outputs": [
    {
     "name": "stdout",
     "output_type": "stream",
     "text": [
      "[1, 2]\n",
      "[2, 0]\n",
      "[3, 1]\n"
     ]
    }
   ],
   "source": [
    "for row in A:\n",
    "    print(row)"
   ]
  },
  {
   "cell_type": "code",
   "execution_count": 63,
   "id": "442cd62d",
   "metadata": {},
   "outputs": [
    {
     "name": "stdout",
     "output_type": "stream",
     "text": [
      "[4, 3]\n",
      "[1, 2]\n"
     ]
    }
   ],
   "source": [
    "for row in B:\n",
    "    print(row)"
   ]
  },
  {
   "cell_type": "code",
   "execution_count": 77,
   "id": "3692717b",
   "metadata": {},
   "outputs": [],
   "source": [
    "# A * B ?\n",
    "def rowxkolon(row: list[float], kolon:list[float]) -> float:\n",
    "    sum = 0.\n",
    "    for i in range(len(row)):\n",
    "        sum += row[i] * kolon[i]\n",
    "    return sum\n"
   ]
  },
  {
   "cell_type": "code",
   "execution_count": 78,
   "id": "7bb6315f",
   "metadata": {},
   "outputs": [
    {
     "data": {
      "text/plain": [
       "6.0"
      ]
     },
     "execution_count": 78,
     "metadata": {},
     "output_type": "execute_result"
    }
   ],
   "source": [
    "rowxkolon2([1,2],[4,1])"
   ]
  },
  {
   "cell_type": "code",
   "execution_count": 79,
   "id": "a6f70196",
   "metadata": {},
   "outputs": [
    {
     "data": {
      "text/plain": [
       "7.0"
      ]
     },
     "execution_count": 79,
     "metadata": {},
     "output_type": "execute_result"
    }
   ],
   "source": [
    "rowxkolon2([1,2],[3,2])"
   ]
  },
  {
   "cell_type": "code",
   "execution_count": 80,
   "id": "ae2708db",
   "metadata": {},
   "outputs": [],
   "source": [
    "def matris_kolon(M,k:int)->[float]:\n",
    "    return [row[k] for row in M]"
   ]
  },
  {
   "cell_type": "code",
   "execution_count": 82,
   "id": "24ef5745",
   "metadata": {},
   "outputs": [
    {
     "data": {
      "text/plain": [
       "[3, 2]"
      ]
     },
     "execution_count": 82,
     "metadata": {},
     "output_type": "execute_result"
    }
   ],
   "source": [
    "matris_kolon(B,1)"
   ]
  },
  {
   "cell_type": "code",
   "execution_count": 103,
   "id": "222b195d",
   "metadata": {},
   "outputs": [],
   "source": [
    "def matris_carp(A, B):\n",
    "    sonuc = []\n",
    "    for row in A:\n",
    "        row_sonuc = []\n",
    "        for k in range(len(B[0])):\n",
    "            kolon = matris_kolon(B,k)\n",
    "            c = rowxkolon(row,kolon)\n",
    "            row_sonuc.append(c)\n",
    "        sonuc.append(row_sonuc)\n",
    "    return sonuc"
   ]
  },
  {
   "cell_type": "code",
   "execution_count": 92,
   "id": "f419f42c",
   "metadata": {},
   "outputs": [
    {
     "name": "stdout",
     "output_type": "stream",
     "text": [
      "[6.0, 7.0]\n",
      "[8.0, 6.0]\n",
      "[13.0, 11.0]\n"
     ]
    }
   ],
   "source": [
    "AB = matris_carp(A,B)\n",
    "for row in AB:\n",
    "    print(row)"
   ]
  },
  {
   "cell_type": "code",
   "execution_count": 85,
   "id": "57163454",
   "metadata": {},
   "outputs": [
    {
     "data": {
      "text/plain": [
       "array([[ 6,  7],\n",
       "       [ 8,  6],\n",
       "       [13, 11]])"
      ]
     },
     "execution_count": 85,
     "metadata": {},
     "output_type": "execute_result"
    }
   ],
   "source": [
    "# Numpy ile\n",
    "np.matmul(np.array(A),np.array(B))"
   ]
  },
  {
   "cell_type": "code",
   "execution_count": 93,
   "id": "bedc9ee0",
   "metadata": {},
   "outputs": [],
   "source": [
    "# Bir matrisin en büyük özdeğerinin hesaplanması (Power Method)\n",
    "# https://ergodic.ugr.es/cphys/LECCIONES/FORTRAN/power_method.pdf\n",
    "A= [[2, -12],[1, -5]]"
   ]
  },
  {
   "cell_type": "code",
   "execution_count": 237,
   "id": "26879da6",
   "metadata": {},
   "outputs": [],
   "source": []
  },
  {
   "cell_type": "code",
   "execution_count": 187,
   "id": "d4c1a39f",
   "metadata": {},
   "outputs": [],
   "source": [
    "def donustur(x:[float])->[float]:\n",
    "    sonuc = []\n",
    "    abs_x = [abs(sayi[0]) for sayi in x]\n",
    "    minimum = min(abs_x)\n",
    "    for sayi in x:\n",
    "        sonuc.append(sayi[0] / minimum)\n",
    "    return sonuc"
   ]
  },
  {
   "cell_type": "code",
   "execution_count": 248,
   "id": "73c6b15a",
   "metadata": {},
   "outputs": [
    {
     "name": "stdout",
     "output_type": "stream",
     "text": [
      "1 [2.5 1. ]\n",
      "2 [0.3 0. ]\n",
      "3 [0.10909091 0.        ]\n",
      "4 [0.04743083 0.        ]\n",
      "5 [0.02220167 0.        ]\n",
      "6 [0.01075028 0.        ]\n",
      "7 [0.00529071 0.        ]\n",
      "8 [0.00262464 0.        ]\n",
      "9 [0.00130719 0.        ]\n",
      "10 [0.00065232 0.        ]\n",
      "11 [0.00032584 0.        ]\n",
      "Stop\n",
      "[-2.9996743731683493, -1.0]\n"
     ]
    }
   ],
   "source": [
    "x = [[1],[1]]\n",
    "x0 = [0, 0]\n",
    "\n",
    "i = 0\n",
    "while True:\n",
    "    i += 1\n",
    "    if(i > 100):\n",
    "        break\n",
    "    x = matris_carp(A,x)\n",
    "    x1 = donustur(x)\n",
    "    fark = np.absolute(np.array(x1)) - np.absolute(np.array(x0))\n",
    "    print(i,fark)\n",
    "    if sum(fark)<0.0005:\n",
    "        print(\"Stop\")\n",
    "        print(x1)\n",
    "        break;    \n",
    "    x0 = x1"
   ]
  },
  {
   "cell_type": "code",
   "execution_count": 145,
   "id": "727a6b9c",
   "metadata": {},
   "outputs": [
    {
     "data": {
      "text/plain": [
       "[2.8, 1.0]"
      ]
     },
     "execution_count": 145,
     "metadata": {},
     "output_type": "execute_result"
    }
   ],
   "source": [
    "donustur([[28.0], [10.0]])"
   ]
  },
  {
   "cell_type": "code",
   "execution_count": 124,
   "id": "950eda3d",
   "metadata": {},
   "outputs": [],
   "source": [
    "x = [[-10],[-4]] # ? minimum değer"
   ]
  },
  {
   "cell_type": "code",
   "execution_count": 242,
   "id": "50c9bc8b",
   "metadata": {},
   "outputs": [
    {
     "data": {
      "text/plain": [
       "6"
      ]
     },
     "execution_count": 242,
     "metadata": {},
     "output_type": "execute_result"
    }
   ],
   "source": [
    "sum([1,2,3])"
   ]
  },
  {
   "cell_type": "code",
   "execution_count": 241,
   "id": "25dcd3f7",
   "metadata": {},
   "outputs": [
    {
     "data": {
      "text/plain": [
       "True"
      ]
     },
     "execution_count": 241,
     "metadata": {},
     "output_type": "execute_result"
    }
   ],
   "source": [
    "fark = 0.005\n",
    "fark < 0.01 and fark>0"
   ]
  },
  {
   "cell_type": "code",
   "execution_count": null,
   "id": "106c182e",
   "metadata": {},
   "outputs": [],
   "source": [
    "# https://ergodic.ugr.es/cphys/LECCIONES/FORTRAN/power_method.pdf"
   ]
  }
 ],
 "metadata": {
  "kernelspec": {
   "display_name": "Python 3 (ipykernel)",
   "language": "python",
   "name": "python3"
  },
  "language_info": {
   "codemirror_mode": {
    "name": "ipython",
    "version": 3
   },
   "file_extension": ".py",
   "mimetype": "text/x-python",
   "name": "python",
   "nbconvert_exporter": "python",
   "pygments_lexer": "ipython3",
   "version": "3.10.8"
  }
 },
 "nbformat": 4,
 "nbformat_minor": 5
}
