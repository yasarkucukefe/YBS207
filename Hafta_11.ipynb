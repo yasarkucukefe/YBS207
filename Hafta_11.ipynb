{
 "cells": [
  {
   "cell_type": "markdown",
   "id": "6bdea2d0",
   "metadata": {},
   "source": [
    "## Sıralama Algoritmaları (Sorting)"
   ]
  },
  {
   "cell_type": "code",
   "execution_count": 1,
   "id": "b1df6a69",
   "metadata": {},
   "outputs": [],
   "source": [
    "dict_1 = {'elma':21, 'armut':23}\n",
    "dict_2 = {'portakal':16, 'muz':46}"
   ]
  },
  {
   "cell_type": "code",
   "execution_count": 3,
   "id": "ed205c4e",
   "metadata": {},
   "outputs": [],
   "source": [
    "# iki dictinary'yi tek dict olarak nasıl birleştirebiliriz?\n",
    "dict_3 = {'kivi':29}"
   ]
  },
  {
   "cell_type": "code",
   "execution_count": 4,
   "id": "85f3bbbc",
   "metadata": {},
   "outputs": [],
   "source": [
    "dict_3['ceviz']=78"
   ]
  },
  {
   "cell_type": "code",
   "execution_count": 5,
   "id": "99e8fba7",
   "metadata": {},
   "outputs": [
    {
     "name": "stdout",
     "output_type": "stream",
     "text": [
      "{'kivi': 29, 'ceviz': 78}\n"
     ]
    }
   ],
   "source": [
    "print(dict_3)"
   ]
  },
  {
   "cell_type": "code",
   "execution_count": 6,
   "id": "d69c9aa5",
   "metadata": {},
   "outputs": [],
   "source": [
    "yeni_dict = {}"
   ]
  },
  {
   "cell_type": "code",
   "execution_count": 7,
   "id": "01d0fc82",
   "metadata": {},
   "outputs": [
    {
     "name": "stdout",
     "output_type": "stream",
     "text": [
      "elma\n",
      "armut\n"
     ]
    }
   ],
   "source": [
    "for key in dict_1:\n",
    "    print(key)"
   ]
  },
  {
   "cell_type": "code",
   "execution_count": 11,
   "id": "6c0b859d",
   "metadata": {},
   "outputs": [],
   "source": [
    "yeni_dict = {}\n",
    "\n",
    "for key in dict_1:\n",
    "    yeni_dict[key] = dict_1[key]\n",
    "    \n",
    "for key in dict_2:\n",
    "    yeni_dict[key] = dict_2[key]"
   ]
  },
  {
   "cell_type": "code",
   "execution_count": 12,
   "id": "21e86fc6",
   "metadata": {},
   "outputs": [
    {
     "name": "stdout",
     "output_type": "stream",
     "text": [
      "{'elma': 21, 'armut': 23, 'portakal': 16, 'muz': 46}\n"
     ]
    }
   ],
   "source": [
    "print(yeni_dict)"
   ]
  },
  {
   "cell_type": "code",
   "execution_count": 13,
   "id": "44d1ae75",
   "metadata": {},
   "outputs": [],
   "source": [
    "yeni_dict = {**dict_1, **dict_2}"
   ]
  },
  {
   "cell_type": "code",
   "execution_count": 14,
   "id": "e25a2f55",
   "metadata": {},
   "outputs": [
    {
     "name": "stdout",
     "output_type": "stream",
     "text": [
      "{'elma': 21, 'armut': 23, 'portakal': 16, 'muz': 46}\n"
     ]
    }
   ],
   "source": [
    "print(yeni_dict)"
   ]
  },
  {
   "cell_type": "markdown",
   "id": "421e0192",
   "metadata": {},
   "source": [
    "## Sorting algorithms"
   ]
  },
  {
   "cell_type": "markdown",
   "id": "aad1453d",
   "metadata": {},
   "source": [
    "### Buble sort"
   ]
  },
  {
   "cell_type": "code",
   "execution_count": 15,
   "id": "ba70be15",
   "metadata": {},
   "outputs": [],
   "source": [
    "liste = [2, 8, 5, 3, 9, 4, 1] # sort"
   ]
  },
  {
   "cell_type": "code",
   "execution_count": 19,
   "id": "bcc9daa0",
   "metadata": {},
   "outputs": [
    {
     "name": "stdout",
     "output_type": "stream",
     "text": [
      "2 3\n",
      "3 5\n",
      "5 4\n",
      "=>degistir=> 4 5\n",
      "5 1\n",
      "=>degistir=> 1 5\n",
      "5 8\n",
      "8 9\n",
      "[2, 3, 4, 1, 5, 8, 9]\n"
     ]
    }
   ],
   "source": [
    "for i in range(len(liste)-1):\n",
    "    print(liste[i],liste[i+1])\n",
    "    if(liste[i]>liste[i+1]):\n",
    "        liste[i+1], liste[i] = liste[i], liste[i+1]\n",
    "        print('=>degistir=>',liste[i],liste[i+1])\n",
    "print(liste)"
   ]
  },
  {
   "cell_type": "code",
   "execution_count": 22,
   "id": "e93fbb37",
   "metadata": {
    "scrolled": true
   },
   "outputs": [
    {
     "name": "stdout",
     "output_type": "stream",
     "text": [
      "[1, 2, 3, 4, 5, 8, 9]\n"
     ]
    }
   ],
   "source": [
    "# Iterasyon ile\n",
    "for j in range(len(liste)):    \n",
    "    for i in range(len(liste)-1-j):\n",
    "        if(liste[i]>liste[i+1]):\n",
    "            liste[i+1], liste[i] = liste[i], liste[i+1]\n",
    "print(liste)"
   ]
  },
  {
   "cell_type": "code",
   "execution_count": 24,
   "id": "58a641b8",
   "metadata": {},
   "outputs": [],
   "source": [
    "def bubble_sort(liste: [int])->[int]:\n",
    "    for j in range(len(liste)):    \n",
    "        for i in range(len(liste)-1-j):\n",
    "            if(liste[i]>liste[i+1]):\n",
    "                liste[i+1], liste[i] = liste[i], liste[i+1]\n",
    "    return liste"
   ]
  },
  {
   "cell_type": "code",
   "execution_count": 25,
   "id": "21167f05",
   "metadata": {},
   "outputs": [
    {
     "data": {
      "text/plain": [
       "[1, 2, 3, 7, 9, 12, 17, 80, 82]"
      ]
     },
     "execution_count": 25,
     "metadata": {},
     "output_type": "execute_result"
    }
   ],
   "source": [
    "bubble_sort([3,7,1,2,9,12,17,82,80])"
   ]
  },
  {
   "cell_type": "markdown",
   "id": "8c563bea",
   "metadata": {},
   "source": [
    "### Selection Sort"
   ]
  },
  {
   "cell_type": "code",
   "execution_count": 100,
   "id": "c96eed36",
   "metadata": {},
   "outputs": [],
   "source": [
    "def min_index_pos(liste:[int])->int:\n",
    "    index = 0\n",
    "    for idx,deger in enumerate(liste):\n",
    "        if(liste[index] > deger):\n",
    "            index = idx\n",
    "    return index"
   ]
  },
  {
   "cell_type": "code",
   "execution_count": 98,
   "id": "38904c91",
   "metadata": {},
   "outputs": [
    {
     "name": "stdout",
     "output_type": "stream",
     "text": [
      "func: [5, 3, 9, 4, 2]\n",
      "min idx: 4\n"
     ]
    },
    {
     "data": {
      "text/plain": [
       "4"
      ]
     },
     "execution_count": 98,
     "metadata": {},
     "output_type": "execute_result"
    }
   ],
   "source": [
    "min_index_pos( [5, 3, 9, 4, 2])"
   ]
  },
  {
   "cell_type": "code",
   "execution_count": 92,
   "id": "884083ca",
   "metadata": {},
   "outputs": [
    {
     "data": {
      "text/plain": [
       "[8, 3, 9, 4, 2]"
      ]
     },
     "execution_count": 92,
     "metadata": {},
     "output_type": "execute_result"
    }
   ],
   "source": [
    "liste[2:]"
   ]
  },
  {
   "cell_type": "code",
   "execution_count": 105,
   "id": "156e2d30",
   "metadata": {},
   "outputs": [
    {
     "name": "stdout",
     "output_type": "stream",
     "text": [
      "orjinal: [2, 8, 5, 3, 9, 4, 1]\n",
      "[1, 2, 3, 4, 5, 8, 9]\n"
     ]
    }
   ],
   "source": [
    "liste = [2, 8, 5, 3, 9, 4, 1] # sort\n",
    "print('orjinal:',liste)\n",
    "\n",
    "for i in range(len(liste)-1):\n",
    "    list_index = i + 1 + min_index_pos(liste[(i+1):])\n",
    "    if(liste[list_index] < liste[i]):\n",
    "        liste[i], liste[list_index] = liste[list_index], liste[i]\n",
    "print(liste)\n"
   ]
  },
  {
   "cell_type": "code",
   "execution_count": 44,
   "id": "66142749",
   "metadata": {},
   "outputs": [
    {
     "name": "stdout",
     "output_type": "stream",
     "text": [
      "[2, 8, 5, 3, 9, 4, 1]\n"
     ]
    }
   ],
   "source": [
    "print(liste)"
   ]
  },
  {
   "cell_type": "code",
   "execution_count": 47,
   "id": "e03e390a",
   "metadata": {},
   "outputs": [
    {
     "name": "stdout",
     "output_type": "stream",
     "text": [
      "[3, 9, 4, 1]\n"
     ]
    }
   ],
   "source": [
    "print(liste[3:])"
   ]
  },
  {
   "cell_type": "code",
   "execution_count": 95,
   "id": "99601520",
   "metadata": {},
   "outputs": [
    {
     "name": "stdout",
     "output_type": "stream",
     "text": [
      "2\n"
     ]
    }
   ],
   "source": [
    "# Enumerate ! Sınavda çıkabilir ! https://book.pythontips.com/en/latest/enumerate.html\n",
    "a = [2,3,5,2]\n",
    "for i,j in enumerate(a):\n",
    "    if i == 3:\n",
    "        print(j)\n"
   ]
  },
  {
   "cell_type": "code",
   "execution_count": 96,
   "id": "9b3eec91",
   "metadata": {},
   "outputs": [
    {
     "name": "stdout",
     "output_type": "stream",
     "text": [
      "index: 4, minimum:2\n"
     ]
    }
   ],
   "source": [
    "listem = [5, 3, 9, 4, 2] # bul minimum deger ve indeksi?\n",
    "index = 0\n",
    "for idx,deger in enumerate(listem):\n",
    "    if(listem[index] > deger):\n",
    "        index = idx\n",
    "print(f\"index: {index}, minimum:{listem[index]}\")"
   ]
  },
  {
   "cell_type": "markdown",
   "id": "35350e5d",
   "metadata": {},
   "source": [
    "## Python Generator"
   ]
  },
  {
   "cell_type": "code",
   "execution_count": 106,
   "id": "6e72d804",
   "metadata": {},
   "outputs": [],
   "source": [
    "def generate_rakam():\n",
    "    i = 1\n",
    "    yield i\n",
    "    \n",
    "    i = i + 1\n",
    "    yield i"
   ]
  },
  {
   "cell_type": "code",
   "execution_count": null,
   "id": "5e406169",
   "metadata": {},
   "outputs": [],
   "source": []
  },
  {
   "cell_type": "code",
   "execution_count": 128,
   "id": "77f9cb86",
   "metadata": {},
   "outputs": [
    {
     "name": "stdout",
     "output_type": "stream",
     "text": [
      "<generator object generate_rakam at 0x000001EEEBBE3140> <class 'generator'>\n"
     ]
    }
   ],
   "source": [
    "rakam = generate_rakam()\n",
    "print(rakam, type(rakam)) # ?"
   ]
  },
  {
   "cell_type": "code",
   "execution_count": 130,
   "id": "be8d451a",
   "metadata": {},
   "outputs": [
    {
     "name": "stdout",
     "output_type": "stream",
     "text": [
      "1\n"
     ]
    }
   ],
   "source": [
    "print(next(rakam))"
   ]
  },
  {
   "cell_type": "code",
   "execution_count": 131,
   "id": "ee964ce2",
   "metadata": {},
   "outputs": [
    {
     "name": "stdout",
     "output_type": "stream",
     "text": [
      "2\n"
     ]
    }
   ],
   "source": [
    "print(next(rakam))"
   ]
  },
  {
   "cell_type": "code",
   "execution_count": 132,
   "id": "78c71813",
   "metadata": {},
   "outputs": [
    {
     "ename": "StopIteration",
     "evalue": "",
     "output_type": "error",
     "traceback": [
      "\u001b[1;31m---------------------------------------------------------------------------\u001b[0m",
      "\u001b[1;31mStopIteration\u001b[0m                             Traceback (most recent call last)",
      "Cell \u001b[1;32mIn [132], line 1\u001b[0m\n\u001b[1;32m----> 1\u001b[0m \u001b[38;5;28mprint\u001b[39m(\u001b[38;5;28;43mnext\u001b[39;49m\u001b[43m(\u001b[49m\u001b[43mrakam\u001b[49m\u001b[43m)\u001b[49m) \u001b[38;5;66;03m# ?\u001b[39;00m\n",
      "\u001b[1;31mStopIteration\u001b[0m: "
     ]
    }
   ],
   "source": [
    "print(next(rakam)) # ?"
   ]
  },
  {
   "cell_type": "code",
   "execution_count": 139,
   "id": "53415e55",
   "metadata": {},
   "outputs": [],
   "source": [
    "def generator_for():\n",
    "    i = 0\n",
    "    while i < 1_000_000_000_000:\n",
    "        i += 1\n",
    "        yield i"
   ]
  },
  {
   "cell_type": "code",
   "execution_count": 140,
   "id": "adaefe5c",
   "metadata": {},
   "outputs": [],
   "source": [
    "rakam = generator_for()"
   ]
  },
  {
   "cell_type": "code",
   "execution_count": 161,
   "id": "787a244d",
   "metadata": {},
   "outputs": [
    {
     "name": "stdout",
     "output_type": "stream",
     "text": [
      "21\n"
     ]
    }
   ],
   "source": [
    "print(next(rakam))"
   ]
  },
  {
   "cell_type": "code",
   "execution_count": 162,
   "id": "77004065",
   "metadata": {},
   "outputs": [],
   "source": [
    "# https://erdincuzun.com/python/13-2-generators/"
   ]
  },
  {
   "cell_type": "code",
   "execution_count": null,
   "id": "6e1ff616",
   "metadata": {},
   "outputs": [],
   "source": []
  }
 ],
 "metadata": {
  "kernelspec": {
   "display_name": "Python 3 (ipykernel)",
   "language": "python",
   "name": "python3"
  },
  "language_info": {
   "codemirror_mode": {
    "name": "ipython",
    "version": 3
   },
   "file_extension": ".py",
   "mimetype": "text/x-python",
   "name": "python",
   "nbconvert_exporter": "python",
   "pygments_lexer": "ipython3",
   "version": "3.10.8"
  }
 },
 "nbformat": 4,
 "nbformat_minor": 5
}
