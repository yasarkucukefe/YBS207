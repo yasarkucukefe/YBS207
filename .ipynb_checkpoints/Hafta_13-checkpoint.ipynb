{
 "cells": [
  {
   "cell_type": "markdown",
   "id": "5c16ce3e",
   "metadata": {},
   "source": [
    "### Quick sort\n",
    "\n",
    "https://en.wikipedia.org/wiki/Quicksort"
   ]
  },
  {
   "cell_type": "code",
   "execution_count": 6,
   "id": "693c9420",
   "metadata": {},
   "outputs": [
    {
     "name": "stdout",
     "output_type": "stream",
     "text": [
      "Sorted array: [1, 5, 7, 8, 9, 10]\n"
     ]
    }
   ],
   "source": [
    "# Python3 implementation of QuickSort\n",
    "  \n",
    "  \n",
    "# Function to find the partition position\n",
    "def partition(array, low, high):\n",
    "  \n",
    "    # Choose the rightmost element as pivot\n",
    "    pivot = array[high]\n",
    "  \n",
    "    # Pointer for greater element\n",
    "    i = low - 1\n",
    "  \n",
    "    # Traverse through all elements\n",
    "    # compare each element with pivot\n",
    "    for j in range(low, high):\n",
    "        if array[j] <= pivot:\n",
    "            # If element smaller than pivot is found\n",
    "            # swap it with the greater element pointed by i\n",
    "            i = i + 1\n",
    "  \n",
    "            # Swapping element at i with element at j\n",
    "            (array[i], array[j]) = (array[j], array[i])\n",
    "  \n",
    "    # Swap the pivot element with \n",
    "    # e greater element specified by i\n",
    "    (array[i + 1], array[high]) = (array[high], array[i + 1])\n",
    "  \n",
    "    # Return the position from where partition is done\n",
    "    return i + 1\n",
    "  \n",
    "# Function to perform quicksort\n",
    "  \n",
    "  \n",
    "def quick_sort(array, low, high):\n",
    "    if low < high:\n",
    "  \n",
    "        # Find pivot element such that\n",
    "        # element smaller than pivot are on the left\n",
    "        # element greater than pivot are on the right\n",
    "        pi = partition(array, low, high)\n",
    "  \n",
    "        # Recursive call on the left of pivot\n",
    "        quick_sort(array, low, pi - 1)\n",
    "  \n",
    "        # Recursive call on the right of pivot\n",
    "        quick_sort(array, pi + 1, high)\n",
    "  \n",
    "  \n",
    "# Driver code\n",
    "array = [10, 7, 8, 9, 1, 5]\n",
    "quick_sort(array, 0, len(array) - 1)\n",
    "  \n",
    "print(f'Sorted array: {array}')\n",
    "  \n",
    "# This code is contributed by Adnan Aliakbar"
   ]
  },
  {
   "cell_type": "code",
   "execution_count": 7,
   "id": "301111f9",
   "metadata": {},
   "outputs": [
    {
     "name": "stdout",
     "output_type": "stream",
     "text": [
      "[1, 2, 3, 4, 6, 8, 9]\n"
     ]
    }
   ],
   "source": [
    "array = [1,6,2,9,8,3,4]\n",
    "quick_sort(array,0,len(array)-1)\n",
    "print(array)"
   ]
  },
  {
   "cell_type": "code",
   "execution_count": 9,
   "id": "3d627061",
   "metadata": {},
   "outputs": [],
   "source": [
    "# RSA Şifreleme algoritması\n",
    "# https://tr.wikipedia.org/wiki/RSA_(%C5%9Fifreleme_y%C3%B6netimi)"
   ]
  },
  {
   "cell_type": "code",
   "execution_count": 11,
   "id": "03defb50",
   "metadata": {},
   "outputs": [],
   "source": [
    "# 1. adım: Asal sayılar\n",
    "p = 2 \n",
    "q = 7"
   ]
  },
  {
   "cell_type": "code",
   "execution_count": 15,
   "id": "4076869c",
   "metadata": {},
   "outputs": [
    {
     "name": "stdout",
     "output_type": "stream",
     "text": [
      "14\n"
     ]
    }
   ],
   "source": [
    "# 2. adım: Mod değerini hesapla\n",
    "n = p * q\n",
    "print(n)"
   ]
  },
  {
   "cell_type": "code",
   "execution_count": 13,
   "id": "fefd6eaf",
   "metadata": {},
   "outputs": [],
   "source": [
    "# 3. adım: Totient hesapla\n",
    "T = (p - 1) * (q - 1)"
   ]
  },
  {
   "cell_type": "code",
   "execution_count": 14,
   "id": "aaf80ccf",
   "metadata": {},
   "outputs": [
    {
     "name": "stdout",
     "output_type": "stream",
     "text": [
      "6\n"
     ]
    }
   ],
   "source": [
    "print(T)"
   ]
  },
  {
   "cell_type": "code",
   "execution_count": 16,
   "id": "4942498a",
   "metadata": {},
   "outputs": [],
   "source": [
    "# 4. adım\n",
    "# 1 < e < T olan ve T ile aralarında asal olan bir e sayısı bulunuz. (2,3,4,5 içinden)\n",
    "# e = 5"
   ]
  },
  {
   "cell_type": "code",
   "execution_count": null,
   "id": "c5ffae59",
   "metadata": {},
   "outputs": [],
   "source": [
    "# 5. adım\n",
    "# e ile çarpıldığında Mod 6 = 1 olan d değerini bulunuz?\n",
    "# 1 * 5 (Mod 6) = 5\n",
    "# 2 * 5 (Mod 6) = 4\n",
    "# 3 * 5 (Mod 6) = 3\n",
    "# 4 * 5 (Mod 6) = 2\n",
    "# 5 * 5 (Mod 6) = 1 **** (e ile aynı olduğu için kullanılması iyi bir fikir değil)\n",
    "# 11 * 5 (mod 6) = 1 => d = 11"
   ]
  },
  {
   "cell_type": "code",
   "execution_count": 19,
   "id": "18beeecb",
   "metadata": {},
   "outputs": [],
   "source": [
    "# RSA algoritması tamamlandı\n",
    "# Mod = 14 (public key - herkes görebilir)\n",
    "# e = 5 (Public key - herkes görebilir)\n",
    "# d = 11 (Private key - gizli - sadece kaynak bilebilir)"
   ]
  },
  {
   "cell_type": "code",
   "execution_count": 22,
   "id": "1c559304",
   "metadata": {},
   "outputs": [
    {
     "data": {
      "text/plain": [
       "4"
      ]
     },
     "execution_count": 22,
     "metadata": {},
     "output_type": "execute_result"
    }
   ],
   "source": [
    "# B harfini şifreli olarak Zeynep'e göndermek\n",
    "# B => 2\n",
    "# 2^5 (Mod 14) => pow(2,e) Mod(14)\n",
    "pow(2,5) % 14 \n",
    "# Şifreli mesaj => 4"
   ]
  },
  {
   "cell_type": "code",
   "execution_count": 23,
   "id": "d371f5b8",
   "metadata": {},
   "outputs": [
    {
     "data": {
      "text/plain": [
       "2"
      ]
     },
     "execution_count": 23,
     "metadata": {},
     "output_type": "execute_result"
    }
   ],
   "source": [
    "# Şifrenin çözümü pow(4,d) mod(14)\n",
    "pow(4,11) % 14"
   ]
  },
  {
   "cell_type": "code",
   "execution_count": 31,
   "id": "ccfb5a60",
   "metadata": {},
   "outputs": [],
   "source": [
    "mesaj = 'PASSWORD:4581923'"
   ]
  },
  {
   "cell_type": "code",
   "execution_count": 32,
   "id": "3f1d6c43",
   "metadata": {},
   "outputs": [],
   "source": [
    "msg = [ord(x) for x in mesaj]"
   ]
  },
  {
   "cell_type": "code",
   "execution_count": 33,
   "id": "283b1d68",
   "metadata": {},
   "outputs": [
    {
     "data": {
      "text/plain": [
       "[80, 65, 83, 83, 87, 79, 82, 68, 58, 52, 53, 56, 49, 57, 50, 51]"
      ]
     },
     "execution_count": 33,
     "metadata": {},
     "output_type": "execute_result"
    }
   ],
   "source": [
    "msg"
   ]
  },
  {
   "cell_type": "code",
   "execution_count": 40,
   "id": "758b6fa5",
   "metadata": {},
   "outputs": [],
   "source": [
    "# Asal sayılar 1-100'e kadar\n",
    "import numpy as np\n",
    "\n",
    "def returnIkiAsalSayi(basla=2, son=21):\n",
    "    # Initialize a list\n",
    "    primes = []\n",
    "    for possiblePrime in range(basla, son):\n",
    "        # Assume number is prime until shown it is not. \n",
    "        isPrime = True\n",
    "        for num in range(2, possiblePrime):\n",
    "            if possiblePrime % num == 0:\n",
    "                isPrime = False\n",
    "                break\n",
    "        if isPrime:\n",
    "            primes.append(possiblePrime)\n",
    "    \n",
    "    return np.random.choice(primes),np.random.choice(primes)\n"
   ]
  },
  {
   "cell_type": "code",
   "execution_count": 50,
   "id": "edff8fb3",
   "metadata": {},
   "outputs": [],
   "source": [
    "# 1. adım\n",
    "p, q = returnIkiAsalSayi(2,101)"
   ]
  },
  {
   "cell_type": "code",
   "execution_count": 51,
   "id": "b11b168e",
   "metadata": {},
   "outputs": [],
   "source": [
    "# 2. adım: Mod değerini hesapla\n",
    "n = p * q"
   ]
  },
  {
   "cell_type": "code",
   "execution_count": 52,
   "id": "d38d131c",
   "metadata": {},
   "outputs": [],
   "source": [
    "# 3. adım: Totient hesapla\n",
    "T = (p - 1) * (q - 1)"
   ]
  },
  {
   "cell_type": "code",
   "execution_count": 56,
   "id": "39922295",
   "metadata": {},
   "outputs": [],
   "source": [
    "# 4. adım\n",
    "# 1 < e < T olan ve T ile aralarında asal olan bir e sayısı bulunuz. (2,3,4,5 içinden)\n",
    "# e = 5\n",
    "def aralarinda_asal(a,b):\n",
    "    hcf = 1\n",
    "    for i in range(1, a+1):\n",
    "        if a % i==0 and b % i==0:\n",
    "            hcf = i\n",
    "    return hcf == 1"
   ]
  },
  {
   "cell_type": "code",
   "execution_count": 55,
   "id": "10f12e8d",
   "metadata": {},
   "outputs": [
    {
     "data": {
      "text/plain": [
       "True"
      ]
     },
     "execution_count": 55,
     "metadata": {},
     "output_type": "execute_result"
    }
   ],
   "source": [
    "aralarinda_asal(5,6)"
   ]
  }
 ],
 "metadata": {
  "kernelspec": {
   "display_name": "Python 3 (ipykernel)",
   "language": "python",
   "name": "python3"
  },
  "language_info": {
   "codemirror_mode": {
    "name": "ipython",
    "version": 3
   },
   "file_extension": ".py",
   "mimetype": "text/x-python",
   "name": "python",
   "nbconvert_exporter": "python",
   "pygments_lexer": "ipython3",
   "version": "3.10.8"
  }
 },
 "nbformat": 4,
 "nbformat_minor": 5
}
