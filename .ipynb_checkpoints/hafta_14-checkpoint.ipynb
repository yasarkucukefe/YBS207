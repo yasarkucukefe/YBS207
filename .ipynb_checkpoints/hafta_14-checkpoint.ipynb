{
 "cells": [
  {
   "cell_type": "code",
   "execution_count": 1,
   "id": "ea154c3c",
   "metadata": {},
   "outputs": [],
   "source": [
    "# Tic tac toe oyunu\n",
    "# google ara: tic tac toe"
   ]
  },
  {
   "cell_type": "code",
   "execution_count": 3,
   "id": "c462e5cb",
   "metadata": {},
   "outputs": [],
   "source": [
    "oyunArray = [['x','x','o'],['x','o','x'],['o','x','o']]"
   ]
  },
  {
   "cell_type": "code",
   "execution_count": 4,
   "id": "452b06af",
   "metadata": {},
   "outputs": [
    {
     "name": "stdout",
     "output_type": "stream",
     "text": [
      "['x', 'x', 'o']\n",
      "['x', 'o', 'x']\n",
      "['o', 'x', 'o']\n"
     ]
    }
   ],
   "source": [
    "for row in oyunArray:\n",
    "    print(row)"
   ]
  },
  {
   "cell_type": "code",
   "execution_count": 8,
   "id": "59dac6e3",
   "metadata": {},
   "outputs": [],
   "source": [
    "def oyun_sonucu(arr):\n",
    "    # kod\n",
    "    return 'o' # oyun sonucu, kim kazandı veya berabere"
   ]
  },
  {
   "cell_type": "code",
   "execution_count": 9,
   "id": "f08d22e6",
   "metadata": {},
   "outputs": [
    {
     "data": {
      "text/plain": [
       "'o'"
      ]
     },
     "execution_count": 9,
     "metadata": {},
     "output_type": "execute_result"
    }
   ],
   "source": [
    "oyunArray = [['x','x','o'],['x','o','x'],['o','x','o']]\n",
    "oyun_sonucu(oyunArray) # => o kazandı"
   ]
  },
  {
   "cell_type": "code",
   "execution_count": 10,
   "id": "6fa8b1f5",
   "metadata": {},
   "outputs": [],
   "source": [
    "def print_oyun_tablosu(arr):\n",
    "    for row in arr:\n",
    "        print(row)"
   ]
  },
  {
   "cell_type": "code",
   "execution_count": 11,
   "id": "b2a62647",
   "metadata": {},
   "outputs": [
    {
     "name": "stdout",
     "output_type": "stream",
     "text": [
      "['x', 'x', 'x']\n",
      "['x', 'o', 'x']\n",
      "['o', 'x', 'o']\n"
     ]
    }
   ],
   "source": [
    "oyunArray = [['x','x','x'],['x','o','x'],['o','x','o']]\n",
    "print_oyun_tablosu(oyunArray)"
   ]
  },
  {
   "cell_type": "code",
   "execution_count": 12,
   "id": "d3d4d321",
   "metadata": {},
   "outputs": [],
   "source": [
    "arr = [['x','x','x'],['x','o','x'],['o','x','o']]"
   ]
  },
  {
   "cell_type": "code",
   "execution_count": 14,
   "id": "cd781040",
   "metadata": {},
   "outputs": [
    {
     "data": {
      "text/plain": [
       "['x', 'x', 'x']"
      ]
     },
     "execution_count": 14,
     "metadata": {},
     "output_type": "execute_result"
    }
   ],
   "source": [
    "arr[0]"
   ]
  },
  {
   "cell_type": "code",
   "execution_count": 15,
   "id": "b0c37292",
   "metadata": {},
   "outputs": [
    {
     "data": {
      "text/plain": [
       "'xxx'"
      ]
     },
     "execution_count": 15,
     "metadata": {},
     "output_type": "execute_result"
    }
   ],
   "source": [
    "''.join(arr[0])"
   ]
  },
  {
   "cell_type": "code",
   "execution_count": 17,
   "id": "70c6315c",
   "metadata": {},
   "outputs": [],
   "source": [
    "def oyun_sonucu(arr):\n",
    "    for row in arr:\n",
    "        if ''.join(row) == 'xxx':\n",
    "            return 'x kazandı'\n",
    "        if ''.join(row) == 'ooo':\n",
    "            return 'o kazandı'  \n",
    "    return 'berabere' # oyun sonucu, kim kazandı veya berabere"
   ]
  },
  {
   "cell_type": "code",
   "execution_count": 18,
   "id": "de1af13c",
   "metadata": {},
   "outputs": [
    {
     "data": {
      "text/plain": [
       "[['x', 'x', 'x'], ['x', 'o', 'x'], ['o', 'x', 'o']]"
      ]
     },
     "execution_count": 18,
     "metadata": {},
     "output_type": "execute_result"
    }
   ],
   "source": [
    "arr"
   ]
  },
  {
   "cell_type": "code",
   "execution_count": 19,
   "id": "6b039f9d",
   "metadata": {},
   "outputs": [
    {
     "data": {
      "text/plain": [
       "'x kazandı'"
      ]
     },
     "execution_count": 19,
     "metadata": {},
     "output_type": "execute_result"
    }
   ],
   "source": [
    "oyun_sonucu(arr)"
   ]
  },
  {
   "cell_type": "code",
   "execution_count": 20,
   "id": "18539a9f",
   "metadata": {},
   "outputs": [
    {
     "name": "stdout",
     "output_type": "stream",
     "text": [
      "['o', 'x', 'x']\n",
      "['x', 'o', 'x']\n",
      "['o', 'o', 'o']\n"
     ]
    }
   ],
   "source": [
    "arr = [['o','x','x'],['x','o','x'],['o','o','o']]\n",
    "print_oyun_tablosu(arr)"
   ]
  },
  {
   "cell_type": "code",
   "execution_count": 21,
   "id": "8512e4d7",
   "metadata": {},
   "outputs": [
    {
     "data": {
      "text/plain": [
       "'o kazandı'"
      ]
     },
     "execution_count": 21,
     "metadata": {},
     "output_type": "execute_result"
    }
   ],
   "source": [
    "oyun_sonucu(arr)"
   ]
  },
  {
   "cell_type": "code",
   "execution_count": 22,
   "id": "b4a12d66",
   "metadata": {},
   "outputs": [],
   "source": [
    "import numpy as np\n",
    "arr = [['o','x','x'],['x','o','x'],['o','o','o']]\n",
    "arrT = np.array(arr).transpose()"
   ]
  },
  {
   "cell_type": "code",
   "execution_count": 23,
   "id": "bb834778",
   "metadata": {},
   "outputs": [
    {
     "name": "stdout",
     "output_type": "stream",
     "text": [
      "[['o' 'x' 'o']\n",
      " ['x' 'o' 'o']\n",
      " ['x' 'x' 'o']]\n"
     ]
    }
   ],
   "source": [
    "print(arrT)"
   ]
  },
  {
   "cell_type": "code",
   "execution_count": 24,
   "id": "ec2ab321",
   "metadata": {},
   "outputs": [
    {
     "name": "stdout",
     "output_type": "stream",
     "text": [
      "['o', 'x', 'x']\n",
      "['o', 'o', 'x']\n",
      "['o', 'x', 'o']\n"
     ]
    }
   ],
   "source": [
    "arr = [['o','x','x'],['o','o','x'],['o','x','o']]\n",
    "print_oyun_tablosu(arr)"
   ]
  },
  {
   "cell_type": "code",
   "execution_count": 25,
   "id": "3c424dcb",
   "metadata": {},
   "outputs": [
    {
     "name": "stdout",
     "output_type": "stream",
     "text": [
      "[['o' 'o' 'o']\n",
      " ['x' 'o' 'x']\n",
      " ['x' 'x' 'o']]\n"
     ]
    }
   ],
   "source": [
    "arrT = np.array(arr).transpose()\n",
    "print(arrT)"
   ]
  },
  {
   "cell_type": "code",
   "execution_count": 28,
   "id": "29a2211c",
   "metadata": {},
   "outputs": [],
   "source": [
    "def oyun_sonucu(arr):\n",
    "    print_oyun_tablosu(arr)\n",
    "    for row in arr:\n",
    "        if ''.join(row) == 'xxx':\n",
    "            return 'x kazandı'\n",
    "        if ''.join(row) == 'ooo':\n",
    "            return 'o kazandı'  \n",
    "    # Transpose\n",
    "    arrT = np.array(arr).transpose()\n",
    "    for row in arrT:\n",
    "        if ''.join(row) == 'xxx':\n",
    "            return 'x kazandı'\n",
    "        if ''.join(row) == 'ooo':\n",
    "            return 'o kazandı'  \n",
    "    \n",
    "    return 'berabere' # oyun sonucu, kim kazandı veya berabere"
   ]
  },
  {
   "cell_type": "code",
   "execution_count": 32,
   "id": "734b14df",
   "metadata": {},
   "outputs": [
    {
     "name": "stdout",
     "output_type": "stream",
     "text": [
      "['o', 'o', 'x']\n",
      "['o', 'x', 'x']\n",
      "['o', 'x', 'o']\n"
     ]
    },
    {
     "data": {
      "text/plain": [
       "'o kazandı'"
      ]
     },
     "execution_count": 32,
     "metadata": {},
     "output_type": "execute_result"
    }
   ],
   "source": [
    "oyun_sonucu([['o','o','x'],['o','x','x'],['o','x','o']])"
   ]
  },
  {
   "cell_type": "code",
   "execution_count": 33,
   "id": "bb97510e",
   "metadata": {},
   "outputs": [
    {
     "name": "stdout",
     "output_type": "stream",
     "text": [
      "['x', 'x', 'x']\n",
      "['x', 'o', 'x']\n",
      "['o', 'x', 'o']\n"
     ]
    },
    {
     "data": {
      "text/plain": [
       "'x kazandı'"
      ]
     },
     "execution_count": 33,
     "metadata": {},
     "output_type": "execute_result"
    }
   ],
   "source": [
    "oyun_sonucu([['x', 'x', 'x'], ['x', 'o', 'x'], ['o', 'x', 'o']])"
   ]
  },
  {
   "cell_type": "code",
   "execution_count": 36,
   "id": "4772873d",
   "metadata": {},
   "outputs": [
    {
     "name": "stdout",
     "output_type": "stream",
     "text": [
      "['x', 'o', 'o']\n",
      "['o', 'x', 'x']\n",
      "['o', 'x', 'x']\n"
     ]
    }
   ],
   "source": [
    "arr = [['x', 'o', 'o'], ['o', 'x', 'x'], ['o', 'x', 'x']]\n",
    "print_oyun_tablosu(arr)"
   ]
  },
  {
   "cell_type": "code",
   "execution_count": 43,
   "id": "5dc6e1fe",
   "metadata": {},
   "outputs": [
    {
     "data": {
      "text/plain": [
       "['x', 'x', 'x']"
      ]
     },
     "execution_count": 43,
     "metadata": {},
     "output_type": "execute_result"
    }
   ],
   "source": [
    "[arr[0][0],arr[1][1],arr[2][2]] # diagonal-1"
   ]
  },
  {
   "cell_type": "code",
   "execution_count": 45,
   "id": "582a2bd8",
   "metadata": {},
   "outputs": [
    {
     "data": {
      "text/plain": [
       "['o', 'x', 'o']"
      ]
     },
     "execution_count": 45,
     "metadata": {},
     "output_type": "execute_result"
    }
   ],
   "source": [
    "[arr[2][0],arr[1][1],arr[2][0]] # diagonal-2"
   ]
  },
  {
   "cell_type": "code",
   "execution_count": 51,
   "id": "1b22202a",
   "metadata": {},
   "outputs": [],
   "source": [
    "def oyun_sonucu(arr):\n",
    "    print_oyun_tablosu(arr)\n",
    "    for row in arr:\n",
    "        if ''.join(row) == 'xxx':\n",
    "            return 'x kazandı'\n",
    "        if ''.join(row) == 'ooo':\n",
    "            return 'o kazandı'  \n",
    "    # Transpose\n",
    "    arrT = np.array(arr).transpose()\n",
    "    for row in arrT:\n",
    "        if ''.join(row) == 'xxx':\n",
    "            return 'x kazandı'\n",
    "        if ''.join(row) == 'ooo':\n",
    "            return 'o kazandı'  \n",
    "    # Diagonal-1\n",
    "    row = [arr[0][0],arr[1][1],arr[2][2]]\n",
    "    if ''.join(row) == 'xxx':\n",
    "        return 'x kazandı'\n",
    "    if ''.join(row) == 'ooo':\n",
    "        return 'o kazandı'\n",
    "    # Diagonal-2\n",
    "    row = [arr[2][0],arr[1][1],arr[2][0]]\n",
    "    if ''.join(row) == 'xxx':\n",
    "        return 'x kazandı'\n",
    "    if ''.join(row) == 'ooo':\n",
    "        return 'o kazandı'\n",
    "    \n",
    "    return 'berabere' # oyun sonucu, kim kazandı veya berabere"
   ]
  },
  {
   "cell_type": "code",
   "execution_count": 52,
   "id": "6087dbc8",
   "metadata": {},
   "outputs": [
    {
     "name": "stdout",
     "output_type": "stream",
     "text": [
      "['x', 'o', 'o']\n",
      "['o', 'x', 'x']\n",
      "['o', 'x', 'x']\n"
     ]
    },
    {
     "data": {
      "text/plain": [
       "'x kazandı'"
      ]
     },
     "execution_count": 52,
     "metadata": {},
     "output_type": "execute_result"
    }
   ],
   "source": [
    "oyun_sonucu([['x', 'o', 'o'], ['o', 'x', 'x'], ['o', 'x', 'x']])"
   ]
  },
  {
   "cell_type": "code",
   "execution_count": 53,
   "id": "70725a83",
   "metadata": {},
   "outputs": [
    {
     "name": "stdout",
     "output_type": "stream",
     "text": [
      "['x', 'o', 'o']\n",
      "['o', 'o', 'x']\n",
      "['o', 'x', 'x']\n"
     ]
    },
    {
     "data": {
      "text/plain": [
       "'o kazandı'"
      ]
     },
     "execution_count": 53,
     "metadata": {},
     "output_type": "execute_result"
    }
   ],
   "source": [
    "oyun_sonucu([['x', 'o', 'o'], ['o', 'o', 'x'], ['o', 'x', 'x']])"
   ]
  },
  {
   "cell_type": "code",
   "execution_count": 49,
   "id": "9653e033",
   "metadata": {},
   "outputs": [
    {
     "name": "stdout",
     "output_type": "stream",
     "text": [
      "['x', 'o', 'x']\n",
      "['o', 'x', 'x']\n",
      "['o', 'x', 'o']\n"
     ]
    },
    {
     "data": {
      "text/plain": [
       "'berabere'"
      ]
     },
     "execution_count": 49,
     "metadata": {},
     "output_type": "execute_result"
    }
   ],
   "source": [
    "oyun_sonucu([['x', 'o', 'x'], ['o', 'x', 'x'], ['o', 'x', 'o']])"
   ]
  },
  {
   "cell_type": "code",
   "execution_count": 92,
   "id": "b4980a31",
   "metadata": {},
   "outputs": [],
   "source": [
    "\n",
    "def eval_row_yeni(row):\n",
    "    if row[0] == row[1] == row[2]:\n",
    "        return row[0]\n",
    "    return \"-\"\n",
    "\n",
    "def eval_array(arr):\n",
    "    for row in arr: \n",
    "        sonuc = eval_row_yeni(row)\n",
    "        if sonuc != '-':\n",
    "            return sonuc\n",
    "    return '-'\n",
    "    \n",
    "# Fonksiyonu daha anlaşılır hale getir\n",
    "def oyun_sonucu(arr):\n",
    "    print_oyun_tablosu(arr)\n",
    "    # satırlar\n",
    "    sonuc = eval_array(arr)   \n",
    "    if sonuc != '-':\n",
    "        return sonuc\n",
    "    \n",
    "    # kolonlar\n",
    "    arrT = np.array(arr).transpose()\n",
    "    sonuc = eval_array(arrT)\n",
    "    if sonuc != '-':\n",
    "        return sonuc\n",
    "    \n",
    "    # Diagonal-1\n",
    "    sonuc = eval_row_yeni([arr[0][0],arr[1][1],arr[2][2]])\n",
    "    if sonuc != '-':\n",
    "        return sonuc\n",
    "    \n",
    "    # Diagonal-2\n",
    "    sonuc = eval_row_yeni([arr[2][0],arr[1][1],arr[2][0]])\n",
    "    if sonuc != '-':\n",
    "        return sonuc\n",
    "    \n",
    "    return '-' # oyun sonucu, kim kazandı veya berabere"
   ]
  },
  {
   "cell_type": "code",
   "execution_count": 50,
   "id": "f1ef8923",
   "metadata": {},
   "outputs": [],
   "source": [
    "# DRY : Do not Repeat Yourself\n",
    "# https://en.wikipedia.org/wiki/Don%27t_repeat_yourself"
   ]
  },
  {
   "cell_type": "code",
   "execution_count": 93,
   "id": "d0cb01da",
   "metadata": {},
   "outputs": [
    {
     "name": "stdout",
     "output_type": "stream",
     "text": [
      "['x', 'o', 'x']\n",
      "['o', 'x', 'x']\n",
      "['o', 'x', 'o']\n"
     ]
    },
    {
     "data": {
      "text/plain": [
       "'-'"
      ]
     },
     "execution_count": 93,
     "metadata": {},
     "output_type": "execute_result"
    }
   ],
   "source": [
    "oyun_sonucu([['x', 'o', 'x'], ['o', 'x', 'x'], ['o', 'x', 'o']])"
   ]
  },
  {
   "cell_type": "code",
   "execution_count": 95,
   "id": "89090545",
   "metadata": {},
   "outputs": [
    {
     "name": "stdout",
     "output_type": "stream",
     "text": [
      "['x', 'o', 'o']\n",
      "['o', 'o', 'x']\n",
      "['o', 'x', 'x']\n"
     ]
    },
    {
     "data": {
      "text/plain": [
       "'o'"
      ]
     },
     "execution_count": 95,
     "metadata": {},
     "output_type": "execute_result"
    }
   ],
   "source": [
    "oyun_sonucu([['x', 'o', 'o'], ['o', 'o', 'x'], ['o', 'x', 'x']])"
   ]
  },
  {
   "cell_type": "code",
   "execution_count": 94,
   "id": "d2505882",
   "metadata": {},
   "outputs": [
    {
     "name": "stdout",
     "output_type": "stream",
     "text": [
      "['x', 'x', 'x']\n",
      "['x', 'o', 'x']\n",
      "['o', 'x', 'o']\n"
     ]
    },
    {
     "data": {
      "text/plain": [
       "'x'"
      ]
     },
     "execution_count": 94,
     "metadata": {},
     "output_type": "execute_result"
    }
   ],
   "source": [
    "oyun_sonucu([['x','x','x'],['x','o','x'],['o','x','o']])"
   ]
  },
  {
   "cell_type": "code",
   "execution_count": 90,
   "id": "9e80ef20",
   "metadata": {},
   "outputs": [
    {
     "name": "stdout",
     "output_type": "stream",
     "text": [
      "['x', 'x', 'x']\n",
      "['x', 'o', 'x']\n",
      "['o', 'x', 'o']\n",
      "['x', 'x', 'x']\n",
      "x kazandı\n"
     ]
    }
   ],
   "source": [
    "mac_sonucu = oyun_sonucu([['x','x','x'],['x','o','x'],['o','x','o']])\n",
    "if mac_sonucu == \"-\":\n",
    "    print(\"berabere\")\n",
    "else:\n",
    "    print(f\"{mac_sonucu} kazandı\")"
   ]
  },
  {
   "cell_type": "code",
   "execution_count": 82,
   "id": "3a3f79e0",
   "metadata": {},
   "outputs": [],
   "source": [
    "arr = [['x','x','x'],['x','o','x'],['o','x','o']]"
   ]
  },
  {
   "cell_type": "code",
   "execution_count": 83,
   "id": "215c79fb",
   "metadata": {},
   "outputs": [],
   "source": [
    "row = arr[0]"
   ]
  },
  {
   "cell_type": "code",
   "execution_count": 84,
   "id": "1769be07",
   "metadata": {},
   "outputs": [
    {
     "data": {
      "text/plain": [
       "True"
      ]
     },
     "execution_count": 84,
     "metadata": {},
     "output_type": "execute_result"
    }
   ],
   "source": [
    "row[0] == row[1] == row[2]"
   ]
  },
  {
   "cell_type": "markdown",
   "id": "6c3802ff",
   "metadata": {},
   "source": [
    "## Python"
   ]
  },
  {
   "cell_type": "code",
   "execution_count": 100,
   "id": "abd3930b",
   "metadata": {},
   "outputs": [
    {
     "name": "stdout",
     "output_type": "stream",
     "text": [
      "21\n"
     ]
    }
   ],
   "source": [
    "var = 10\n",
    "for i in range(10):\n",
    "    for j in range(2, 10, 1):\n",
    "        if var % 2 == 0:\n",
    "            continue\n",
    "            var += 1\n",
    "    var+=1\n",
    "else:\n",
    "    var+=1\n",
    "print(var)"
   ]
  },
  {
   "cell_type": "code",
   "execution_count": 101,
   "id": "c09dc6a3",
   "metadata": {},
   "outputs": [],
   "source": [
    "x += 2 # x = x + 2 ile aynı"
   ]
  },
  {
   "cell_type": "code",
   "execution_count": null,
   "id": "b3464fd7",
   "metadata": {},
   "outputs": [],
   "source": [
    "x *= 2 # x = x * 2 ile aynı"
   ]
  },
  {
   "cell_type": "code",
   "execution_count": 102,
   "id": "ceeb99a5",
   "metadata": {},
   "outputs": [
    {
     "data": {
      "text/plain": [
       "True"
      ]
     },
     "execution_count": 102,
     "metadata": {},
     "output_type": "execute_result"
    }
   ],
   "source": [
    "7 // 2 == 6 / 2 # ?"
   ]
  },
  {
   "cell_type": "code",
   "execution_count": 104,
   "id": "8efb28e1",
   "metadata": {},
   "outputs": [
    {
     "data": {
      "text/plain": [
       "7"
      ]
     },
     "execution_count": 104,
     "metadata": {},
     "output_type": "execute_result"
    }
   ],
   "source": [
    "4 + 7 // 2 # ? Sınavda çıkabilir. // daha önce yapılır."
   ]
  },
  {
   "cell_type": "code",
   "execution_count": 105,
   "id": "ebe543ac",
   "metadata": {},
   "outputs": [
    {
     "data": {
      "text/plain": [
       "3"
      ]
     },
     "execution_count": 105,
     "metadata": {},
     "output_type": "execute_result"
    }
   ],
   "source": [
    "5 - 8 % 3 "
   ]
  },
  {
   "cell_type": "code",
   "execution_count": 108,
   "id": "79d9bdba",
   "metadata": {},
   "outputs": [
    {
     "data": {
      "text/plain": [
       "True"
      ]
     },
     "execution_count": 108,
     "metadata": {},
     "output_type": "execute_result"
    }
   ],
   "source": [
    "any([1>0,2==3])"
   ]
  },
  {
   "cell_type": "code",
   "execution_count": 109,
   "id": "54666363",
   "metadata": {},
   "outputs": [
    {
     "ename": "SyntaxError",
     "evalue": "invalid syntax (971796564.py, line 2)",
     "output_type": "error",
     "traceback": [
      "\u001b[1;36m  Cell \u001b[1;32mIn [109], line 2\u001b[1;36m\u001b[0m\n\u001b[1;33m    x = y += 2\u001b[0m\n\u001b[1;37m          ^\u001b[0m\n\u001b[1;31mSyntaxError\u001b[0m\u001b[1;31m:\u001b[0m invalid syntax\n"
     ]
    }
   ],
   "source": [
    "y = 10\n",
    "x = y += 2\n",
    "print(x)"
   ]
  },
  {
   "cell_type": "code",
   "execution_count": 110,
   "id": "481ff76f",
   "metadata": {},
   "outputs": [
    {
     "data": {
      "text/plain": [
       "2"
      ]
     },
     "execution_count": 110,
     "metadata": {},
     "output_type": "execute_result"
    }
   ],
   "source": [
    "2 % 5 # Sınavda çıkabilir"
   ]
  },
  {
   "cell_type": "code",
   "execution_count": 111,
   "id": "1225a803",
   "metadata": {},
   "outputs": [
    {
     "name": "stdout",
     "output_type": "stream",
     "text": [
      "9.0\n"
     ]
    }
   ],
   "source": [
    "print(36 / 4)"
   ]
  },
  {
   "cell_type": "code",
   "execution_count": 114,
   "id": "1253bdf0",
   "metadata": {},
   "outputs": [
    {
     "name": "stdout",
     "output_type": "stream",
     "text": [
      "7\n"
     ]
    }
   ],
   "source": [
    "def topla(a, b):\n",
    "    return a + b\n",
    "\n",
    "def çikar(a,b):\n",
    "    return a - b\n",
    "\n",
    "def islem(a,b,func):\n",
    "    return func(a,b)\n",
    "    \n",
    "sonuc = islem(3,4,topla)\n",
    "print(sonuc)"
   ]
  },
  {
   "cell_type": "code",
   "execution_count": 115,
   "id": "f94767dd",
   "metadata": {},
   "outputs": [],
   "source": [
    "class Meyve:\n",
    "    def __init__(self,a,b):\n",
    "        self.a = a\n",
    "        self.b = b"
   ]
  },
  {
   "cell_type": "code",
   "execution_count": 116,
   "id": "24e398c5",
   "metadata": {},
   "outputs": [],
   "source": [
    "elma = Meyve(3,9)"
   ]
  },
  {
   "cell_type": "code",
   "execution_count": 117,
   "id": "056bf16f",
   "metadata": {},
   "outputs": [
    {
     "data": {
      "text/plain": [
       "3"
      ]
     },
     "execution_count": 117,
     "metadata": {},
     "output_type": "execute_result"
    }
   ],
   "source": [
    "elma.a"
   ]
  },
  {
   "cell_type": "code",
   "execution_count": 119,
   "id": "5ae59513",
   "metadata": {},
   "outputs": [
    {
     "data": {
      "text/plain": [
       "__main__.Meyve"
      ]
     },
     "execution_count": 119,
     "metadata": {},
     "output_type": "execute_result"
    }
   ],
   "source": [
    "type(elma)"
   ]
  },
  {
   "cell_type": "code",
   "execution_count": 120,
   "id": "8cf6a95e",
   "metadata": {},
   "outputs": [
    {
     "name": "stdout",
     "output_type": "stream",
     "text": [
      "[2, 3, 4, 2, 3, 4, 2, 3, 4]\n"
     ]
    }
   ],
   "source": [
    "liste = [2,3,4]\n",
    "\n",
    "print(3 * liste)"
   ]
  },
  {
   "cell_type": "code",
   "execution_count": 123,
   "id": "faafae2d",
   "metadata": {},
   "outputs": [
    {
     "name": "stdout",
     "output_type": "stream",
     "text": [
      "[25, 10]\n"
     ]
    }
   ],
   "source": [
    "aList = [5, 10, 15, 25]\n",
    "print(aList[::-2])"
   ]
  },
  {
   "cell_type": "code",
   "execution_count": 125,
   "id": "68b84067",
   "metadata": {},
   "outputs": [
    {
     "name": "stdout",
     "output_type": "stream",
     "text": [
      "[25, 15, 10, 5]\n"
     ]
    }
   ],
   "source": [
    "print(aList[::-1])"
   ]
  },
  {
   "cell_type": "code",
   "execution_count": 126,
   "id": "38758019",
   "metadata": {},
   "outputs": [
    {
     "name": "stdout",
     "output_type": "stream",
     "text": [
      "[25]\n"
     ]
    }
   ],
   "source": [
    "print(aList[::-4])"
   ]
  },
  {
   "cell_type": "code",
   "execution_count": 127,
   "id": "2625ee0d",
   "metadata": {},
   "outputs": [
    {
     "name": "stdout",
     "output_type": "stream",
     "text": [
      "None\n"
     ]
    }
   ],
   "source": [
    "dict1 = {\"name\": \"Mike\", \"salary\": 8000}\n",
    "temp = dict1.get(\"age\")\n",
    "print(temp)"
   ]
  }
 ],
 "metadata": {
  "kernelspec": {
   "display_name": "Python 3 (ipykernel)",
   "language": "python",
   "name": "python3"
  },
  "language_info": {
   "codemirror_mode": {
    "name": "ipython",
    "version": 3
   },
   "file_extension": ".py",
   "mimetype": "text/x-python",
   "name": "python",
   "nbconvert_exporter": "python",
   "pygments_lexer": "ipython3",
   "version": "3.10.8"
  }
 },
 "nbformat": 4,
 "nbformat_minor": 5
}
