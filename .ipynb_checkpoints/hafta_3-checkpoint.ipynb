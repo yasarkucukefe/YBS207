{
 "cells": [
  {
   "cell_type": "code",
   "execution_count": 1,
   "id": "46576e5d",
   "metadata": {},
   "outputs": [],
   "source": [
    "# Sayısal Loto\n",
    "# 1'den 49'a kadar toplam 8 sayı seçilecek\n",
    "# aynı rakamlar olmamalı."
   ]
  },
  {
   "cell_type": "code",
   "execution_count": 2,
   "id": "e6203eb2",
   "metadata": {},
   "outputs": [],
   "source": [
    "import numpy as np"
   ]
  },
  {
   "cell_type": "code",
   "execution_count": 79,
   "id": "9d18c99c",
   "metadata": {},
   "outputs": [
    {
     "data": {
      "text/plain": [
       "22"
      ]
     },
     "execution_count": 79,
     "metadata": {},
     "output_type": "execute_result"
    }
   ],
   "source": [
    "np.random.randint(1,50) # 1 ile 50 arasında (50 hariç) uniform dağılım"
   ]
  },
  {
   "cell_type": "code",
   "execution_count": 71,
   "id": "25d96520",
   "metadata": {},
   "outputs": [
    {
     "name": "stdout",
     "output_type": "stream",
     "text": [
      "1\n"
     ]
    }
   ],
   "source": [
    "i = 1\n",
    "while True:\n",
    "    rakam = np.random.randint(1,50)\n",
    "    if rakam == 1:\n",
    "        print(rakam)\n",
    "        break\n",
    "    i = i + 1\n",
    "    if i > 100000:\n",
    "        print(\"deneme > 100000\")\n",
    "        break"
   ]
  },
  {
   "cell_type": "code",
   "execution_count": 83,
   "id": "6f2d450c",
   "metadata": {},
   "outputs": [
    {
     "name": "stdout",
     "output_type": "stream",
     "text": [
      "[20, 42, 20, 13, 10, 31, 43, 5]\n"
     ]
    }
   ],
   "source": [
    "# Sayısal sonuçları\n",
    "liste = []\n",
    "for i in range(1,9):\n",
    "    rakam = np.random.randint(1,50)\n",
    "    liste.append(rakam)\n",
    "\n",
    "print(liste)"
   ]
  },
  {
   "cell_type": "code",
   "execution_count": 88,
   "id": "83cb9865",
   "metadata": {},
   "outputs": [
    {
     "name": "stdout",
     "output_type": "stream",
     "text": [
      "{2, 38, 8, 47, 20, 22, 31}\n"
     ]
    }
   ],
   "source": [
    "# set (küme)\n",
    "liste = set() # boş küme ! Sınav sorusu\n",
    "for i in range(1,9):\n",
    "    rakam = np.random.randint(1,50)\n",
    "    liste.add(rakam)\n",
    "    \n",
    "print(liste) # bazı durumlarda 8'den daha az eleman içeren sonuçlar olabilir!"
   ]
  },
  {
   "cell_type": "code",
   "execution_count": 133,
   "id": "7e280c19",
   "metadata": {},
   "outputs": [
    {
     "name": "stdout",
     "output_type": "stream",
     "text": [
      "{3, 36, 37, 6, 43, 47, 49, 30}\n"
     ]
    }
   ],
   "source": [
    "liste = set() # boş küme ! Sınav sorusu\n",
    "while True:\n",
    "    rakam = np.random.randint(1,50)\n",
    "    liste.add(rakam)\n",
    "    if len(liste) == 8:\n",
    "        break\n",
    "        \n",
    "print(liste)"
   ]
  },
  {
   "cell_type": "code",
   "execution_count": 134,
   "id": "5933affd",
   "metadata": {},
   "outputs": [],
   "source": [
    "def test_random_8():\n",
    "    liste = set() # boş küme ! Sınav sorusu\n",
    "    while True:\n",
    "        rakam = np.random.randint(1,50)\n",
    "        liste.add(rakam)\n",
    "        if len(liste) == 8:\n",
    "            break\n",
    "    return len(liste)"
   ]
  },
  {
   "cell_type": "code",
   "execution_count": 147,
   "id": "9075bd10",
   "metadata": {},
   "outputs": [],
   "source": [
    "for i in range(100000):\n",
    "    elm_say = test_random_8()\n",
    "    if elm_say != 8:\n",
    "        print(\"Eleman sayısı 8 değil\")"
   ]
  },
  {
   "cell_type": "code",
   "execution_count": 167,
   "id": "7e655618",
   "metadata": {},
   "outputs": [],
   "source": [
    "def listede_mi(liste,rakam):\n",
    "    for mevcut in liste:\n",
    "        if mevcut == rakam:\n",
    "            return True\n",
    "    return False"
   ]
  },
  {
   "cell_type": "code",
   "execution_count": 169,
   "id": "127c4a3e",
   "metadata": {},
   "outputs": [
    {
     "data": {
      "text/plain": [
       "True"
      ]
     },
     "execution_count": 169,
     "metadata": {},
     "output_type": "execute_result"
    }
   ],
   "source": [
    "listede_mi([1,2,3,4],5) # False\n",
    "listede_mi([1,2,3,4],2) # True"
   ]
  },
  {
   "cell_type": "code",
   "execution_count": 186,
   "id": "dad81dce",
   "metadata": {},
   "outputs": [
    {
     "name": "stdout",
     "output_type": "stream",
     "text": [
      "[41, 2, 44, 48, 8, 37, 11, 16]\n"
     ]
    }
   ],
   "source": [
    "# liste ile alternatif algoritma\n",
    "liste = []\n",
    "while True:\n",
    "    rakam = np.random.randint(1,50)\n",
    "    # rakam listede mi?\n",
    "    if not listede_mi(liste,rakam):\n",
    "        liste.append(rakam)   \n",
    "    # listenin 8 elemanı tamamlandı mı?    \n",
    "    if len(liste) == 8:\n",
    "        break\n",
    "        \n",
    "print(liste)"
   ]
  },
  {
   "cell_type": "code",
   "execution_count": 187,
   "id": "cc618403",
   "metadata": {},
   "outputs": [],
   "source": [
    "# Performans testi (hız)\n",
    "import timeit # ! sinavda sorulabilir"
   ]
  },
  {
   "cell_type": "code",
   "execution_count": 213,
   "id": "f329a26f",
   "metadata": {},
   "outputs": [],
   "source": [
    "basla_zaman = timeit.default_timer()"
   ]
  },
  {
   "cell_type": "code",
   "execution_count": 214,
   "id": "cd9d717e",
   "metadata": {},
   "outputs": [],
   "source": [
    "bitis_zaman = timeit.default_timer()"
   ]
  },
  {
   "cell_type": "code",
   "execution_count": 215,
   "id": "b292fa42",
   "metadata": {},
   "outputs": [
    {
     "data": {
      "text/plain": [
       "1.6018948000000819"
      ]
     },
     "execution_count": 215,
     "metadata": {},
     "output_type": "execute_result"
    }
   ],
   "source": [
    "bitis_zaman - basla_zaman"
   ]
  },
  {
   "cell_type": "code",
   "execution_count": 216,
   "id": "7adadbd2",
   "metadata": {},
   "outputs": [],
   "source": [
    "# Algoritma-1: Set\n",
    "def liste_with_set():\n",
    "    liste = set() # boş küme ! Sınav sorusu\n",
    "    while True:\n",
    "        rakam = np.random.randint(1,50)\n",
    "        liste.add(rakam)\n",
    "        if len(liste) == 8:\n",
    "            break\n",
    "    return \"ok\"\n",
    "\n",
    "\n",
    "# Algoritma-2: list\n",
    "def liste_with_list():\n",
    "    liste = []\n",
    "    while True:\n",
    "        rakam = np.random.randint(1,50)\n",
    "        # rakam listede mi?\n",
    "        if not listede_mi(liste,rakam):\n",
    "            liste.append(rakam)   \n",
    "        # listenin 8 elemanı tamamlandı mı?    \n",
    "        if len(liste) == 8:\n",
    "            break\n",
    "    return \"ok\""
   ]
  },
  {
   "cell_type": "code",
   "execution_count": 254,
   "id": "425c68a6",
   "metadata": {},
   "outputs": [
    {
     "name": "stdout",
     "output_type": "stream",
     "text": [
      "set ile toplam süre:3.191729199999827\n"
     ]
    }
   ],
   "source": [
    "basla = timeit.default_timer()\n",
    "for i in range(100000):\n",
    "    liste_with_set()\n",
    "    \n",
    "bitis = timeit.default_timer()\n",
    "sure_set = bitis - basla\n",
    "\n",
    "print(f\"set ile toplam süre:{sure_set}\")"
   ]
  },
  {
   "cell_type": "code",
   "execution_count": 255,
   "id": "c2b8146c",
   "metadata": {},
   "outputs": [
    {
     "name": "stdout",
     "output_type": "stream",
     "text": [
      "list ile toplam süre:2.781510799999978\n"
     ]
    }
   ],
   "source": [
    "basla = timeit.default_timer()\n",
    "for i in range(100000):\n",
    "    liste_with_list()\n",
    "    \n",
    "bitis = timeit.default_timer()\n",
    "sure_set = bitis - basla\n",
    "\n",
    "print(f\"list ile toplam süre:{sure_set}\")"
   ]
  },
  {
   "cell_type": "code",
   "execution_count": 256,
   "id": "49eb0e6a",
   "metadata": {},
   "outputs": [],
   "source": [
    "# Bilgi paylaşımı liste\n",
    "\n",
    "liste = {\"kaan\":\"Nilda\",\"Nilda\":\"Emre\",\"Emre\":\"Fatih\",\"Fatih\":\"Çelebi\",\"Çelebi\":\"Can\"}"
   ]
  },
  {
   "cell_type": "code",
   "execution_count": 257,
   "id": "1f221bed",
   "metadata": {},
   "outputs": [
    {
     "data": {
      "text/plain": [
       "'Fatih'"
      ]
     },
     "execution_count": 257,
     "metadata": {},
     "output_type": "execute_result"
    }
   ],
   "source": [
    "liste[\"Emre\"]"
   ]
  },
  {
   "cell_type": "code",
   "execution_count": 258,
   "id": "83958662",
   "metadata": {},
   "outputs": [
    {
     "data": {
      "text/plain": [
       "'Çelebi'"
      ]
     },
     "execution_count": 258,
     "metadata": {},
     "output_type": "execute_result"
    }
   ],
   "source": [
    "liste[\"Fatih\"]"
   ]
  },
  {
   "cell_type": "code",
   "execution_count": 259,
   "id": "c6531a22",
   "metadata": {},
   "outputs": [],
   "source": [
    "# Yeni kişiler nasıl eklenebilir?\n",
    "liste[\"Can\"]=\"İnanç\""
   ]
  },
  {
   "cell_type": "code",
   "execution_count": 260,
   "id": "40639914",
   "metadata": {},
   "outputs": [
    {
     "data": {
      "text/plain": [
       "{'kaan': 'Nilda',\n",
       " 'Nilda': 'Emre',\n",
       " 'Emre': 'Fatih',\n",
       " 'Fatih': 'Çelebi',\n",
       " 'Çelebi': 'Can',\n",
       " 'Can': 'İnanç'}"
      ]
     },
     "execution_count": 260,
     "metadata": {},
     "output_type": "execute_result"
    }
   ],
   "source": [
    "liste"
   ]
  },
  {
   "cell_type": "code",
   "execution_count": null,
   "id": "97cf029d",
   "metadata": {},
   "outputs": [],
   "source": [
    "# liste'nin sonuna bir eleman eklemenin bigO => O(1)"
   ]
  },
  {
   "cell_type": "code",
   "execution_count": 261,
   "id": "cca1021a",
   "metadata": {},
   "outputs": [],
   "source": [
    "liste['Funda']=\"kaan\""
   ]
  },
  {
   "cell_type": "code",
   "execution_count": 262,
   "id": "8836f25d",
   "metadata": {},
   "outputs": [
    {
     "data": {
      "text/plain": [
       "{'kaan': 'Nilda',\n",
       " 'Nilda': 'Emre',\n",
       " 'Emre': 'Fatih',\n",
       " 'Fatih': 'Çelebi',\n",
       " 'Çelebi': 'Can',\n",
       " 'Can': 'İnanç',\n",
       " 'Funda': 'kaan'}"
      ]
     },
     "execution_count": 262,
     "metadata": {},
     "output_type": "execute_result"
    }
   ],
   "source": [
    "liste"
   ]
  },
  {
   "cell_type": "code",
   "execution_count": 296,
   "id": "6b233f7d",
   "metadata": {},
   "outputs": [],
   "source": [
    "# Listenin sonuna yeni isim eklemek\n",
    "# ? neyi bilmeliyiz\n",
    "liste = {}"
   ]
  },
  {
   "cell_type": "code",
   "execution_count": 300,
   "id": "2d41cdea",
   "metadata": {},
   "outputs": [],
   "source": [
    "# listeye yeni bir kişi eklemek\n",
    "def liste_append(liste,isim):\n",
    "    if len(liste) == 0:\n",
    "        liste[isim] = None\n",
    "        return\n",
    "    for mevcut in liste:\n",
    "        #print(mevcut,isim)\n",
    "        if liste[mevcut] == None:\n",
    "            #print(f\"{mevcut}=>{isim}\")\n",
    "            liste[mevcut] = isim    \n",
    "    liste[isim] = None\n",
    "    "
   ]
  },
  {
   "cell_type": "code",
   "execution_count": 297,
   "id": "bc477880",
   "metadata": {},
   "outputs": [],
   "source": [
    "liste_append(liste,'Kaan')"
   ]
  },
  {
   "cell_type": "code",
   "execution_count": 301,
   "id": "495ce1e9",
   "metadata": {},
   "outputs": [
    {
     "name": "stdout",
     "output_type": "stream",
     "text": [
      "{'Kaan': 'Öykü', 'Öykü': None}\n"
     ]
    }
   ],
   "source": [
    "print(liste)"
   ]
  },
  {
   "cell_type": "code",
   "execution_count": 299,
   "id": "04dc8579",
   "metadata": {},
   "outputs": [
    {
     "name": "stdout",
     "output_type": "stream",
     "text": [
      "Kaan Öykü\n",
      "Kaan=>Öykü\n"
     ]
    }
   ],
   "source": [
    "liste_append(liste,'Öykü')"
   ]
  },
  {
   "cell_type": "code",
   "execution_count": 369,
   "id": "e4b1990a",
   "metadata": {},
   "outputs": [
    {
     "name": "stdout",
     "output_type": "stream",
     "text": [
      "{'Nilda': 'Fatih', 'Fatih': 'Zeynep', 'Zeynep': 'İnanç', 'İnanç': None}\n"
     ]
    }
   ],
   "source": [
    "liste_append(liste,'İnanç')\n",
    "print(liste)"
   ]
  },
  {
   "cell_type": "code",
   "execution_count": 370,
   "id": "87bcf6df",
   "metadata": {},
   "outputs": [
    {
     "name": "stdout",
     "output_type": "stream",
     "text": [
      "{'Nilda': 'Fatih', 'Fatih': 'Zeynep', 'Zeynep': 'İnanç', 'İnanç': 'Funda', 'Funda': None}\n"
     ]
    }
   ],
   "source": [
    "liste_append(liste,'Funda')\n",
    "print(liste)"
   ]
  },
  {
   "cell_type": "code",
   "execution_count": 364,
   "id": "655b9068",
   "metadata": {},
   "outputs": [],
   "source": [
    "def bul_from_isim(liste,isim):\n",
    "    key_isim = None\n",
    "    for mevcut in liste:\n",
    "        if liste[mevcut] == isim:\n",
    "            key_isim = mevcut\n",
    "    return key_isim\n",
    "\n",
    "def bul_son_kisi(liste):\n",
    "    son_kisi = None\n",
    "    for mevcut in liste:\n",
    "        if liste[mevcut] == None:\n",
    "            son_kisi = mevcut\n",
    "\n",
    "def kim_kime_bilgi_verecek(liste):\n",
    "    kim_kime = []\n",
    "    son_kisi = None\n",
    "    for mevcut in liste:\n",
    "        if liste[mevcut] == None:\n",
    "            son_kisi = mevcut\n",
    "            kim_kime.append(son_kisi)\n",
    "    # son kisi biliniyor\n",
    "    while True:\n",
    "        if son_kisi == None:\n",
    "            break\n",
    "        onceki = bul_from_isim(liste,son_kisi)\n",
    "        if onceki == None:\n",
    "            break\n",
    "        kim_kime.append(onceki)\n",
    "        son_kisi = onceki\n",
    "    return kim_kime\n",
    "        \n",
    "# Kaan, Öykü, İnanç, Funda"
   ]
  },
  {
   "cell_type": "code",
   "execution_count": 350,
   "id": "fddbfa5d",
   "metadata": {},
   "outputs": [
    {
     "name": "stdout",
     "output_type": "stream",
     "text": [
      "['Funda', 'İnanç', 'Öykü', 'Kaan']\n"
     ]
    }
   ],
   "source": [
    "kim_kime = kim_kime_bilgi_verecek(liste)\n",
    "print(kim_kime)"
   ]
  },
  {
   "cell_type": "code",
   "execution_count": 351,
   "id": "16a2806a",
   "metadata": {},
   "outputs": [],
   "source": [
    "def list_from_first(liste):\n",
    "    for isim in reversed(liste):\n",
    "        print(isim)"
   ]
  },
  {
   "cell_type": "code",
   "execution_count": 352,
   "id": "c23459c6",
   "metadata": {},
   "outputs": [
    {
     "name": "stdout",
     "output_type": "stream",
     "text": [
      "Kaan\n",
      "Öykü\n",
      "İnanç\n",
      "Funda\n"
     ]
    }
   ],
   "source": [
    "list_from_first(kim_kime)"
   ]
  },
  {
   "cell_type": "code",
   "execution_count": 368,
   "id": "78f6bd8d",
   "metadata": {},
   "outputs": [
    {
     "name": "stdout",
     "output_type": "stream",
     "text": [
      "{'Nilda': 'Fatih', 'Fatih': 'Zeynep', 'Zeynep': None}\n"
     ]
    }
   ],
   "source": [
    "liste_append(liste,'Zeynep')\n",
    "print(liste)"
   ]
  },
  {
   "cell_type": "code",
   "execution_count": 371,
   "id": "679aec96",
   "metadata": {},
   "outputs": [
    {
     "name": "stdout",
     "output_type": "stream",
     "text": [
      "Nilda\n",
      "Fatih\n",
      "Zeynep\n",
      "İnanç\n",
      "Funda\n"
     ]
    }
   ],
   "source": [
    "kim_kime = kim_kime_bilgi_verecek(liste)\n",
    "list_from_first(kim_kime)"
   ]
  },
  {
   "cell_type": "code",
   "execution_count": 367,
   "id": "a197e925",
   "metadata": {},
   "outputs": [
    {
     "name": "stdout",
     "output_type": "stream",
     "text": [
      "Nilda\n",
      "Fatih\n"
     ]
    }
   ],
   "source": [
    "liste_append(liste,'Fatih')\n",
    "kim_kime = kim_kime_bilgi_verecek(liste)\n",
    "list_from_first(kim_kime)"
   ]
  },
  {
   "cell_type": "code",
   "execution_count": 366,
   "id": "84302c6b",
   "metadata": {},
   "outputs": [
    {
     "name": "stdout",
     "output_type": "stream",
     "text": [
      "Nilda\n"
     ]
    }
   ],
   "source": [
    "liste_append(liste,'Nilda')\n",
    "kim_kime = kim_kime_bilgi_verecek(liste)\n",
    "list_from_first(kim_kime)"
   ]
  },
  {
   "cell_type": "code",
   "execution_count": 365,
   "id": "1adf0863",
   "metadata": {},
   "outputs": [],
   "source": [
    "# bos liste\n",
    "liste = {}\n",
    "kim_kime = kim_kime_bilgi_verecek(liste)\n",
    "list_from_first(kim_kime)"
   ]
  }
 ],
 "metadata": {
  "kernelspec": {
   "display_name": "Python 3 (ipykernel)",
   "language": "python",
   "name": "python3"
  },
  "language_info": {
   "codemirror_mode": {
    "name": "ipython",
    "version": 3
   },
   "file_extension": ".py",
   "mimetype": "text/x-python",
   "name": "python",
   "nbconvert_exporter": "python",
   "pygments_lexer": "ipython3",
   "version": "3.9.5"
  }
 },
 "nbformat": 4,
 "nbformat_minor": 5
}
