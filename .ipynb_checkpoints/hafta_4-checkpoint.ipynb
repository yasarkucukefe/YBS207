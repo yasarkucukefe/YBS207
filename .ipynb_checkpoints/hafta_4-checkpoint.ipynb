{
 "cells": [
  {
   "cell_type": "code",
   "execution_count": 1,
   "id": "3679f8f5",
   "metadata": {},
   "outputs": [],
   "source": [
    "a = 1\n",
    "b = 2\n",
    "# islem: a => b, b=>a"
   ]
  },
  {
   "cell_type": "code",
   "execution_count": 2,
   "id": "1c60eafc",
   "metadata": {},
   "outputs": [
    {
     "name": "stdout",
     "output_type": "stream",
     "text": [
      "a=1, b=2\n"
     ]
    }
   ],
   "source": [
    "print(f\"a={a}, b={b}\")"
   ]
  },
  {
   "cell_type": "code",
   "execution_count": 3,
   "id": "686fee75",
   "metadata": {},
   "outputs": [],
   "source": [
    "a, b = b, a"
   ]
  },
  {
   "cell_type": "code",
   "execution_count": 4,
   "id": "ad417f44",
   "metadata": {},
   "outputs": [
    {
     "name": "stdout",
     "output_type": "stream",
     "text": [
      "a=2, b=1\n"
     ]
    }
   ],
   "source": [
    "print(f\"a={a}, b={b}\")"
   ]
  },
  {
   "cell_type": "code",
   "execution_count": 6,
   "id": "412ee224",
   "metadata": {},
   "outputs": [],
   "source": [
    "# Fibonacci serisi 0,1,1,2,3,5\n",
    "def fibonacci(number):\n",
    "    if number <= 1:\n",
    "        return number\n",
    "    return fibonacci(number - 2) + fibonacci(number - 1)"
   ]
  },
  {
   "cell_type": "code",
   "execution_count": 6,
   "id": "2c277f1d",
   "metadata": {},
   "outputs": [
    {
     "data": {
      "text/plain": [
       "5"
      ]
     },
     "execution_count": 6,
     "metadata": {},
     "output_type": "execute_result"
    }
   ],
   "source": [
    "fibonacci(5)"
   ]
  },
  {
   "cell_type": "code",
   "execution_count": 7,
   "id": "1580afb1",
   "metadata": {},
   "outputs": [
    {
     "data": {
      "text/plain": [
       "610"
      ]
     },
     "execution_count": 7,
     "metadata": {},
     "output_type": "execute_result"
    }
   ],
   "source": [
    "fibonacci(15)"
   ]
  },
  {
   "cell_type": "code",
   "execution_count": 4,
   "id": "84693a1e",
   "metadata": {},
   "outputs": [],
   "source": [
    "import timeit"
   ]
  },
  {
   "cell_type": "code",
   "execution_count": 8,
   "id": "0df39cda",
   "metadata": {},
   "outputs": [
    {
     "name": "stdout",
     "output_type": "stream",
     "text": [
      "1.8690884000000096\n"
     ]
    }
   ],
   "source": [
    "print(timeit.timeit('fibonacci(5)',globals=globals()))"
   ]
  },
  {
   "cell_type": "code",
   "execution_count": 9,
   "id": "416d1e67",
   "metadata": {},
   "outputs": [
    {
     "name": "stdout",
     "output_type": "stream",
     "text": [
      "3.148106900000016\n"
     ]
    }
   ],
   "source": [
    "print(timeit.timeit('fibonacci(6)',globals=globals()))"
   ]
  },
  {
   "cell_type": "code",
   "execution_count": 10,
   "id": "bd56fde8",
   "metadata": {},
   "outputs": [
    {
     "name": "stdout",
     "output_type": "stream",
     "text": [
      "5.0677895000000035\n"
     ]
    }
   ],
   "source": [
    "print(timeit.timeit('fibonacci(7)',globals=globals()))"
   ]
  },
  {
   "cell_type": "code",
   "execution_count": 11,
   "id": "288056af",
   "metadata": {},
   "outputs": [],
   "source": [
    "def fibonacci(number):\n",
    "    print(f\"fibonacci {number} için hesaplanıyor.\")\n",
    "    if number <= 1:\n",
    "        return number\n",
    "    return fibonacci(number - 2) + fibonacci(number - 1)"
   ]
  },
  {
   "cell_type": "code",
   "execution_count": 13,
   "id": "23911d2f",
   "metadata": {},
   "outputs": [
    {
     "name": "stdout",
     "output_type": "stream",
     "text": [
      "fibonacci 6 için hesaplanıyor.\n",
      "fibonacci 4 için hesaplanıyor.\n",
      "fibonacci 2 için hesaplanıyor.\n",
      "fibonacci 0 için hesaplanıyor.\n",
      "fibonacci 1 için hesaplanıyor.\n",
      "fibonacci 3 için hesaplanıyor.\n",
      "fibonacci 1 için hesaplanıyor.\n",
      "fibonacci 2 için hesaplanıyor.\n",
      "fibonacci 0 için hesaplanıyor.\n",
      "fibonacci 1 için hesaplanıyor.\n",
      "fibonacci 5 için hesaplanıyor.\n",
      "fibonacci 3 için hesaplanıyor.\n",
      "fibonacci 1 için hesaplanıyor.\n",
      "fibonacci 2 için hesaplanıyor.\n",
      "fibonacci 0 için hesaplanıyor.\n",
      "fibonacci 1 için hesaplanıyor.\n",
      "fibonacci 4 için hesaplanıyor.\n",
      "fibonacci 2 için hesaplanıyor.\n",
      "fibonacci 0 için hesaplanıyor.\n",
      "fibonacci 1 için hesaplanıyor.\n",
      "fibonacci 3 için hesaplanıyor.\n",
      "fibonacci 1 için hesaplanıyor.\n",
      "fibonacci 2 için hesaplanıyor.\n",
      "fibonacci 0 için hesaplanıyor.\n",
      "fibonacci 1 için hesaplanıyor.\n"
     ]
    },
    {
     "data": {
      "text/plain": [
       "8"
      ]
     },
     "execution_count": 13,
     "metadata": {},
     "output_type": "execute_result"
    }
   ],
   "source": [
    "fibonacci(6)"
   ]
  },
  {
   "cell_type": "code",
   "execution_count": 19,
   "id": "0dc4bd85",
   "metadata": {},
   "outputs": [],
   "source": [
    "fib_cache = {0:0, 1:1}\n",
    "def fibonacci(number):\n",
    "    if number in fib_cache:\n",
    "        return fib_cache[number]\n",
    "    print(f\"fibonacci {number} için hesaplanıyor.\")    \n",
    "    fib_cache[number] = fibonacci(number - 2) + fibonacci(number - 1)\n",
    "    return fib_cache[number]"
   ]
  },
  {
   "cell_type": "code",
   "execution_count": 23,
   "id": "aaffeb76",
   "metadata": {},
   "outputs": [
    {
     "name": "stdout",
     "output_type": "stream",
     "text": [
      "fibonacci 50 için hesaplanıyor.\n",
      "fibonacci 48 için hesaplanıyor.\n",
      "fibonacci 46 için hesaplanıyor.\n",
      "fibonacci 44 için hesaplanıyor.\n",
      "fibonacci 42 için hesaplanıyor.\n",
      "fibonacci 40 için hesaplanıyor.\n",
      "fibonacci 38 için hesaplanıyor.\n",
      "fibonacci 36 için hesaplanıyor.\n",
      "fibonacci 34 için hesaplanıyor.\n",
      "fibonacci 32 için hesaplanıyor.\n",
      "fibonacci 30 için hesaplanıyor.\n",
      "fibonacci 28 için hesaplanıyor.\n",
      "fibonacci 26 için hesaplanıyor.\n",
      "fibonacci 24 için hesaplanıyor.\n",
      "fibonacci 22 için hesaplanıyor.\n",
      "fibonacci 20 için hesaplanıyor.\n",
      "fibonacci 18 için hesaplanıyor.\n",
      "fibonacci 16 için hesaplanıyor.\n",
      "fibonacci 14 için hesaplanıyor.\n",
      "fibonacci 12 için hesaplanıyor.\n",
      "fibonacci 10 için hesaplanıyor.\n",
      "fibonacci 8 için hesaplanıyor.\n",
      "fibonacci 9 için hesaplanıyor.\n",
      "fibonacci 11 için hesaplanıyor.\n",
      "fibonacci 13 için hesaplanıyor.\n",
      "fibonacci 15 için hesaplanıyor.\n",
      "fibonacci 17 için hesaplanıyor.\n",
      "fibonacci 19 için hesaplanıyor.\n",
      "fibonacci 21 için hesaplanıyor.\n",
      "fibonacci 23 için hesaplanıyor.\n",
      "fibonacci 25 için hesaplanıyor.\n",
      "fibonacci 27 için hesaplanıyor.\n",
      "fibonacci 29 için hesaplanıyor.\n",
      "fibonacci 31 için hesaplanıyor.\n",
      "fibonacci 33 için hesaplanıyor.\n",
      "fibonacci 35 için hesaplanıyor.\n",
      "fibonacci 37 için hesaplanıyor.\n",
      "fibonacci 39 için hesaplanıyor.\n",
      "fibonacci 41 için hesaplanıyor.\n",
      "fibonacci 43 için hesaplanıyor.\n",
      "fibonacci 45 için hesaplanıyor.\n",
      "fibonacci 47 için hesaplanıyor.\n",
      "fibonacci 49 için hesaplanıyor.\n"
     ]
    },
    {
     "data": {
      "text/plain": [
       "12586269025"
      ]
     },
     "execution_count": 23,
     "metadata": {},
     "output_type": "execute_result"
    }
   ],
   "source": [
    "fibonacci(50)"
   ]
  },
  {
   "cell_type": "code",
   "execution_count": 24,
   "id": "04f519cb",
   "metadata": {},
   "outputs": [],
   "source": [
    "from functools import lru_cache"
   ]
  },
  {
   "cell_type": "code",
   "execution_count": 25,
   "id": "9a98c5f7",
   "metadata": {},
   "outputs": [],
   "source": [
    "@lru_cache(None)\n",
    "def fibonacci(number):\n",
    "    if number <= 1:\n",
    "        return number\n",
    "    return fibonacci(number - 2) + fibonacci(number - 1)"
   ]
  },
  {
   "cell_type": "code",
   "execution_count": 26,
   "id": "aeb5537b",
   "metadata": {},
   "outputs": [
    {
     "data": {
      "text/plain": [
       "12586269025"
      ]
     },
     "execution_count": 26,
     "metadata": {},
     "output_type": "execute_result"
    }
   ],
   "source": [
    "fibonacci(50)"
   ]
  },
  {
   "cell_type": "code",
   "execution_count": 1,
   "id": "3f34c1f7",
   "metadata": {},
   "outputs": [],
   "source": [
    "# Factoriyel, 6! = 6 * 5 * 4 * 3 * 2 *1\n",
    "def factoryel(n):\n",
    "    #print(f\"hesaplıyor {n}!\")\n",
    "    if n < 1:\n",
    "        return 1\n",
    "    return n * factoryel(n-1)"
   ]
  },
  {
   "cell_type": "code",
   "execution_count": 2,
   "id": "9c37dd14",
   "metadata": {},
   "outputs": [
    {
     "data": {
      "text/plain": [
       "120"
      ]
     },
     "execution_count": 2,
     "metadata": {},
     "output_type": "execute_result"
    }
   ],
   "source": [
    "factoryel(5)"
   ]
  },
  {
   "cell_type": "code",
   "execution_count": 5,
   "id": "d02a8552",
   "metadata": {},
   "outputs": [
    {
     "data": {
      "text/plain": [
       "0.7463039000000009"
      ]
     },
     "execution_count": 5,
     "metadata": {},
     "output_type": "execute_result"
    }
   ],
   "source": [
    "timeit.timeit('factoryel(5)',globals=globals())"
   ]
  },
  {
   "cell_type": "code",
   "execution_count": 6,
   "id": "2907f0d1",
   "metadata": {},
   "outputs": [
    {
     "data": {
      "text/plain": [
       "1.1778541999999987"
      ]
     },
     "execution_count": 6,
     "metadata": {},
     "output_type": "execute_result"
    }
   ],
   "source": [
    "timeit.timeit('factoryel(8)',globals=globals())"
   ]
  },
  {
   "cell_type": "code",
   "execution_count": 7,
   "id": "052d1d95",
   "metadata": {},
   "outputs": [
    {
     "data": {
      "text/plain": [
       "1.416642600000003"
      ]
     },
     "execution_count": 7,
     "metadata": {},
     "output_type": "execute_result"
    }
   ],
   "source": [
    "timeit.timeit('factoryel(10)',globals=globals())"
   ]
  },
  {
   "cell_type": "code",
   "execution_count": 8,
   "id": "347e29a2",
   "metadata": {},
   "outputs": [],
   "source": [
    "from functools import lru_cache"
   ]
  },
  {
   "cell_type": "code",
   "execution_count": 9,
   "id": "e369a2d6",
   "metadata": {},
   "outputs": [],
   "source": [
    "@lru_cache(None)\n",
    "def factoryel(n):\n",
    "    #print(f\"hesaplıyor {n}!\")\n",
    "    if n < 1:\n",
    "        return 1\n",
    "    return n * factoryel(n-1)"
   ]
  },
  {
   "cell_type": "code",
   "execution_count": 10,
   "id": "e4d115c2",
   "metadata": {},
   "outputs": [
    {
     "data": {
      "text/plain": [
       "0.13529170000001045"
      ]
     },
     "execution_count": 10,
     "metadata": {},
     "output_type": "execute_result"
    }
   ],
   "source": [
    "timeit.timeit('factoryel(10)',globals=globals())"
   ]
  },
  {
   "cell_type": "markdown",
   "id": "4ec4ded3",
   "metadata": {},
   "source": [
    "## Liste Algoritması"
   ]
  },
  {
   "cell_type": "code",
   "execution_count": 73,
   "id": "299ae813",
   "metadata": {},
   "outputs": [],
   "source": [
    "class Kisi:\n",
    "    def __init__(self,isim,id_no):\n",
    "        self.isim = isim \n",
    "        self.id_no = id_no\n",
    "        self.sonraki = None"
   ]
  },
  {
   "cell_type": "code",
   "execution_count": 82,
   "id": "3a2283e3",
   "metadata": {},
   "outputs": [],
   "source": [
    "class Liste(Kisi):\n",
    "    def __init__(self):\n",
    "        self.liste = []\n",
    "    \n",
    "    def ekle(self,isim,id_no):\n",
    "        # mevcut liste \"sonraki\" alanı None olan kişi => id_no olmalı\n",
    "        yeni_isim = Kisi(isim,id_no)\n",
    "        for mevcut in self.liste:\n",
    "            if mevcut.sonraki is None:\n",
    "                mevcut.sonraki = id_no\n",
    "                break\n",
    "        self.liste.append(yeni_isim)\n",
    "        \n",
    "    def ilk_eleman_olarak_ekle(self,isim,id_no):\n",
    "        yeni_isim = Kisi(isim,id_no)\n",
    "        #son eleman\n",
    "        son_kisi_id = None\n",
    "        for mevcut in self.liste:\n",
    "            if mevcut.sonraki is None:\n",
    "                son_kisi_id = mevcut_id\n",
    "                break\n",
    "        #\n",
    "        \n",
    "        \n",
    "        \n",
    "        pass #sonra yazılacak\n",
    "    \n",
    "    def son_eleman_drop(self):\n",
    "        pass #sonra\n",
    "    \n",
    "    def ilk_eleman_drop(self):\n",
    "        pass\n",
    "    \n",
    "    def ortaya_ekle(self,isim,id_no,index):\n",
    "        pass\n",
    "    \n",
    "    def ortadan_drop(self,index):\n",
    "        pass\n",
    "    \n",
    "    def listele(self):\n",
    "        for isim in self.liste:\n",
    "            print(isim.isim,isim.id_no,isim.sonraki)\n",
    "            \n",
    "    "
   ]
  },
  {
   "cell_type": "code",
   "execution_count": 84,
   "id": "d845c176",
   "metadata": {},
   "outputs": [
    {
     "name": "stdout",
     "output_type": "stream",
     "text": [
      "Zeynep 1 2\n",
      "Mehmet 2 None\n"
     ]
    }
   ],
   "source": [
    "liste = Liste()\n",
    "#\n",
    "liste.ekle(\"Zeynep\",1)\n",
    "liste.ekle(\"Mehmet\",2)\n",
    "#\n",
    "liste.listele()"
   ]
  },
  {
   "cell_type": "code",
   "execution_count": 85,
   "id": "5c75ad14",
   "metadata": {},
   "outputs": [
    {
     "name": "stdout",
     "output_type": "stream",
     "text": [
      "Zeynep 1 2\n",
      "Mehmet 2 3\n",
      "Cemil 3 None\n"
     ]
    }
   ],
   "source": [
    "liste.ekle(\"Cemil\",3)\n",
    "#\n",
    "liste.listele()"
   ]
  },
  {
   "cell_type": "code",
   "execution_count": 86,
   "id": "ad90eb26",
   "metadata": {},
   "outputs": [
    {
     "name": "stdout",
     "output_type": "stream",
     "text": [
      "Zeynep 1 2\n",
      "Mehmet 2 3\n",
      "Cemil 3 4\n",
      "Selin 4 None\n"
     ]
    }
   ],
   "source": [
    "liste.ekle(\"Selin\",4)\n",
    "#\n",
    "liste.listele()"
   ]
  }
 ],
 "metadata": {
  "kernelspec": {
   "display_name": "Python 3 (ipykernel)",
   "language": "python",
   "name": "python3"
  },
  "language_info": {
   "codemirror_mode": {
    "name": "ipython",
    "version": 3
   },
   "file_extension": ".py",
   "mimetype": "text/x-python",
   "name": "python",
   "nbconvert_exporter": "python",
   "pygments_lexer": "ipython3",
   "version": "3.9.5"
  }
 },
 "nbformat": 4,
 "nbformat_minor": 5
}
