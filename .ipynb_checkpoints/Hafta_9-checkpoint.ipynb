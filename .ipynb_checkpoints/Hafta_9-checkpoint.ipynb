{
 "cells": [
  {
   "cell_type": "code",
   "execution_count": 1,
   "id": "8ed55b64",
   "metadata": {},
   "outputs": [],
   "source": [
    "class Kitap:\n",
    "    def __init__(self,yazar:str,ad:str,sayfa:int):\n",
    "        self.yazar:str = yazar\n",
    "        self.ad:str = ad\n",
    "        self.sayfa:int = sayfa"
   ]
  },
  {
   "cell_type": "code",
   "execution_count": 2,
   "id": "d911bb5b",
   "metadata": {},
   "outputs": [],
   "source": [
    "kitap1 = Kitap(\"Kemal Tahir\",\"Yorgun Savaşçı\",600)\n",
    "kitap2 = Kitap(\"Kemal Tahir\",\"Yorgun Savaşçı\",600)"
   ]
  },
  {
   "cell_type": "code",
   "execution_count": 3,
   "id": "642b9ef8",
   "metadata": {},
   "outputs": [
    {
     "name": "stdout",
     "output_type": "stream",
     "text": [
      "False\n"
     ]
    }
   ],
   "source": [
    "print(kitap1 == kitap2) # ? True / False ?"
   ]
  },
  {
   "cell_type": "code",
   "execution_count": 4,
   "id": "4a1cca2e",
   "metadata": {},
   "outputs": [
    {
     "data": {
      "text/plain": [
       "{'yazar': 'Kemal Tahir', 'ad': 'Yorgun Savaşçı', 'sayfa': 600}"
      ]
     },
     "execution_count": 4,
     "metadata": {},
     "output_type": "execute_result"
    }
   ],
   "source": [
    "kitap1.__dict__"
   ]
  },
  {
   "cell_type": "code",
   "execution_count": 5,
   "id": "0fd5676e",
   "metadata": {},
   "outputs": [
    {
     "data": {
      "text/plain": [
       "True"
      ]
     },
     "execution_count": 5,
     "metadata": {},
     "output_type": "execute_result"
    }
   ],
   "source": [
    "kitap1.__dict__ == kitap2.__dict__ # ? True / False ?"
   ]
  },
  {
   "cell_type": "code",
   "execution_count": 13,
   "id": "b584a9a1",
   "metadata": {},
   "outputs": [],
   "source": [
    "class Kitap:\n",
    "    \n",
    "    def __init__(self,yazar:str,ad:str,sayfa:int):\n",
    "        self.yazar:str = yazar\n",
    "        self.ad:str = ad\n",
    "        self.sayfa:int = sayfa\n",
    "            \n",
    "    def __eq__(self,diger):\n",
    "        return self.__dict__ == diger.__dict__"
   ]
  },
  {
   "cell_type": "code",
   "execution_count": 14,
   "id": "d2503485",
   "metadata": {},
   "outputs": [],
   "source": [
    "kitap1 = Kitap(\"Kemal Tahir\",\"Yorgun Savaşçı\",600)\n",
    "kitap2 = Kitap(\"Kemal Tahir\",\"Yorgun Savaşçı\",600)"
   ]
  },
  {
   "cell_type": "code",
   "execution_count": 15,
   "id": "f81797e6",
   "metadata": {},
   "outputs": [
    {
     "name": "stdout",
     "output_type": "stream",
     "text": [
      "True\n"
     ]
    }
   ],
   "source": [
    "print(kitap1 == kitap2) # ? True / False ?"
   ]
  },
  {
   "cell_type": "code",
   "execution_count": 16,
   "id": "778f1201",
   "metadata": {},
   "outputs": [
    {
     "name": "stdout",
     "output_type": "stream",
     "text": [
      "<__main__.Kitap object at 0x000001CD98F880A0>\n"
     ]
    }
   ],
   "source": [
    "print(kitap1) # ?"
   ]
  },
  {
   "cell_type": "markdown",
   "id": "5bd9646c",
   "metadata": {},
   "source": [
    "## Dataclass"
   ]
  },
  {
   "cell_type": "code",
   "execution_count": 9,
   "id": "396d5560",
   "metadata": {},
   "outputs": [],
   "source": [
    "from dataclasses import dataclass"
   ]
  },
  {
   "cell_type": "code",
   "execution_count": 17,
   "id": "8b98f816",
   "metadata": {},
   "outputs": [],
   "source": [
    "@dataclass\n",
    "class Kitap:\n",
    "    yazar:str\n",
    "    ad:str\n",
    "    sayfa:int"
   ]
  },
  {
   "cell_type": "code",
   "execution_count": 18,
   "id": "fe70ded2",
   "metadata": {},
   "outputs": [],
   "source": [
    "kitap1 = Kitap(\"Kemal Tahir\",\"Yorgun Savaşçı\",600)\n",
    "kitap2 = Kitap(\"Kemal Tahir\",\"Yorgun Savaşçı\",600)"
   ]
  },
  {
   "cell_type": "code",
   "execution_count": 12,
   "id": "21c1c29c",
   "metadata": {},
   "outputs": [
    {
     "data": {
      "text/plain": [
       "True"
      ]
     },
     "execution_count": 12,
     "metadata": {},
     "output_type": "execute_result"
    }
   ],
   "source": [
    "kitap1 == kitap2"
   ]
  },
  {
   "cell_type": "code",
   "execution_count": 19,
   "id": "50ff3f79",
   "metadata": {},
   "outputs": [
    {
     "name": "stdout",
     "output_type": "stream",
     "text": [
      "Kitap(yazar='Kemal Tahir', ad='Yorgun Savaşçı', sayfa=600)\n"
     ]
    }
   ],
   "source": [
    "print(kitap1)"
   ]
  },
  {
   "cell_type": "code",
   "execution_count": 23,
   "id": "d8844f17",
   "metadata": {},
   "outputs": [],
   "source": [
    "@dataclass\n",
    "class Kitap:\n",
    "    yazar:str\n",
    "    ad:str\n",
    "    sayfa:int\n",
    "        \n",
    "    def kitap_bilgi(self)->str:\n",
    "        print(f\"Kitap adı: {self.ad}, Yazar: {self.yazar}, Sayfa sayısı: {self.sayfa}\")\n",
    "        "
   ]
  },
  {
   "cell_type": "code",
   "execution_count": 24,
   "id": "145f8f85",
   "metadata": {},
   "outputs": [],
   "source": [
    "kitap1 = Kitap(\"Kemal Tahir\",\"Yorgun Savaşçı\",600)"
   ]
  },
  {
   "cell_type": "code",
   "execution_count": 25,
   "id": "dec0feb1",
   "metadata": {},
   "outputs": [
    {
     "name": "stdout",
     "output_type": "stream",
     "text": [
      "Kitap adı: Yorgun Savaşçı, Yazar: Kemal Tahir, Sayfa sayısı: 600\n"
     ]
    }
   ],
   "source": [
    "kitap1.kitap_bilgi()"
   ]
  },
  {
   "cell_type": "markdown",
   "id": "db13eb73",
   "metadata": {},
   "source": [
    "## Filter"
   ]
  },
  {
   "cell_type": "code",
   "execution_count": 26,
   "id": "23454505",
   "metadata": {},
   "outputs": [],
   "source": [
    "def filter_func(harf: str):\n",
    "    liste:[str] = ['ğ','ş','İ','Ş','ç','Ğ','Ç','ö','Ö','ü','Ü']\n",
    "    if harf in liste:\n",
    "        return True\n",
    "    else:\n",
    "        return False\n",
    "    "
   ]
  },
  {
   "cell_type": "code",
   "execution_count": 28,
   "id": "5466dccd",
   "metadata": {},
   "outputs": [
    {
     "name": "stdout",
     "output_type": "stream",
     "text": [
      "['Ş', 'Ğ', 'ü']\n"
     ]
    }
   ],
   "source": [
    "harfler: str =[\"A\",\"Ş\",\"Ğ\",\"e\",\"ü\"]\n",
    "    \n",
    "filtered = filter(filter_func, harfler)\n",
    "\n",
    "print(list(filtered))"
   ]
  },
  {
   "cell_type": "code",
   "execution_count": 34,
   "id": "a990b699",
   "metadata": {},
   "outputs": [],
   "source": [
    "def filter_limit(fiyat: float):\n",
    "    limit:float = 50\n",
    "    if fiyat <= limit:\n",
    "        return True\n",
    "    else:\n",
    "        return False       \n",
    "    "
   ]
  },
  {
   "cell_type": "code",
   "execution_count": 32,
   "id": "9a608e00",
   "metadata": {},
   "outputs": [
    {
     "name": "stdout",
     "output_type": "stream",
     "text": [
      "[12.1, 23.3, 45.2, 42]\n"
     ]
    }
   ],
   "source": [
    "fiyatlar:[float] = [12.1, 23.3, 45.2, 42, 93.1]\n",
    "limit: float = 50\n",
    "\n",
    "    \n",
    "# Klasik yöntem ile    \n",
    "    \n",
    "bos_liste = []\n",
    "\n",
    "for fiyat in fiyatlar:\n",
    "    if fiyat <= limit:\n",
    "        bos_liste.append(fiyat)\n",
    "\n",
    "print(bos_liste)"
   ]
  },
  {
   "cell_type": "code",
   "execution_count": 35,
   "id": "5af1d67d",
   "metadata": {},
   "outputs": [
    {
     "name": "stdout",
     "output_type": "stream",
     "text": [
      "[12.1, 23.3, 45.2, 42]\n"
     ]
    }
   ],
   "source": [
    "# filter ile yapılırsa\n",
    "\n",
    "limitli = filter(filter_limit, fiyatlar)\n",
    "\n",
    "print(list(limitli))"
   ]
  },
  {
   "cell_type": "code",
   "execution_count": 91,
   "id": "a1f8daeb",
   "metadata": {},
   "outputs": [
    {
     "name": "stdout",
     "output_type": "stream",
     "text": [
      "[12.1, 23.3, 45.2, 42]\n"
     ]
    }
   ],
   "source": [
    "# lambda ile?\n",
    "fiyatlar:[float] = [12.1, 23.3, 45.2, 42, 93.1]\n",
    "    \n",
    "limitli = filter(lambda x: x<=50, fiyatlar)\n",
    "\n",
    "print(list(limitli))"
   ]
  },
  {
   "cell_type": "markdown",
   "id": "cc2107cd",
   "metadata": {},
   "source": [
    "## map"
   ]
  },
  {
   "cell_type": "code",
   "execution_count": 36,
   "id": "ac3155eb",
   "metadata": {},
   "outputs": [
    {
     "name": "stdout",
     "output_type": "stream",
     "text": [
      "[2, 4, 6, 8, 10, 12]\n"
     ]
    }
   ],
   "source": [
    "def topla(n: int):\n",
    "    return n + n\n",
    "\n",
    "liste:[int] = [1,2,3,4,5,6]\n",
    "\n",
    "map_liste = map(topla, liste)\n",
    "\n",
    "print(list(map_liste))"
   ]
  },
  {
   "cell_type": "code",
   "execution_count": 93,
   "id": "6deabd1d",
   "metadata": {},
   "outputs": [
    {
     "name": "stdout",
     "output_type": "stream",
     "text": [
      "[5, 9, 4]\n"
     ]
    }
   ],
   "source": [
    "# bir listede bulunan kelimelerin harf sayılarını gösteren yeni bir liste oluşturun\n",
    "kelimeler = [\"Bugün\",\"günlerden\",\"Salı\"] # [5,9,4]\n",
    "\n",
    "kac_harfli = map(lambda x: len(x) ,kelimeler)\n",
    "print(list(kac_harfli))"
   ]
  },
  {
   "cell_type": "code",
   "execution_count": 95,
   "id": "8e85ce51",
   "metadata": {},
   "outputs": [
    {
     "data": {
      "text/plain": [
       "[5, 9, 4]"
      ]
     },
     "execution_count": 95,
     "metadata": {},
     "output_type": "execute_result"
    }
   ],
   "source": [
    "[len(x) for x in kelimeler] # List comprehension"
   ]
  },
  {
   "cell_type": "markdown",
   "id": "40925ec6",
   "metadata": {},
   "source": [
    "## lambda"
   ]
  },
  {
   "cell_type": "code",
   "execution_count": 37,
   "id": "52cd0015",
   "metadata": {},
   "outputs": [
    {
     "name": "stdout",
     "output_type": "stream",
     "text": [
      "[2, 4, 6, 8, 10, 12]\n"
     ]
    }
   ],
   "source": [
    "liste:[int] = [1,2,3,4,5,6]\n",
    "    \n",
    "map_liste = map(lambda n: n + n, liste)\n",
    "print(list(map_liste))"
   ]
  },
  {
   "cell_type": "code",
   "execution_count": 38,
   "id": "8f9f0667",
   "metadata": {},
   "outputs": [
    {
     "name": "stdout",
     "output_type": "stream",
     "text": [
      "[11, 12, 13, 14, 15, 16]\n"
     ]
    }
   ],
   "source": [
    "yeni_liste = map(lambda x: x + 10, liste)\n",
    "print(list(yeni_liste))"
   ]
  },
  {
   "cell_type": "markdown",
   "id": "0ea4efeb",
   "metadata": {},
   "source": [
    "## reduce"
   ]
  },
  {
   "cell_type": "code",
   "execution_count": 39,
   "id": "1e216505",
   "metadata": {},
   "outputs": [
    {
     "name": "stdout",
     "output_type": "stream",
     "text": [
      "Toplam: 21\n"
     ]
    }
   ],
   "source": [
    "liste:[int] = [1,2,3,4,5,6]\n",
    "    \n",
    "# liste elemanlarının toplamı\n",
    "\n",
    "# Klasik yöntem\n",
    "sum: int = 0\n",
    "for rakam in liste:\n",
    "    sum += rakam # sum = sum + rakam\n",
    "print(\"Toplam:\", sum)"
   ]
  },
  {
   "cell_type": "code",
   "execution_count": 40,
   "id": "b2d68cb0",
   "metadata": {},
   "outputs": [
    {
     "name": "stdout",
     "output_type": "stream",
     "text": [
      "Toplam: 21\n"
     ]
    }
   ],
   "source": [
    "import functools\n",
    "\n",
    "toplam = functools.reduce(lambda a,b : a + b, liste)\n",
    "\n",
    "print(\"Toplam:\",toplam)"
   ]
  },
  {
   "cell_type": "code",
   "execution_count": 41,
   "id": "5cb67ff4",
   "metadata": {},
   "outputs": [
    {
     "name": "stdout",
     "output_type": "stream",
     "text": [
      "Toplam2: 16\n"
     ]
    }
   ],
   "source": [
    "# Sınavda benzer soru gelecek!\n",
    "toplam = functools.reduce(lambda a,b : a + b - 1, liste)\n",
    "\n",
    "print(\"Toplam2:\",toplam)"
   ]
  },
  {
   "cell_type": "code",
   "execution_count": 43,
   "id": "77bf36cb",
   "metadata": {},
   "outputs": [
    {
     "name": "stdout",
     "output_type": "stream",
     "text": [
      "40320\n"
     ]
    }
   ],
   "source": [
    "# Recursive method kullanmadan faktoryel hesaplama\n",
    "# 8! hesapla\n",
    "faktoryel = functools.reduce(lambda a,b : a * b, range(1,9))\n",
    "print(faktoryel)"
   ]
  },
  {
   "cell_type": "markdown",
   "id": "d4d6ad70",
   "metadata": {},
   "source": [
    "## Datatype References"
   ]
  },
  {
   "cell_type": "code",
   "execution_count": 47,
   "id": "ec29bf33",
   "metadata": {},
   "outputs": [
    {
     "name": "stdout",
     "output_type": "stream",
     "text": [
      "[1, 2, 4, 5] [1, 2, 4, 5]\n"
     ]
    }
   ],
   "source": [
    "liste1 = [1,2,3,4]\n",
    "liste2 = liste1 # adres referans\n",
    "liste2.append(5)\n",
    "liste1.pop(2)\n",
    "\n",
    "print(liste1,liste2) # Python'da listeler \"adres\" referanslıdır."
   ]
  },
  {
   "cell_type": "code",
   "execution_count": 102,
   "id": "dcb1c4f1",
   "metadata": {},
   "outputs": [
    {
     "name": "stdout",
     "output_type": "stream",
     "text": [
      "False\n"
     ]
    }
   ],
   "source": [
    "a: int = 123344\n",
    "b: int = 123344\n",
    "    \n",
    "print(a is b) # is : memory lokasyonları kıyaslar "
   ]
  },
  {
   "cell_type": "code",
   "execution_count": 103,
   "id": "6d9754df",
   "metadata": {},
   "outputs": [
    {
     "name": "stdout",
     "output_type": "stream",
     "text": [
      "True\n"
     ]
    }
   ],
   "source": [
    "a: int = 5\n",
    "b: int = 5\n",
    "print(a is b) # !!!"
   ]
  },
  {
   "cell_type": "code",
   "execution_count": 112,
   "id": "d96fef3f",
   "metadata": {},
   "outputs": [
    {
     "name": "stdout",
     "output_type": "stream",
     "text": [
      "True\n"
     ]
    }
   ],
   "source": [
    "a: int = 256\n",
    "b: int = 256\n",
    "print(a is b) # !!!"
   ]
  },
  {
   "cell_type": "code",
   "execution_count": 50,
   "id": "05af21a2",
   "metadata": {},
   "outputs": [
    {
     "name": "stdout",
     "output_type": "stream",
     "text": [
      "True\n"
     ]
    }
   ],
   "source": [
    "print(a == b) # == : değerleri kıyaslar"
   ]
  },
  {
   "cell_type": "code",
   "execution_count": 49,
   "id": "35d6e5ea",
   "metadata": {},
   "outputs": [
    {
     "name": "stdout",
     "output_type": "stream",
     "text": [
      "True\n"
     ]
    }
   ],
   "source": [
    "print(liste1 is liste2)"
   ]
  },
  {
   "cell_type": "code",
   "execution_count": 52,
   "id": "ab195d21",
   "metadata": {},
   "outputs": [
    {
     "name": "stdout",
     "output_type": "stream",
     "text": [
      "[1, 2, 4] [1, 2, 4, 5]\n"
     ]
    }
   ],
   "source": [
    "liste3 = liste1.copy() # adres referansı taşımadan bir listesinin kopyasını oluşturmak\n",
    "liste3.pop()\n",
    "print(liste3,liste1)"
   ]
  },
  {
   "cell_type": "markdown",
   "id": "6a1e2c31",
   "metadata": {},
   "source": [
    "## sort ve sorted"
   ]
  },
  {
   "cell_type": "code",
   "execution_count": 55,
   "id": "7166e763",
   "metadata": {},
   "outputs": [
    {
     "name": "stdout",
     "output_type": "stream",
     "text": [
      "[1, 3, 5, 6, 7, 9, 21]\n"
     ]
    }
   ],
   "source": [
    "liste = [3,5,1,9,6,7,21]\n",
    "\n",
    "liste.sort() # orjinal listeyi değiştirir.\n",
    "print(liste)"
   ]
  },
  {
   "cell_type": "code",
   "execution_count": 58,
   "id": "6bdc97bf",
   "metadata": {},
   "outputs": [
    {
     "name": "stdout",
     "output_type": "stream",
     "text": [
      "[1, 3, 5, 6, 7, 9, 21]\n",
      "[3, 5, 1, 9, 6, 7, 21]\n"
     ]
    }
   ],
   "source": [
    "liste = [3,5,1,9,6,7,21]\n",
    "\n",
    "print(sorted(liste)) # orjinal liste değişmez\n",
    "print(liste)"
   ]
  },
  {
   "cell_type": "code",
   "execution_count": 61,
   "id": "29e81084",
   "metadata": {},
   "outputs": [],
   "source": [
    "# Dictionary sort\n",
    "fiyatlar = {'latte':30, 'tea':20, 'filtre':23}"
   ]
  },
  {
   "cell_type": "code",
   "execution_count": 65,
   "id": "f7914916",
   "metadata": {},
   "outputs": [
    {
     "name": "stdout",
     "output_type": "stream",
     "text": [
      "[('filtre', 23), ('latte', 30), ('tea', 20)]\n"
     ]
    }
   ],
   "source": [
    "print(sorted(fiyatlar.items())) # anahtara göre sıralar (varsayılan)"
   ]
  },
  {
   "cell_type": "code",
   "execution_count": 64,
   "id": "36ead699",
   "metadata": {},
   "outputs": [
    {
     "data": {
      "text/plain": [
       "[('tea', 20), ('filtre', 23), ('latte', 30)]"
      ]
     },
     "execution_count": 64,
     "metadata": {},
     "output_type": "execute_result"
    }
   ],
   "source": [
    "# Fiyata göre nasıl sıralanabilir?\n",
    "sorted(fiyatlar.items(), key=lambda item: item[1]) # değere göre sıralar"
   ]
  },
  {
   "cell_type": "code",
   "execution_count": 66,
   "id": "b2a00e13",
   "metadata": {},
   "outputs": [],
   "source": [
    "# Class için sıralama\n",
    "@dataclass\n",
    "class Kitap:\n",
    "    ad:str\n",
    "    fiyat:int\n",
    "        \n",
    "        \n",
    "kitap1 = Kitap(\"Zengin baba, fakir baba\",150)\n",
    "kitap2 = Kitap(\"Savaş Sanatı\",30)\n",
    "kitap3 = Kitap(\"Araba Sevdası\",40)\n",
    "kitap4 = Kitap(\"Savaş ve Barış\",250)"
   ]
  },
  {
   "cell_type": "code",
   "execution_count": 67,
   "id": "9472f4d8",
   "metadata": {},
   "outputs": [
    {
     "name": "stdout",
     "output_type": "stream",
     "text": [
      "Kitap(ad='Zengin baba, fakir baba', fiyat=150)\n"
     ]
    }
   ],
   "source": [
    "print(kitap1)"
   ]
  },
  {
   "cell_type": "code",
   "execution_count": 68,
   "id": "737de04e",
   "metadata": {},
   "outputs": [],
   "source": [
    "kitaplar = [kitap1, kitap2, kitap3, kitap4]"
   ]
  },
  {
   "cell_type": "code",
   "execution_count": 69,
   "id": "637e69b1",
   "metadata": {},
   "outputs": [
    {
     "name": "stdout",
     "output_type": "stream",
     "text": [
      "[Kitap(ad='Zengin baba, fakir baba', fiyat=150), Kitap(ad='Savaş Sanatı', fiyat=30), Kitap(ad='Araba Sevdası', fiyat=40), Kitap(ad='Savaş ve Barış', fiyat=250)]\n"
     ]
    }
   ],
   "source": [
    "print(kitaplar)"
   ]
  },
  {
   "cell_type": "code",
   "execution_count": 71,
   "id": "212ba7c9",
   "metadata": {},
   "outputs": [
    {
     "data": {
      "text/plain": [
       "[Kitap(ad='Araba Sevdası', fiyat=40),\n",
       " Kitap(ad='Savaş Sanatı', fiyat=30),\n",
       " Kitap(ad='Savaş ve Barış', fiyat=250),\n",
       " Kitap(ad='Zengin baba, fakir baba', fiyat=150)]"
      ]
     },
     "execution_count": 71,
     "metadata": {},
     "output_type": "execute_result"
    }
   ],
   "source": [
    "# Kitap adına göre sırala?\n",
    "sorted(kitaplar, key=lambda x: x.ad)"
   ]
  },
  {
   "cell_type": "code",
   "execution_count": 72,
   "id": "dc7b6d1d",
   "metadata": {},
   "outputs": [
    {
     "data": {
      "text/plain": [
       "[Kitap(ad='Savaş Sanatı', fiyat=30),\n",
       " Kitap(ad='Araba Sevdası', fiyat=40),\n",
       " Kitap(ad='Zengin baba, fakir baba', fiyat=150),\n",
       " Kitap(ad='Savaş ve Barış', fiyat=250)]"
      ]
     },
     "execution_count": 72,
     "metadata": {},
     "output_type": "execute_result"
    }
   ],
   "source": [
    "# Kitap fiyatına göre sırala\n",
    "sorted(kitaplar, key=lambda x: x.fiyat)"
   ]
  },
  {
   "cell_type": "code",
   "execution_count": 73,
   "id": "9e7bbcf0",
   "metadata": {},
   "outputs": [
    {
     "data": {
      "text/plain": [
       "[Kitap(ad='Savaş ve Barış', fiyat=250),\n",
       " Kitap(ad='Zengin baba, fakir baba', fiyat=150),\n",
       " Kitap(ad='Araba Sevdası', fiyat=40),\n",
       " Kitap(ad='Savaş Sanatı', fiyat=30)]"
      ]
     },
     "execution_count": 73,
     "metadata": {},
     "output_type": "execute_result"
    }
   ],
   "source": [
    "# Kitap fiyatına göre sırala\n",
    "sorted(kitaplar, key=lambda x: x.fiyat, reverse=True)"
   ]
  },
  {
   "cell_type": "markdown",
   "id": "44f18dc4",
   "metadata": {},
   "source": [
    "## Class ve Instance Değişkenleri"
   ]
  },
  {
   "cell_type": "code",
   "execution_count": 88,
   "id": "5b73da03",
   "metadata": {},
   "outputs": [],
   "source": [
    "class Oyuncu:\n",
    "    liste = [] # Class değişken\n",
    "    \n",
    "    def __init__(self, isim):\n",
    "        self.isim = isim # Instance\n",
    "        self.liste.append(isim)"
   ]
  },
  {
   "cell_type": "code",
   "execution_count": 85,
   "id": "9f5a9319",
   "metadata": {},
   "outputs": [],
   "source": [
    "oyuncu1 = Oyuncu(\"Fatih\")\n",
    "oyuncu2 = Oyuncu(\"Tolga\")\n",
    "oyuncu3 = Oyuncu(\"Kayra\")"
   ]
  },
  {
   "cell_type": "code",
   "execution_count": 86,
   "id": "10361854",
   "metadata": {},
   "outputs": [
    {
     "data": {
      "text/plain": [
       "['Fatih', 'Tolga', 'Kayra']"
      ]
     },
     "execution_count": 86,
     "metadata": {},
     "output_type": "execute_result"
    }
   ],
   "source": [
    "oyuncu1.liste"
   ]
  },
  {
   "cell_type": "code",
   "execution_count": 87,
   "id": "8ccec00d",
   "metadata": {},
   "outputs": [
    {
     "data": {
      "text/plain": [
       "['Fatih', 'Tolga', 'Kayra']"
      ]
     },
     "execution_count": 87,
     "metadata": {},
     "output_type": "execute_result"
    }
   ],
   "source": [
    "oyuncu2.liste"
   ]
  },
  {
   "cell_type": "code",
   "execution_count": 89,
   "id": "d5359f71",
   "metadata": {},
   "outputs": [
    {
     "data": {
      "text/plain": [
       "['Fatih', 'Tolga', 'Kayra']"
      ]
     },
     "execution_count": 89,
     "metadata": {},
     "output_type": "execute_result"
    }
   ],
   "source": [
    "oyuncu3.liste"
   ]
  },
  {
   "cell_type": "markdown",
   "id": "598da879",
   "metadata": {},
   "source": [
    "## range ve list kıyaslama"
   ]
  },
  {
   "cell_type": "code",
   "execution_count": 96,
   "id": "284de170",
   "metadata": {},
   "outputs": [],
   "source": [
    "import sys"
   ]
  },
  {
   "cell_type": "code",
   "execution_count": 97,
   "id": "84bdd5a5",
   "metadata": {},
   "outputs": [],
   "source": [
    "liste = [x for x in range(0,10000)] # 0...10000"
   ]
  },
  {
   "cell_type": "code",
   "execution_count": 98,
   "id": "ce8d1802",
   "metadata": {},
   "outputs": [
    {
     "data": {
      "text/plain": [
       "85176"
      ]
     },
     "execution_count": 98,
     "metadata": {},
     "output_type": "execute_result"
    }
   ],
   "source": [
    "sys.getsizeof(liste)"
   ]
  },
  {
   "cell_type": "code",
   "execution_count": 99,
   "id": "3428b500",
   "metadata": {},
   "outputs": [],
   "source": [
    "range1 = range(0,100001)"
   ]
  },
  {
   "cell_type": "code",
   "execution_count": 100,
   "id": "de1f8e9f",
   "metadata": {},
   "outputs": [
    {
     "data": {
      "text/plain": [
       "range"
      ]
     },
     "execution_count": 100,
     "metadata": {},
     "output_type": "execute_result"
    }
   ],
   "source": [
    "type(range1)"
   ]
  },
  {
   "cell_type": "code",
   "execution_count": 101,
   "id": "ded82a14",
   "metadata": {},
   "outputs": [
    {
     "data": {
      "text/plain": [
       "48"
      ]
     },
     "execution_count": 101,
     "metadata": {},
     "output_type": "execute_result"
    }
   ],
   "source": [
    "sys.getsizeof(range1) # sınavda çıkabilir"
   ]
  },
  {
   "cell_type": "code",
   "execution_count": null,
   "id": "ddf2ac09",
   "metadata": {},
   "outputs": [],
   "source": []
  }
 ],
 "metadata": {
  "kernelspec": {
   "display_name": "Python 3 (ipykernel)",
   "language": "python",
   "name": "python3"
  },
  "language_info": {
   "codemirror_mode": {
    "name": "ipython",
    "version": 3
   },
   "file_extension": ".py",
   "mimetype": "text/x-python",
   "name": "python",
   "nbconvert_exporter": "python",
   "pygments_lexer": "ipython3",
   "version": "3.10.8"
  }
 },
 "nbformat": 4,
 "nbformat_minor": 5
}
