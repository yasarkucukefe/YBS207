{
 "cells": [
  {
   "cell_type": "code",
   "execution_count": 1,
   "id": "0d90eb2d",
   "metadata": {},
   "outputs": [],
   "source": [
    "a = 1"
   ]
  },
  {
   "cell_type": "code",
   "execution_count": 2,
   "id": "90fc5ef9",
   "metadata": {},
   "outputs": [],
   "source": [
    "b = 2"
   ]
  },
  {
   "cell_type": "code",
   "execution_count": 3,
   "id": "09785b52",
   "metadata": {},
   "outputs": [],
   "source": [
    "a:int = 2 # Python Type Hinting. Bir değişkenin veri türü belirtilebilir."
   ]
  },
  {
   "cell_type": "code",
   "execution_count": 4,
   "id": "fe44e485",
   "metadata": {},
   "outputs": [],
   "source": [
    "def topla(a:int, b:int):\n",
    "    return a + b"
   ]
  },
  {
   "cell_type": "code",
   "execution_count": 5,
   "id": "c21802b2",
   "metadata": {},
   "outputs": [
    {
     "data": {
      "text/plain": [
       "7"
      ]
     },
     "execution_count": 5,
     "metadata": {},
     "output_type": "execute_result"
    }
   ],
   "source": [
    "topla(3, 4)"
   ]
  },
  {
   "cell_type": "code",
   "execution_count": 6,
   "id": "0ac3ed6e",
   "metadata": {},
   "outputs": [],
   "source": [
    "def esit_mi(a:int, b:int)->bool:\n",
    "    return a == b"
   ]
  },
  {
   "cell_type": "code",
   "execution_count": 7,
   "id": "8fb6b179",
   "metadata": {},
   "outputs": [
    {
     "data": {
      "text/plain": [
       "True"
      ]
     },
     "execution_count": 7,
     "metadata": {},
     "output_type": "execute_result"
    }
   ],
   "source": [
    "a:int = 2\n",
    "b:int = 2\n",
    "esit_mi(a, b)"
   ]
  },
  {
   "cell_type": "code",
   "execution_count": 8,
   "id": "ebdd2a79",
   "metadata": {},
   "outputs": [],
   "source": [
    "def hepsi_buyuk_harf(kelime:str)->bool:\n",
    "    return kelime.isupper()"
   ]
  },
  {
   "cell_type": "code",
   "execution_count": 9,
   "id": "f960e4f6",
   "metadata": {},
   "outputs": [
    {
     "data": {
      "text/plain": [
       "True"
      ]
     },
     "execution_count": 9,
     "metadata": {},
     "output_type": "execute_result"
    }
   ],
   "source": [
    "hepsi_buyuk_harf(\"ELMA\")"
   ]
  },
  {
   "cell_type": "code",
   "execution_count": 10,
   "id": "dcd2e9d5",
   "metadata": {},
   "outputs": [],
   "source": [
    "liste:list[str] = [] # Listeler de veri türü belirtilerek oluşturulabilir."
   ]
  },
  {
   "cell_type": "code",
   "execution_count": 13,
   "id": "ab6f4960",
   "metadata": {},
   "outputs": [],
   "source": [
    "liste.append('Erik')\n",
    "liste.append('Üzüm')"
   ]
  },
  {
   "cell_type": "markdown",
   "id": "23f5ea56",
   "metadata": {},
   "source": [
    "## Hash Table"
   ]
  },
  {
   "cell_type": "code",
   "execution_count": 14,
   "id": "63553dc3",
   "metadata": {},
   "outputs": [],
   "source": [
    "# Hash table algoritması Python'da \"dictionary\" veri türü ile kullanılır.\n",
    "fiyatlar = {'latte':33, 'filtre kahve':26, 'türk kahvesi':25}"
   ]
  },
  {
   "cell_type": "code",
   "execution_count": 15,
   "id": "fab13528",
   "metadata": {},
   "outputs": [
    {
     "data": {
      "text/plain": [
       "33"
      ]
     },
     "execution_count": 15,
     "metadata": {},
     "output_type": "execute_result"
    }
   ],
   "source": [
    "fiyatlar['latte']"
   ]
  },
  {
   "cell_type": "code",
   "execution_count": 16,
   "id": "a8f54446",
   "metadata": {},
   "outputs": [],
   "source": [
    "fiyatlar['americano']=28"
   ]
  },
  {
   "cell_type": "code",
   "execution_count": 17,
   "id": "970fa8ab",
   "metadata": {},
   "outputs": [
    {
     "data": {
      "text/plain": [
       "{'latte': 33, 'filtre kahve': 26, 'türk kahvesi': 25, 'americano': 28}"
      ]
     },
     "execution_count": 17,
     "metadata": {},
     "output_type": "execute_result"
    }
   ],
   "source": [
    "fiyatlar"
   ]
  },
  {
   "cell_type": "code",
   "execution_count": 18,
   "id": "770a1e1c",
   "metadata": {},
   "outputs": [],
   "source": [
    "# Python'da dictionary datatype olmasa => anahtar:deger?"
   ]
  },
  {
   "cell_type": "code",
   "execution_count": 19,
   "id": "21e0b76f",
   "metadata": {},
   "outputs": [],
   "source": [
    "liste_fiyatlar = []\n",
    "liste_fiyatlar.append(['latte', 33])\n",
    "liste_fiyatlar.append(['filtre kahve', 26])\n",
    "liste_fiyatlar.append(['türk kahvesi', 25])\n",
    "liste_fiyatlar.append(['americano', 28])"
   ]
  },
  {
   "cell_type": "code",
   "execution_count": 20,
   "id": "b7e43dd2",
   "metadata": {},
   "outputs": [
    {
     "data": {
      "text/plain": [
       "[['latte', 33], ['filtre kahve', 26], ['türk kahvesi', 25], ['americano', 28]]"
      ]
     },
     "execution_count": 20,
     "metadata": {},
     "output_type": "execute_result"
    }
   ],
   "source": [
    "liste_fiyatlar"
   ]
  },
  {
   "cell_type": "code",
   "execution_count": 21,
   "id": "38b0a263",
   "metadata": {},
   "outputs": [],
   "source": [
    "def fiyat_gor(urun):\n",
    "    for urun_lst in liste_fiyatlar:\n",
    "        if urun == urun_lst[0]:\n",
    "            return urun_lst[1]\n",
    "    return None"
   ]
  },
  {
   "cell_type": "code",
   "execution_count": 22,
   "id": "3b7e981f",
   "metadata": {},
   "outputs": [
    {
     "data": {
      "text/plain": [
       "28"
      ]
     },
     "execution_count": 22,
     "metadata": {},
     "output_type": "execute_result"
    }
   ],
   "source": [
    "fiyat_gor('americano')"
   ]
  },
  {
   "cell_type": "code",
   "execution_count": 26,
   "id": "5ee21e37",
   "metadata": {},
   "outputs": [
    {
     "data": {
      "text/plain": [
       "8556998778821654298"
      ]
     },
     "execution_count": 26,
     "metadata": {},
     "output_type": "execute_result"
    }
   ],
   "source": [
    "hash('americano')"
   ]
  },
  {
   "cell_type": "code",
   "execution_count": 27,
   "id": "1688042f",
   "metadata": {},
   "outputs": [
    {
     "data": {
      "text/plain": [
       "8556998778821654298"
      ]
     },
     "execution_count": 27,
     "metadata": {},
     "output_type": "execute_result"
    }
   ],
   "source": [
    "hash('americano')"
   ]
  },
  {
   "cell_type": "code",
   "execution_count": 30,
   "id": "f1903010",
   "metadata": {},
   "outputs": [],
   "source": [
    "def fiyat_hash_uret(urun:str)->int:\n",
    "    sum = 0\n",
    "    for harf in urun:\n",
    "        sum += ord(harf)\n",
    "    return sum"
   ]
  },
  {
   "cell_type": "code",
   "execution_count": 29,
   "id": "5e2f437a",
   "metadata": {},
   "outputs": [
    {
     "data": {
      "text/plain": [
       "65"
      ]
     },
     "execution_count": 29,
     "metadata": {},
     "output_type": "execute_result"
    }
   ],
   "source": [
    "ord('A')"
   ]
  },
  {
   "cell_type": "code",
   "execution_count": 40,
   "id": "a7d396da",
   "metadata": {},
   "outputs": [
    {
     "data": {
      "text/plain": [
       "943"
      ]
     },
     "execution_count": 40,
     "metadata": {},
     "output_type": "execute_result"
    }
   ],
   "source": [
    "fiyat_hash_uret('americano')"
   ]
  },
  {
   "cell_type": "code",
   "execution_count": 41,
   "id": "a036d6d4",
   "metadata": {},
   "outputs": [
    {
     "data": {
      "text/plain": [
       "538"
      ]
     },
     "execution_count": 41,
     "metadata": {},
     "output_type": "execute_result"
    }
   ],
   "source": [
    "fiyat_hash_uret('latte')"
   ]
  },
  {
   "cell_type": "code",
   "execution_count": 42,
   "id": "3598bc57",
   "metadata": {},
   "outputs": [
    {
     "data": {
      "text/plain": [
       "1368"
      ]
     },
     "execution_count": 42,
     "metadata": {},
     "output_type": "execute_result"
    }
   ],
   "source": [
    "fiyat_hash_uret('türk kahvesi')"
   ]
  },
  {
   "cell_type": "code",
   "execution_count": 43,
   "id": "75e3419e",
   "metadata": {},
   "outputs": [
    {
     "data": {
      "text/plain": [
       "1205"
      ]
     },
     "execution_count": 43,
     "metadata": {},
     "output_type": "execute_result"
    }
   ],
   "source": [
    "fiyat_hash_uret('filtre kahve')"
   ]
  },
  {
   "cell_type": "code",
   "execution_count": 44,
   "id": "337d8d7c",
   "metadata": {},
   "outputs": [],
   "source": [
    "yeni_liste = [None] * 2000"
   ]
  },
  {
   "cell_type": "code",
   "execution_count": 46,
   "id": "ed8d9d11",
   "metadata": {},
   "outputs": [],
   "source": [
    "yeni_liste[fiyat_hash_uret('americano')] = ['americano',28]"
   ]
  },
  {
   "cell_type": "code",
   "execution_count": 47,
   "id": "f3c5328a",
   "metadata": {},
   "outputs": [
    {
     "data": {
      "text/plain": [
       "['americano', 28]"
      ]
     },
     "execution_count": 47,
     "metadata": {},
     "output_type": "execute_result"
    }
   ],
   "source": [
    "yeni_liste[943]"
   ]
  },
  {
   "cell_type": "code",
   "execution_count": 48,
   "id": "de27b288",
   "metadata": {},
   "outputs": [
    {
     "data": {
      "text/plain": [
       "['americano', 28]"
      ]
     },
     "execution_count": 48,
     "metadata": {},
     "output_type": "execute_result"
    }
   ],
   "source": [
    "#Americano fiyat?\n",
    "yeni_liste[fiyat_hash_uret('americano')]"
   ]
  },
  {
   "cell_type": "code",
   "execution_count": 49,
   "id": "b49b56c6",
   "metadata": {},
   "outputs": [],
   "source": [
    "yeni_liste[fiyat_hash_uret('filtre kahve')] = ['filtre kahve',26]"
   ]
  },
  {
   "cell_type": "code",
   "execution_count": null,
   "id": "93aea53f",
   "metadata": {},
   "outputs": [],
   "source": [
    "def fiyat_hash_uret_limitli(urun:str, limit:int = 10)->int:\n",
    "    sum = 0\n",
    "    for harf in urun:\n",
    "        sum += ord(harf)\n",
    "    return sum"
   ]
  }
 ],
 "metadata": {
  "kernelspec": {
   "display_name": "Python 3 (ipykernel)",
   "language": "python",
   "name": "python3"
  },
  "language_info": {
   "codemirror_mode": {
    "name": "ipython",
    "version": 3
   },
   "file_extension": ".py",
   "mimetype": "text/x-python",
   "name": "python",
   "nbconvert_exporter": "python",
   "pygments_lexer": "ipython3",
   "version": "3.10.8"
  }
 },
 "nbformat": 4,
 "nbformat_minor": 5
}
